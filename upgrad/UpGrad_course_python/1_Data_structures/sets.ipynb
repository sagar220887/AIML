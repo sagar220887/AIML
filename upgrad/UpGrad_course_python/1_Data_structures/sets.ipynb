{
 "cells": [
  {
   "cell_type": "markdown",
   "id": "2c41e81d",
   "metadata": {},
   "source": [
    "# Declaring Sets"
   ]
  },
  {
   "cell_type": "code",
   "execution_count": 1,
   "id": "55206416",
   "metadata": {},
   "outputs": [],
   "source": [
    "# List and Tuples are ordered and have specific positions\n",
    "# Dictionary - No fixed position \n",
    "# Set - Not a position nor a label(key)"
   ]
  },
  {
   "cell_type": "code",
   "execution_count": 2,
   "id": "89069fda",
   "metadata": {},
   "outputs": [
    {
     "name": "stdout",
     "output_type": "stream",
     "text": [
      "{'A', 'B', 'C', 'N', 'E'}\n"
     ]
    }
   ],
   "source": [
    "student_list = ['A', 'A', 'B', 'C', 'C', 'E', 'N']\n",
    "student_set = set(student_list)\n",
    "print(student_set)"
   ]
  },
  {
   "cell_type": "code",
   "execution_count": 3,
   "id": "66303b03",
   "metadata": {},
   "outputs": [
    {
     "name": "stdout",
     "output_type": "stream",
     "text": [
      "{'F', 'A', 'G', 'N'}\n"
     ]
    }
   ],
   "source": [
    "student_list2 = ['A', 'N', 'F', 'N', 'G', 'A']\n",
    "student_set2 = set(student_list2)\n",
    "print(student_set2)"
   ]
  },
  {
   "cell_type": "markdown",
   "id": "6f2e89f9",
   "metadata": {},
   "source": [
    "# Sets - Intersections"
   ]
  },
  {
   "cell_type": "code",
   "execution_count": 4,
   "id": "d03edd88",
   "metadata": {},
   "outputs": [
    {
     "name": "stdout",
     "output_type": "stream",
     "text": [
      "{'A', 'N'}\n"
     ]
    }
   ],
   "source": [
    "intersection_set = student_set.intersection(student_set2)\n",
    "print(intersection_set)"
   ]
  },
  {
   "cell_type": "markdown",
   "id": "610edc12",
   "metadata": {},
   "source": [
    "# Sets - Union"
   ]
  },
  {
   "cell_type": "code",
   "execution_count": 5,
   "id": "8cbb5476",
   "metadata": {},
   "outputs": [
    {
     "name": "stdout",
     "output_type": "stream",
     "text": [
      "{'C', 'A', 'B', 'G', 'F', 'N', 'E'}\n"
     ]
    }
   ],
   "source": [
    "union_set = student_set.union(student_set2)\n",
    "print(union_set)"
   ]
  },
  {
   "cell_type": "markdown",
   "id": "8f1f29f4",
   "metadata": {},
   "source": [
    "# sets - difference"
   ]
  },
  {
   "cell_type": "code",
   "execution_count": 6,
   "id": "a6abfa06",
   "metadata": {},
   "outputs": [
    {
     "name": "stdout",
     "output_type": "stream",
     "text": [
      "{'E', 'C', 'B'}\n"
     ]
    }
   ],
   "source": [
    "# first takes the intersection of 2 sets then subtracts it from the set1\n",
    "diff_set = student_set.difference(student_set2)\n",
    "print(diff_set)"
   ]
  },
  {
   "cell_type": "markdown",
   "id": "598f14cd",
   "metadata": {},
   "source": [
    "# symmetric difference"
   ]
  },
  {
   "cell_type": "code",
   "execution_count": 9,
   "id": "cb7f3366",
   "metadata": {},
   "outputs": [
    {
     "name": "stdout",
     "output_type": "stream",
     "text": [
      "{'E', 'C', 'B'}\n",
      "{'F', 'G'}\n",
      "{'F', 'E', 'C', 'B', 'G'}\n"
     ]
    }
   ],
   "source": [
    "# take the diff of 1st set from 2nd\n",
    "# take the diff of 2nd set from 1st\n",
    "# union both the diff sets\n",
    "\n",
    "set1_diff_set2 = student_set.difference(student_set2)\n",
    "print(set1_diff_set2)\n",
    "set2_diff_set1 = student_set2.difference(student_set)\n",
    "print(set2_diff_set1)\n",
    "symmetric_diff = set1_diff_set2.union(set2_diff_set1)\n",
    "print(symmetric_diff)"
   ]
  },
  {
   "cell_type": "code",
   "execution_count": null,
   "id": "f75ae7f4",
   "metadata": {},
   "outputs": [],
   "source": []
  }
 ],
 "metadata": {
  "kernelspec": {
   "display_name": "Python 3 (ipykernel)",
   "language": "python",
   "name": "python3"
  },
  "language_info": {
   "codemirror_mode": {
    "name": "ipython",
    "version": 3
   },
   "file_extension": ".py",
   "mimetype": "text/x-python",
   "name": "python",
   "nbconvert_exporter": "python",
   "pygments_lexer": "ipython3",
   "version": "3.9.13"
  }
 },
 "nbformat": 4,
 "nbformat_minor": 5
}
