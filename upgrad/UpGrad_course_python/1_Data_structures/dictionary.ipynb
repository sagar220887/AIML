{
 "cells": [
  {
   "cell_type": "code",
   "execution_count": 1,
   "id": "ecab3c6f",
   "metadata": {},
   "outputs": [
    {
     "name": "stdout",
     "output_type": "stream",
     "text": [
      "{'name': 'sagar', 'age': 35, 'address': 'panathur'}\n"
     ]
    }
   ],
   "source": [
    "sample_dict = {'name': 'sagar', 'age': 35, 'address': 'panathur'}\n",
    "print(sample_dict)"
   ]
  },
  {
   "cell_type": "code",
   "execution_count": 2,
   "id": "014db244",
   "metadata": {},
   "outputs": [
    {
     "name": "stdout",
     "output_type": "stream",
     "text": [
      "sagar\n"
     ]
    }
   ],
   "source": [
    "print(sample_dict['name'])"
   ]
  },
  {
   "cell_type": "code",
   "execution_count": 3,
   "id": "d42cfee7",
   "metadata": {},
   "outputs": [
    {
     "name": "stdout",
     "output_type": "stream",
     "text": [
      "35\n"
     ]
    }
   ],
   "source": [
    "print(sample_dict.get('age'))"
   ]
  },
  {
   "cell_type": "code",
   "execution_count": 4,
   "id": "7caca67d",
   "metadata": {},
   "outputs": [
    {
     "name": "stdout",
     "output_type": "stream",
     "text": [
      "IT\n"
     ]
    }
   ],
   "source": [
    "print(sample_dict.get('profession','IT'))"
   ]
  },
  {
   "cell_type": "code",
   "execution_count": 8,
   "id": "6688554f",
   "metadata": {},
   "outputs": [
    {
     "name": "stdout",
     "output_type": "stream",
     "text": [
      "['name', 'age', 'address']\n"
     ]
    }
   ],
   "source": [
    "list_keys = list(sample_dict.keys())\n",
    "print(list_keys)"
   ]
  },
  {
   "cell_type": "code",
   "execution_count": 7,
   "id": "650880c8",
   "metadata": {},
   "outputs": [
    {
     "name": "stdout",
     "output_type": "stream",
     "text": [
      "['sagar', 35, 'panathur']\n"
     ]
    }
   ],
   "source": [
    "list_values = list(sample_dict.values())\n",
    "print(list_values)"
   ]
  },
  {
   "cell_type": "code",
   "execution_count": 10,
   "id": "f8740633",
   "metadata": {},
   "outputs": [
    {
     "name": "stdout",
     "output_type": "stream",
     "text": [
      "True\n",
      "False\n"
     ]
    }
   ],
   "source": [
    "print('age' in sample_dict)\n",
    "print('profession' in sample_dict)"
   ]
  },
  {
   "cell_type": "markdown",
   "id": "d2ed877e",
   "metadata": {},
   "source": [
    "# Create a new Dictionary"
   ]
  },
  {
   "cell_type": "code",
   "execution_count": 13,
   "id": "25d104f5",
   "metadata": {},
   "outputs": [
    {
     "name": "stdout",
     "output_type": "stream",
     "text": [
      "{'country': 'India', 'skills': ['js', 'python']}\n"
     ]
    }
   ],
   "source": [
    "new_dict = dict(country='India', skills=['js', 'python'])\n",
    "print(new_dict)"
   ]
  },
  {
   "cell_type": "markdown",
   "id": "327cb265",
   "metadata": {},
   "source": [
    "# update existing dict with list of key values pair"
   ]
  },
  {
   "cell_type": "code",
   "execution_count": 12,
   "id": "7d577e12",
   "metadata": {},
   "outputs": [
    {
     "name": "stdout",
     "output_type": "stream",
     "text": [
      "{'name': 'sagar', 'age': 35, 'address': 'panathur', 'country': 'India', 'skills': ['js', 'python']}\n"
     ]
    }
   ],
   "source": [
    "sample_dict.update(new_dict)\n",
    "print(sample_dict)"
   ]
  },
  {
   "cell_type": "markdown",
   "id": "0c200c2b",
   "metadata": {},
   "source": [
    "# delete property"
   ]
  },
  {
   "cell_type": "code",
   "execution_count": 15,
   "id": "07d1219b",
   "metadata": {},
   "outputs": [
    {
     "name": "stdout",
     "output_type": "stream",
     "text": [
      "{'name': 'sagar', 'age': 35, 'address': 'panathur', 'skills': ['js', 'python']}\n"
     ]
    }
   ],
   "source": [
    "del sample_dict['country']\n",
    "print(sample_dict)"
   ]
  },
  {
   "cell_type": "code",
   "execution_count": 16,
   "id": "387ce2b0",
   "metadata": {},
   "outputs": [
    {
     "name": "stdout",
     "output_type": "stream",
     "text": [
      "{'address': {'flat': '204', 'apartment': 'jupiter', 'lane': 'boganahalli'}}\n"
     ]
    }
   ],
   "source": [
    "dict2 = {'address': {'flat': '204', 'apartment': 'jupiter', 'lane': 'boganahalli'}}\n",
    "print(dict2)"
   ]
  },
  {
   "cell_type": "code",
   "execution_count": 17,
   "id": "62d88b04",
   "metadata": {},
   "outputs": [
    {
     "name": "stdout",
     "output_type": "stream",
     "text": [
      "boganahalli\n"
     ]
    }
   ],
   "source": [
    "print(dict2['address']['lane'])"
   ]
  },
  {
   "cell_type": "code",
   "execution_count": null,
   "id": "d03636d3",
   "metadata": {},
   "outputs": [],
   "source": []
  }
 ],
 "metadata": {
  "kernelspec": {
   "display_name": "Python 3 (ipykernel)",
   "language": "python",
   "name": "python3"
  },
  "language_info": {
   "codemirror_mode": {
    "name": "ipython",
    "version": 3
   },
   "file_extension": ".py",
   "mimetype": "text/x-python",
   "name": "python",
   "nbconvert_exporter": "python",
   "pygments_lexer": "ipython3",
   "version": "3.9.13"
  }
 },
 "nbformat": 4,
 "nbformat_minor": 5
}
