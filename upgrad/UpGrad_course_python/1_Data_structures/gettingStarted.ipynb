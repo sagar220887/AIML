{
 "cells": [
  {
   "cell_type": "code",
   "execution_count": 1,
   "id": "5ae2b5c6",
   "metadata": {},
   "outputs": [
    {
     "name": "stdout",
     "output_type": "stream",
     "text": [
      "Hello world\n",
      "Enter your name : sagar\n"
     ]
    }
   ],
   "source": [
    "print('Hello world')\n",
    "name = input('Enter your name : ');"
   ]
  },
  {
   "cell_type": "markdown",
   "id": "c2cf5a4a",
   "metadata": {},
   "source": [
    "# This is a title"
   ]
  },
  {
   "cell_type": "markdown",
   "id": "c88b2426",
   "metadata": {},
   "source": [
    "## This is a heading"
   ]
  },
  {
   "cell_type": "markdown",
   "id": "03f33d25",
   "metadata": {},
   "source": [
    "`Python is an easy language`"
   ]
  },
  {
   "cell_type": "markdown",
   "id": "599a6869",
   "metadata": {},
   "source": [
    "`Monospace font`"
   ]
  },
  {
   "cell_type": "code",
   "execution_count": null,
   "id": "d1862bbe",
   "metadata": {},
   "outputs": [],
   "source": []
  }
 ],
 "metadata": {
  "kernelspec": {
   "display_name": "Python 3 (ipykernel)",
   "language": "python",
   "name": "python3"
  },
  "language_info": {
   "codemirror_mode": {
    "name": "ipython",
    "version": 3
   },
   "file_extension": ".py",
   "mimetype": "text/x-python",
   "name": "python",
   "nbconvert_exporter": "python",
   "pygments_lexer": "ipython3",
   "version": "3.9.13"
  }
 },
 "nbformat": 4,
 "nbformat_minor": 5
}
