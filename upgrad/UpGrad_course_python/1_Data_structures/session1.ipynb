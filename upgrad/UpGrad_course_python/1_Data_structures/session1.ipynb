{
 "cells": [
  {
   "cell_type": "code",
   "execution_count": 1,
   "id": "35f997d0",
   "metadata": {},
   "outputs": [
    {
     "name": "stdout",
     "output_type": "stream",
     "text": [
      "hello\n",
      "World\n"
     ]
    }
   ],
   "source": [
    "print('hello\\nWorld')"
   ]
  },
  {
   "cell_type": "code",
   "execution_count": 9,
   "id": "9e579929",
   "metadata": {},
   "outputs": [
    {
     "name": "stdout",
     "output_type": "stream",
     "text": [
      "13\n",
      "-1\n",
      "1\n",
      "11.857142857142858\n"
     ]
    }
   ],
   "source": [
    "a = 6\n",
    "b= 7\n",
    "print(a+b)\n",
    "print(a-b)\n",
    "print(b//a)\n",
    "\n",
    "#BEDMAS\n",
    "print(4 * 5 -9 + 6 / 7)"
   ]
  },
  {
   "cell_type": "code",
   "execution_count": 7,
   "id": "52d96bc7",
   "metadata": {},
   "outputs": [
    {
     "name": "stdout",
     "output_type": "stream",
     "text": [
      "10\n"
     ]
    }
   ],
   "source": [
    "i = 9\n",
    "i += 1\n",
    "print(i)"
   ]
  },
  {
   "cell_type": "code",
   "execution_count": 13,
   "id": "8f1b01c6",
   "metadata": {},
   "outputs": [
    {
     "name": "stdout",
     "output_type": "stream",
     "text": [
      "True\n",
      "True\n",
      "False\n"
     ]
    }
   ],
   "source": [
    "print(3 < 7)\n",
    "print(True or False)\n",
    "print(True and False)"
   ]
  },
  {
   "cell_type": "markdown",
   "id": "6ad49f2e",
   "metadata": {},
   "source": [
    "## rstrip() - removes whitespace from right"
   ]
  },
  {
   "cell_type": "code",
   "execution_count": 15,
   "id": "b59c6c46",
   "metadata": {},
   "outputs": [
    {
     "name": "stdout",
     "output_type": "stream",
     "text": [
      "%%55\n"
     ]
    }
   ],
   "source": [
    "exp = '%%55%%'\n",
    "print(exp.rstrip('%'))"
   ]
  },
  {
   "cell_type": "markdown",
   "id": "ebaf137f",
   "metadata": {},
   "source": [
    "## lstrip() - removes whitespace from left"
   ]
  },
  {
   "cell_type": "code",
   "execution_count": 16,
   "id": "39c5b3c7",
   "metadata": {},
   "outputs": [
    {
     "name": "stdout",
     "output_type": "stream",
     "text": [
      "55%%\n"
     ]
    }
   ],
   "source": [
    "print(exp.lstrip('%'))"
   ]
  },
  {
   "cell_type": "markdown",
   "id": "9b371cb8",
   "metadata": {},
   "source": [
    "## strip() - removes whitespace from both left and right"
   ]
  },
  {
   "cell_type": "code",
   "execution_count": 17,
   "id": "40c25ea1",
   "metadata": {},
   "outputs": [
    {
     "name": "stdout",
     "output_type": "stream",
     "text": [
      "55\n"
     ]
    }
   ],
   "source": [
    "print(exp.strip('%'))"
   ]
  },
  {
   "cell_type": "markdown",
   "id": "b974e6c3",
   "metadata": {},
   "source": [
    "# Indexing & Slicing"
   ]
  },
  {
   "cell_type": "code",
   "execution_count": 18,
   "id": "44aad4f9",
   "metadata": {},
   "outputs": [
    {
     "name": "stdout",
     "output_type": "stream",
     "text": [
      "apples\n"
     ]
    }
   ],
   "source": [
    "val = '2 apples'\n",
    "t = val[2:]\n",
    "print(t)"
   ]
  },
  {
   "cell_type": "code",
   "execution_count": 19,
   "id": "4013bd62",
   "metadata": {},
   "outputs": [
    {
     "name": "stdout",
     "output_type": "stream",
     "text": [
      "2\n"
     ]
    }
   ],
   "source": [
    "t = val[0]\n",
    "print(t)"
   ]
  },
  {
   "cell_type": "code",
   "execution_count": 20,
   "id": "b69a3584",
   "metadata": {},
   "outputs": [
    {
     "name": "stdout",
     "output_type": "stream",
     "text": [
      "app\n"
     ]
    }
   ],
   "source": [
    "t = val[2:5]\n",
    "print(t)"
   ]
  },
  {
   "cell_type": "code",
   "execution_count": 21,
   "id": "e08edf59",
   "metadata": {},
   "outputs": [
    {
     "name": "stdout",
     "output_type": "stream",
     "text": [
      "e\n"
     ]
    }
   ],
   "source": [
    "t = val[-2]\n",
    "print(t)"
   ]
  },
  {
   "cell_type": "code",
   "execution_count": 23,
   "id": "de6904b8",
   "metadata": {},
   "outputs": [
    {
     "name": "stdout",
     "output_type": "stream",
     "text": [
      "2468\n"
     ]
    }
   ],
   "source": [
    "nums = '123456789'\n",
    "# 1 - starting indeex, : - no end index(go till last), 2- skip frequency\n",
    "even_num = nums[1::2]\n",
    "print(even_num)"
   ]
  },
  {
   "cell_type": "code",
   "execution_count": 24,
   "id": "d60c956c",
   "metadata": {},
   "outputs": [
    {
     "name": "stdout",
     "output_type": "stream",
     "text": [
      "13579\n"
     ]
    }
   ],
   "source": [
    "odd_nums = nums[0::2]\n",
    "print(odd_nums)"
   ]
  },
  {
   "cell_type": "code",
   "execution_count": 25,
   "id": "9abbfce4",
   "metadata": {},
   "outputs": [
    {
     "name": "stdout",
     "output_type": "stream",
     "text": [
      "is python easy\n"
     ]
    }
   ],
   "source": [
    "A = 'python'\n",
    "B = 'is'\n",
    "C = 'easy'\n",
    "print(\"{0} {1} {2}\".format(B,A,C))"
   ]
  },
  {
   "cell_type": "code",
   "execution_count": 27,
   "id": "55e62f64",
   "metadata": {},
   "outputs": [
    {
     "name": "stdout",
     "output_type": "stream",
     "text": [
      "['ravi', 'kumar', '009']\n"
     ]
    }
   ],
   "source": [
    "A = 'ravi_kumar_009'\n",
    "t = A.split('_')\n",
    "print(t)"
   ]
  },
  {
   "cell_type": "code",
   "execution_count": 28,
   "id": "7b731f59",
   "metadata": {},
   "outputs": [
    {
     "name": "stdout",
     "output_type": "stream",
     "text": [
      "0\n"
     ]
    }
   ],
   "source": [
    "print(2//3)"
   ]
  },
  {
   "cell_type": "code",
   "execution_count": 29,
   "id": "2b301729",
   "metadata": {},
   "outputs": [
    {
     "name": "stdout",
     "output_type": "stream",
     "text": [
      "0.6666666666666666\n"
     ]
    }
   ],
   "source": [
    "print(2/3)"
   ]
  },
  {
   "cell_type": "code",
   "execution_count": 30,
   "id": "a0b8ce33",
   "metadata": {},
   "outputs": [
    {
     "name": "stdout",
     "output_type": "stream",
     "text": [
      "1\n"
     ]
    }
   ],
   "source": [
    "print(3//2)"
   ]
  },
  {
   "cell_type": "markdown",
   "id": "e8f2fada",
   "metadata": {},
   "source": [
    "# Lists"
   ]
  },
  {
   "cell_type": "code",
   "execution_count": 31,
   "id": "2206649e",
   "metadata": {},
   "outputs": [
    {
     "name": "stdout",
     "output_type": "stream",
     "text": [
      "['python', 'is', 'very', 'easy', 'to']\n"
     ]
    }
   ],
   "source": [
    "list_a = ['python', 'is', 'very', 'easy', 'to', 'learn']\n",
    "list_a.pop();\n",
    "print(list_a)"
   ]
  },
  {
   "cell_type": "code",
   "execution_count": 32,
   "id": "fab1f1a9",
   "metadata": {},
   "outputs": [
    {
     "name": "stdout",
     "output_type": "stream",
     "text": [
      "['python', 'very', 'easy', 'to']\n"
     ]
    }
   ],
   "source": [
    "list_a.pop(1) # 'is' to be removed\n",
    "print(list_a)"
   ]
  },
  {
   "cell_type": "code",
   "execution_count": 33,
   "id": "a03a29b8",
   "metadata": {},
   "outputs": [
    {
     "name": "stdout",
     "output_type": "stream",
     "text": [
      "['python', 'very', 'easy', 'to', 'enjoy!!']\n"
     ]
    }
   ],
   "source": [
    "list_a.append('enjoy!!')\n",
    "print(list_a)"
   ]
  },
  {
   "cell_type": "code",
   "execution_count": 34,
   "id": "885151a5",
   "metadata": {},
   "outputs": [
    {
     "name": "stdout",
     "output_type": "stream",
     "text": [
      "['python', 'very', 'easy', 'to']\n"
     ]
    }
   ],
   "source": [
    "list_a.remove('enjoy!!')\n",
    "print(list_a)"
   ]
  },
  {
   "cell_type": "markdown",
   "id": "acbf136c",
   "metadata": {},
   "source": [
    "# String -> List"
   ]
  },
  {
   "cell_type": "code",
   "execution_count": 39,
   "id": "a4dc4fcd",
   "metadata": {},
   "outputs": [
    {
     "name": "stdout",
     "output_type": "stream",
     "text": [
      "I am not well today. Will be ooo\n"
     ]
    }
   ],
   "source": [
    "msg = 'I am not well today. Will be ooo'\n",
    "print(msg)"
   ]
  },
  {
   "cell_type": "code",
   "execution_count": 45,
   "id": "8cb2295a",
   "metadata": {},
   "outputs": [
    {
     "name": "stdout",
     "output_type": "stream",
     "text": [
      "['I am not well today', ' Will be ooo']\n"
     ]
    }
   ],
   "source": [
    "list_msg = msg.split('.')\n",
    "print(list_msg)"
   ]
  },
  {
   "cell_type": "code",
   "execution_count": 41,
   "id": "973eb449",
   "metadata": {},
   "outputs": [
    {
     "name": "stdout",
     "output_type": "stream",
     "text": [
      "I am not well today &  Will be ooo\n"
     ]
    }
   ],
   "source": [
    "string_msg = \" & \".join(list_msg)\n",
    "print(string_msg)"
   ]
  },
  {
   "cell_type": "code",
   "execution_count": 44,
   "id": "aeca872f",
   "metadata": {},
   "outputs": [
    {
     "name": "stdout",
     "output_type": "stream",
     "text": [
      "I am not well today. Will be oooI am not well today &  Will be ooo\n"
     ]
    }
   ],
   "source": [
    "print(msg + string_msg)"
   ]
  },
  {
   "cell_type": "code",
   "execution_count": 46,
   "id": "2c696b82",
   "metadata": {},
   "outputs": [
    {
     "name": "stdout",
     "output_type": "stream",
     "text": [
      "['I am not well today', ' Will be ooo', 'I am not well today', ' Will be ooo']\n"
     ]
    }
   ],
   "source": [
    "print(list_msg + list_msg)"
   ]
  },
  {
   "cell_type": "code",
   "execution_count": 47,
   "id": "8bfb72f7",
   "metadata": {},
   "outputs": [
    {
     "name": "stdout",
     "output_type": "stream",
     "text": [
      "['I am not well today', ' Will be ooo', 'I am not well today', ' Will be ooo', 'I am not well today', ' Will be ooo', 'I am not well today', ' Will be ooo']\n"
     ]
    }
   ],
   "source": [
    "print(list_msg * 4)"
   ]
  },
  {
   "cell_type": "code",
   "execution_count": 48,
   "id": "27f0c086",
   "metadata": {},
   "outputs": [
    {
     "name": "stdout",
     "output_type": "stream",
     "text": [
      "[15, 7, 21, 9, 4, 32, 88]\n"
     ]
    }
   ],
   "source": [
    "nums = [15, 7, 21, 9, 4, 32, 88]\n",
    "print(nums)"
   ]
  },
  {
   "cell_type": "code",
   "execution_count": 49,
   "id": "9345224a",
   "metadata": {},
   "outputs": [
    {
     "name": "stdout",
     "output_type": "stream",
     "text": [
      "[4, 7, 9, 15, 21, 32, 88]\n"
     ]
    }
   ],
   "source": [
    "print(sorted(nums))"
   ]
  },
  {
   "cell_type": "code",
   "execution_count": 50,
   "id": "6b3e6f49",
   "metadata": {},
   "outputs": [
    {
     "name": "stdout",
     "output_type": "stream",
     "text": [
      "88\n"
     ]
    }
   ],
   "source": [
    "print(max(nums))"
   ]
  },
  {
   "cell_type": "code",
   "execution_count": 51,
   "id": "a5923d42",
   "metadata": {},
   "outputs": [
    {
     "name": "stdout",
     "output_type": "stream",
     "text": [
      "4\n"
     ]
    }
   ],
   "source": [
    "print(min(nums))"
   ]
  },
  {
   "cell_type": "code",
   "execution_count": 52,
   "id": "c001f29d",
   "metadata": {},
   "outputs": [
    {
     "name": "stdout",
     "output_type": "stream",
     "text": [
      "[]\n"
     ]
    }
   ],
   "source": [
    "word = ['1', '2', '3']\n",
    "word[ : ] = []\n",
    "print(word)"
   ]
  },
  {
   "cell_type": "code",
   "execution_count": null,
   "id": "c75201d8",
   "metadata": {},
   "outputs": [],
   "source": []
  }
 ],
 "metadata": {
  "kernelspec": {
   "display_name": "Python 3 (ipykernel)",
   "language": "python",
   "name": "python3"
  },
  "language_info": {
   "codemirror_mode": {
    "name": "ipython",
    "version": 3
   },
   "file_extension": ".py",
   "mimetype": "text/x-python",
   "name": "python",
   "nbconvert_exporter": "python",
   "pygments_lexer": "ipython3",
   "version": "3.9.13"
  }
 },
 "nbformat": 4,
 "nbformat_minor": 5
}
