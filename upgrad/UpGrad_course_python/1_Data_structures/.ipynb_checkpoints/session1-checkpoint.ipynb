{
 "cells": [
  {
   "cell_type": "code",
   "execution_count": 1,
   "id": "35f997d0",
   "metadata": {},
   "outputs": [
    {
     "name": "stdout",
     "output_type": "stream",
     "text": [
      "hello\n",
      "World\n"
     ]
    }
   ],
   "source": [
    "print('hello\\nWorld')"
   ]
  },
  {
   "cell_type": "code",
   "execution_count": 9,
   "id": "888d654a",
   "metadata": {},
   "outputs": [
    {
     "name": "stdout",
     "output_type": "stream",
     "text": [
      "13\n",
      "-1\n",
      "1\n",
      "11.857142857142858\n"
     ]
    }
   ],
   "source": [
    "a = 6\n",
    "b= 7\n",
    "print(a+b)\n",
    "print(a-b)\n",
    "print(b//a)\n",
    "\n",
    "#BEDMAS\n",
    "print(4 * 5 -9 + 6 / 7)"
   ]
  },
  {
   "cell_type": "code",
   "execution_count": 7,
   "id": "d7f38732",
   "metadata": {},
   "outputs": [
    {
     "name": "stdout",
     "output_type": "stream",
     "text": [
      "10\n"
     ]
    }
   ],
   "source": [
    "i = 9\n",
    "i += 1\n",
    "print(i)"
   ]
  },
  {
   "cell_type": "code",
   "execution_count": 13,
   "id": "3d91ef5d",
   "metadata": {},
   "outputs": [
    {
     "name": "stdout",
     "output_type": "stream",
     "text": [
      "True\n",
      "True\n",
      "False\n"
     ]
    }
   ],
   "source": [
    "print(3 < 7)\n",
    "print(True or False)\n",
    "print(True and False)"
   ]
  },
  {
   "cell_type": "markdown",
   "id": "bf51811d",
   "metadata": {},
   "source": [
    "## rstrip() - removes whitespace from right"
   ]
  },
  {
   "cell_type": "code",
   "execution_count": 15,
   "id": "d5d0e782",
   "metadata": {},
   "outputs": [
    {
     "name": "stdout",
     "output_type": "stream",
     "text": [
      "%%55\n"
     ]
    }
   ],
   "source": [
    "exp = '%%55%%'\n",
    "print(exp.rstrip('%'))"
   ]
  },
  {
   "cell_type": "markdown",
   "id": "f0f501ac",
   "metadata": {},
   "source": [
    "## lstrip() - removes whitespace from left"
   ]
  },
  {
   "cell_type": "code",
   "execution_count": 16,
   "id": "1d371996",
   "metadata": {},
   "outputs": [
    {
     "name": "stdout",
     "output_type": "stream",
     "text": [
      "55%%\n"
     ]
    }
   ],
   "source": [
    "print(exp.lstrip('%'))"
   ]
  },
  {
   "cell_type": "markdown",
   "id": "672bad4b",
   "metadata": {},
   "source": [
    "## strip() - removes whitespace from both left and right"
   ]
  },
  {
   "cell_type": "code",
   "execution_count": 17,
   "id": "e8d1d018",
   "metadata": {},
   "outputs": [
    {
     "name": "stdout",
     "output_type": "stream",
     "text": [
      "55\n"
     ]
    }
   ],
   "source": [
    "print(exp.strip('%'))"
   ]
  },
  {
   "cell_type": "markdown",
   "id": "cca030d4",
   "metadata": {},
   "source": [
    "# Indexing & Slicing"
   ]
  },
  {
   "cell_type": "code",
   "execution_count": 18,
   "id": "1f695687",
   "metadata": {},
   "outputs": [
    {
     "name": "stdout",
     "output_type": "stream",
     "text": [
      "apples\n"
     ]
    }
   ],
   "source": [
    "val = '2 apples'\n",
    "t = val[2:]\n",
    "print(t)"
   ]
  },
  {
   "cell_type": "code",
   "execution_count": 19,
   "id": "b5d07f40",
   "metadata": {},
   "outputs": [
    {
     "name": "stdout",
     "output_type": "stream",
     "text": [
      "2\n"
     ]
    }
   ],
   "source": [
    "t = val[0]\n",
    "print(t)"
   ]
  },
  {
   "cell_type": "code",
   "execution_count": 20,
   "id": "7f82605c",
   "metadata": {},
   "outputs": [
    {
     "name": "stdout",
     "output_type": "stream",
     "text": [
      "app\n"
     ]
    }
   ],
   "source": [
    "t = val[2:5]\n",
    "print(t)"
   ]
  },
  {
   "cell_type": "code",
   "execution_count": 21,
   "id": "e8d611e9",
   "metadata": {},
   "outputs": [
    {
     "name": "stdout",
     "output_type": "stream",
     "text": [
      "e\n"
     ]
    }
   ],
   "source": [
    "t = val[-2]\n",
    "print(t)"
   ]
  },
  {
   "cell_type": "code",
   "execution_count": 23,
   "id": "ba84fa20",
   "metadata": {},
   "outputs": [
    {
     "name": "stdout",
     "output_type": "stream",
     "text": [
      "2468\n"
     ]
    }
   ],
   "source": [
    "nums = '123456789'\n",
    "# 1 - starting indeex, : - no end index(go till last), 2- skip frequency\n",
    "even_num = nums[1::2]\n",
    "print(even_num)"
   ]
  },
  {
   "cell_type": "code",
   "execution_count": 24,
   "id": "9cd87c31",
   "metadata": {},
   "outputs": [
    {
     "name": "stdout",
     "output_type": "stream",
     "text": [
      "13579\n"
     ]
    }
   ],
   "source": [
    "odd_nums = nums[0::2]\n",
    "print(odd_nums)"
   ]
  },
  {
   "cell_type": "code",
   "execution_count": 25,
   "id": "34e2158d",
   "metadata": {},
   "outputs": [
    {
     "name": "stdout",
     "output_type": "stream",
     "text": [
      "is python easy\n"
     ]
    }
   ],
   "source": [
    "A = 'python'\n",
    "B = 'is'\n",
    "C = 'easy'\n",
    "print(\"{0} {1} {2}\".format(B,A,C))"
   ]
  },
  {
   "cell_type": "code",
   "execution_count": 27,
   "id": "f6f30e16",
   "metadata": {},
   "outputs": [
    {
     "name": "stdout",
     "output_type": "stream",
     "text": [
      "['ravi', 'kumar', '009']\n"
     ]
    }
   ],
   "source": [
    "A = 'ravi_kumar_009'\n",
    "t = A.split('_')\n",
    "print(t)"
   ]
  },
  {
   "cell_type": "code",
   "execution_count": 28,
   "id": "63674307",
   "metadata": {},
   "outputs": [
    {
     "name": "stdout",
     "output_type": "stream",
     "text": [
      "0\n"
     ]
    }
   ],
   "source": [
    "print(2//3)"
   ]
  },
  {
   "cell_type": "code",
   "execution_count": 29,
   "id": "ac2216c2",
   "metadata": {},
   "outputs": [
    {
     "name": "stdout",
     "output_type": "stream",
     "text": [
      "0.6666666666666666\n"
     ]
    }
   ],
   "source": [
    "print(2/3)"
   ]
  },
  {
   "cell_type": "code",
   "execution_count": 30,
   "id": "6f8809af",
   "metadata": {},
   "outputs": [
    {
     "name": "stdout",
     "output_type": "stream",
     "text": [
      "1\n"
     ]
    }
   ],
   "source": [
    "print(3//2)"
   ]
  },
  {
   "cell_type": "markdown",
   "id": "409f1e3c",
   "metadata": {},
   "source": [
    "# Lists"
   ]
  },
  {
   "cell_type": "code",
   "execution_count": 31,
   "id": "576c2055",
   "metadata": {},
   "outputs": [
    {
     "name": "stdout",
     "output_type": "stream",
     "text": [
      "['python', 'is', 'very', 'easy', 'to']\n"
     ]
    }
   ],
   "source": [
    "list_a = ['python', 'is', 'very', 'easy', 'to', 'learn']\n",
    "list_a.pop();\n",
    "print(list_a)"
   ]
  },
  {
   "cell_type": "code",
   "execution_count": 32,
   "id": "09ebb5e3",
   "metadata": {},
   "outputs": [
    {
     "name": "stdout",
     "output_type": "stream",
     "text": [
      "['python', 'very', 'easy', 'to']\n"
     ]
    }
   ],
   "source": [
    "list_a.pop(1) # 'is' to be removed\n",
    "print(list_a)"
   ]
  },
  {
   "cell_type": "code",
   "execution_count": 33,
   "id": "edef15e7",
   "metadata": {},
   "outputs": [
    {
     "name": "stdout",
     "output_type": "stream",
     "text": [
      "['python', 'very', 'easy', 'to', 'enjoy!!']\n"
     ]
    }
   ],
   "source": [
    "list_a.append('enjoy!!')\n",
    "print(list_a)"
   ]
  },
  {
   "cell_type": "code",
   "execution_count": 34,
   "id": "c2872b71",
   "metadata": {},
   "outputs": [
    {
     "name": "stdout",
     "output_type": "stream",
     "text": [
      "['python', 'very', 'easy', 'to']\n"
     ]
    }
   ],
   "source": [
    "list_a.remove('enjoy!!')\n",
    "print(list_a)"
   ]
  },
  {
   "cell_type": "markdown",
   "id": "ea04485d",
   "metadata": {},
   "source": [
    "# String -> List"
   ]
  },
  {
   "cell_type": "code",
   "execution_count": 39,
   "id": "ba6f9fd4",
   "metadata": {},
   "outputs": [
    {
     "name": "stdout",
     "output_type": "stream",
     "text": [
      "I am not well today. Will be ooo\n"
     ]
    }
   ],
   "source": [
    "msg = 'I am not well today. Will be ooo'\n",
    "print(msg)"
   ]
  },
  {
   "cell_type": "code",
   "execution_count": 45,
   "id": "92c74e7d",
   "metadata": {},
   "outputs": [
    {
     "name": "stdout",
     "output_type": "stream",
     "text": [
      "['I am not well today', ' Will be ooo']\n"
     ]
    }
   ],
   "source": [
    "list_msg = msg.split('.')\n",
    "print(list_msg)"
   ]
  },
  {
   "cell_type": "code",
   "execution_count": 41,
   "id": "675d99a5",
   "metadata": {},
   "outputs": [
    {
     "name": "stdout",
     "output_type": "stream",
     "text": [
      "I am not well today &  Will be ooo\n"
     ]
    }
   ],
   "source": [
    "string_msg = \" & \".join(list_msg)\n",
    "print(string_msg)"
   ]
  },
  {
   "cell_type": "code",
   "execution_count": 44,
   "id": "e1a3406a",
   "metadata": {},
   "outputs": [
    {
     "name": "stdout",
     "output_type": "stream",
     "text": [
      "I am not well today. Will be oooI am not well today &  Will be ooo\n"
     ]
    }
   ],
   "source": [
    "print(msg + string_msg)"
   ]
  },
  {
   "cell_type": "code",
   "execution_count": 46,
   "id": "910dd70a",
   "metadata": {},
   "outputs": [
    {
     "name": "stdout",
     "output_type": "stream",
     "text": [
      "['I am not well today', ' Will be ooo', 'I am not well today', ' Will be ooo']\n"
     ]
    }
   ],
   "source": [
    "print(list_msg + list_msg)"
   ]
  },
  {
   "cell_type": "code",
   "execution_count": 47,
   "id": "3d952e73",
   "metadata": {},
   "outputs": [
    {
     "name": "stdout",
     "output_type": "stream",
     "text": [
      "['I am not well today', ' Will be ooo', 'I am not well today', ' Will be ooo', 'I am not well today', ' Will be ooo', 'I am not well today', ' Will be ooo']\n"
     ]
    }
   ],
   "source": [
    "print(list_msg * 4)"
   ]
  },
  {
   "cell_type": "code",
   "execution_count": 48,
   "id": "c55389ef",
   "metadata": {},
   "outputs": [
    {
     "name": "stdout",
     "output_type": "stream",
     "text": [
      "[15, 7, 21, 9, 4, 32, 88]\n"
     ]
    }
   ],
   "source": [
    "nums = [15, 7, 21, 9, 4, 32, 88]\n",
    "print(nums)"
   ]
  },
  {
   "cell_type": "code",
   "execution_count": 49,
   "id": "33272fef",
   "metadata": {},
   "outputs": [
    {
     "name": "stdout",
     "output_type": "stream",
     "text": [
      "[4, 7, 9, 15, 21, 32, 88]\n"
     ]
    }
   ],
   "source": [
    "print(sorted(nums))"
   ]
  },
  {
   "cell_type": "code",
   "execution_count": 50,
   "id": "ec41b569",
   "metadata": {},
   "outputs": [
    {
     "name": "stdout",
     "output_type": "stream",
     "text": [
      "88\n"
     ]
    }
   ],
   "source": [
    "print(max(nums))"
   ]
  },
  {
   "cell_type": "code",
   "execution_count": 51,
   "id": "873bc2ae",
   "metadata": {},
   "outputs": [
    {
     "name": "stdout",
     "output_type": "stream",
     "text": [
      "4\n"
     ]
    }
   ],
   "source": [
    "print(min(nums))"
   ]
  },
  {
   "cell_type": "code",
   "execution_count": null,
   "id": "6102762e",
   "metadata": {},
   "outputs": [],
   "source": []
  }
 ],
 "metadata": {
  "kernelspec": {
   "display_name": "Python 3 (ipykernel)",
   "language": "python",
   "name": "python3"
  },
  "language_info": {
   "codemirror_mode": {
    "name": "ipython",
    "version": 3
   },
   "file_extension": ".py",
   "mimetype": "text/x-python",
   "name": "python",
   "nbconvert_exporter": "python",
   "pygments_lexer": "ipython3",
   "version": "3.9.13"
  }
 },
 "nbformat": 4,
 "nbformat_minor": 5
}
