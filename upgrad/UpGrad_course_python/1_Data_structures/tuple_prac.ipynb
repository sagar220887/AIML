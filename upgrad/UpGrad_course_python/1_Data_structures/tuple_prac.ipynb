{
 "cells": [
  {
   "cell_type": "code",
   "execution_count": 2,
   "id": "a69e131b",
   "metadata": {},
   "outputs": [
    {
     "name": "stdout",
     "output_type": "stream",
     "text": [
      "('sagar', 'panathur', '560103', 'DJ')\n",
      "DJ\n"
     ]
    }
   ],
   "source": [
    "sample_tuple = ('sagar', 'panathur', '560103', 'DJ')\n",
    "print(sample_tuple)\n",
    "print(sample_tuple[3])"
   ]
  },
  {
   "cell_type": "code",
   "execution_count": 5,
   "id": "30a9f9fe",
   "metadata": {},
   "outputs": [
    {
     "name": "stdout",
     "output_type": "stream",
     "text": [
      "['sagar', 'panathur', '560103', 'DJ']\n",
      "('sagar', 'panathur', '560103', 'DJ')\n"
     ]
    }
   ],
   "source": [
    "c= list(sample_tuple)\n",
    "print(c)\n",
    "d= tuple(c)\n",
    "print(d)"
   ]
  },
  {
   "cell_type": "code",
   "execution_count": 6,
   "id": "06b07936",
   "metadata": {},
   "outputs": [
    {
     "name": "stdout",
     "output_type": "stream",
     "text": [
      "('rt', [6, 7, 8])\n"
     ]
    }
   ],
   "source": [
    "a = ('rt', [6,7,8])\n",
    "print(a)"
   ]
  },
  {
   "cell_type": "code",
   "execution_count": null,
   "id": "8e7d4b6e",
   "metadata": {},
   "outputs": [],
   "source": []
  }
 ],
 "metadata": {
  "kernelspec": {
   "display_name": "Python 3 (ipykernel)",
   "language": "python",
   "name": "python3"
  },
  "language_info": {
   "codemirror_mode": {
    "name": "ipython",
    "version": 3
   },
   "file_extension": ".py",
   "mimetype": "text/x-python",
   "name": "python",
   "nbconvert_exporter": "python",
   "pygments_lexer": "ipython3",
   "version": "3.9.13"
  }
 },
 "nbformat": 4,
 "nbformat_minor": 5
}
