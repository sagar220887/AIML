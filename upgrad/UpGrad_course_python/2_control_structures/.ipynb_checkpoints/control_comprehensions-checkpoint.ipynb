{
 "cells": [
  {
   "cell_type": "markdown",
   "id": "ffcb9e9a",
   "metadata": {},
   "source": [
    "# Condition - if-else"
   ]
  },
  {
   "cell_type": "code",
   "execution_count": 2,
   "id": "0625625e",
   "metadata": {},
   "outputs": [
    {
     "name": "stdout",
     "output_type": "stream",
     "text": [
      "A\n"
     ]
    }
   ],
   "source": [
    "if True or True and False:\n",
    "    print('A')"
   ]
  },
  {
   "cell_type": "markdown",
   "id": "050589c8",
   "metadata": {},
   "source": [
    "# For loop"
   ]
  },
  {
   "cell_type": "code",
   "execution_count": 3,
   "id": "4d734221",
   "metadata": {},
   "outputs": [
    {
     "name": "stdout",
     "output_type": "stream",
     "text": [
      "1\n",
      "2\n",
      "3\n",
      "4\n",
      "5\n",
      "6\n",
      "7\n",
      "8\n",
      "9\n"
     ]
    }
   ],
   "source": [
    "for i in range(1,10):\n",
    "    print(i)"
   ]
  },
  {
   "cell_type": "code",
   "execution_count": 4,
   "id": "e3375b65",
   "metadata": {},
   "outputs": [
    {
     "name": "stdout",
     "output_type": "stream",
     "text": [
      "1\n",
      "3\n",
      "5\n",
      "7\n",
      "9\n"
     ]
    }
   ],
   "source": [
    "for i in range(1, 10, 2):\n",
    "    print(i)"
   ]
  },
  {
   "cell_type": "code",
   "execution_count": 5,
   "id": "fd35aa06",
   "metadata": {},
   "outputs": [
    {
     "name": "stdout",
     "output_type": "stream",
     "text": [
      "P\n",
      "y\n",
      "t\n",
      "h\n",
      "o\n",
      "n\n",
      " \n",
      "i\n",
      "s\n",
      " \n",
      "e\n",
      "a\n",
      "s\n",
      "y\n"
     ]
    }
   ],
   "source": [
    "phrase = 'Python is easy'\n",
    "for char in phrase:\n",
    "    print(char)"
   ]
  },
  {
   "cell_type": "markdown",
   "id": "34cda9f7",
   "metadata": {},
   "source": [
    "## Getting index of element in for loop"
   ]
  },
  {
   "cell_type": "code",
   "execution_count": 6,
   "id": "5bf75645",
   "metadata": {},
   "outputs": [
    {
     "name": "stdout",
     "output_type": "stream",
     "text": [
      "P 0\n",
      "y 1\n",
      "t 2\n",
      "h 3\n",
      "o 4\n",
      "n 5\n",
      "  6\n",
      "i 7\n",
      "s 8\n",
      "  9\n",
      "e 10\n",
      "a 11\n",
      "s 12\n",
      "y 13\n"
     ]
    }
   ],
   "source": [
    "for n,alphabet in enumerate(phrase):\n",
    "    print(alphabet,n)"
   ]
  },
  {
   "cell_type": "markdown",
   "id": "9d97921c",
   "metadata": {},
   "source": [
    "## break"
   ]
  },
  {
   "cell_type": "code",
   "execution_count": 8,
   "id": "f241c9f2",
   "metadata": {},
   "outputs": [
    {
     "name": "stdout",
     "output_type": "stream",
     "text": [
      "0\n",
      "1\n",
      "2\n",
      "3\n",
      "4\n",
      "5\n",
      "6\n",
      "7\n",
      "8\n",
      "9\n",
      "10\n",
      "11\n",
      "12\n",
      "13\n",
      "14\n",
      "15\n",
      "16\n",
      "17\n",
      "18\n",
      "19\n",
      "20\n",
      "21\n"
     ]
    }
   ],
   "source": [
    "for i in range(100):\n",
    "    print(i)\n",
    "    if i>20:\n",
    "        break\n",
    "        print(\"Hello\")"
   ]
  },
  {
   "cell_type": "markdown",
   "id": "694ccb9d",
   "metadata": {},
   "source": [
    "## pass - it allows u 2 execute the lines of code after pass"
   ]
  },
  {
   "cell_type": "code",
   "execution_count": 10,
   "id": "a001b9bc",
   "metadata": {},
   "outputs": [
    {
     "name": "stdout",
     "output_type": "stream",
     "text": [
      "0\n",
      "1\n",
      "2\n",
      "3\n",
      "4\n",
      "5\n",
      "6\n",
      "Hello\n",
      "7\n",
      "Hello\n",
      "8\n",
      "Hello\n",
      "9\n",
      "Hello\n"
     ]
    }
   ],
   "source": [
    "for i in range(10):\n",
    "    print(i)\n",
    "    if i>5:\n",
    "        pass\n",
    "        print(\"Hello\")"
   ]
  },
  {
   "cell_type": "markdown",
   "id": "63002dee",
   "metadata": {},
   "source": [
    "## continue - it goes to the next loop - not executing the below code"
   ]
  },
  {
   "cell_type": "code",
   "execution_count": 11,
   "id": "3dd91442",
   "metadata": {},
   "outputs": [
    {
     "name": "stdout",
     "output_type": "stream",
     "text": [
      "0\n",
      "1\n",
      "2\n",
      "3\n",
      "4\n",
      "5\n",
      "6\n",
      "7\n",
      "8\n",
      "9\n"
     ]
    }
   ],
   "source": [
    "for i in range(10):\n",
    "    print(i)\n",
    "    if i>5:\n",
    "        continue\n",
    "        print(\"Hello\")"
   ]
  },
  {
   "cell_type": "markdown",
   "id": "74baed0f",
   "metadata": {},
   "source": [
    "# looping dictionary items and keys"
   ]
  },
  {
   "cell_type": "code",
   "execution_count": 12,
   "id": "2cbbfe1f",
   "metadata": {},
   "outputs": [
    {
     "name": "stdout",
     "output_type": "stream",
     "text": [
      "{'name': 'sagar', 'age': 35, 'address': 'DJ-204', 'profession': 'IT'}\n"
     ]
    }
   ],
   "source": [
    "sample_dict = {'name': 'sagar', 'age': 35, 'address': 'DJ-204', 'profession': 'IT'}\n",
    "print(sample_dict)"
   ]
  },
  {
   "cell_type": "code",
   "execution_count": 14,
   "id": "6d130ae9",
   "metadata": {},
   "outputs": [
    {
     "name": "stdout",
     "output_type": "stream",
     "text": [
      "['name', 'age', 'address', 'profession']\n"
     ]
    }
   ],
   "source": [
    "# getting the keys of the dictionary\n",
    "print(list(sample_dict.keys()))"
   ]
  },
  {
   "cell_type": "code",
   "execution_count": 18,
   "id": "c55a07c2",
   "metadata": {},
   "outputs": [
    {
     "name": "stdout",
     "output_type": "stream",
     "text": [
      "name\n",
      "age\n",
      "address\n",
      "profession\n"
     ]
    }
   ],
   "source": [
    "for i in sample_dict:\n",
    "    print(i)"
   ]
  },
  {
   "cell_type": "code",
   "execution_count": 15,
   "id": "faf83f07",
   "metadata": {},
   "outputs": [
    {
     "name": "stdout",
     "output_type": "stream",
     "text": [
      "name sagar\n",
      "age 35\n",
      "address DJ-204\n",
      "profession IT\n"
     ]
    }
   ],
   "source": [
    "## Getting both keys & values of a dict\n",
    "for key,value in sample_dict.items():\n",
    "    print(key,value)"
   ]
  },
  {
   "cell_type": "markdown",
   "id": "8354c70d",
   "metadata": {},
   "source": [
    "# while loop"
   ]
  },
  {
   "cell_type": "code",
   "execution_count": 16,
   "id": "de683e69",
   "metadata": {},
   "outputs": [
    {
     "name": "stdout",
     "output_type": "stream",
     "text": [
      "20\n",
      "19\n",
      "18\n",
      "17\n",
      "16\n",
      "15\n",
      "14\n",
      "13\n",
      "12\n",
      "11\n",
      "10\n",
      "9\n",
      "8\n",
      "7\n",
      "6\n",
      "5\n",
      "4\n",
      "3\n",
      "2\n",
      "1\n",
      "END\n"
     ]
    }
   ],
   "source": [
    "start = 20\n",
    "while start> 0:\n",
    "    print(start)\n",
    "    start -= 1\n",
    "print(\"END\")"
   ]
  },
  {
   "cell_type": "code",
   "execution_count": 21,
   "id": "278a9ef6",
   "metadata": {},
   "outputs": [
    {
     "name": "stdout",
     "output_type": "stream",
     "text": [
      "0\n",
      "1\n",
      "2\n"
     ]
    }
   ],
   "source": [
    "d = {0, 1, 2}\n",
    "for x in d:\n",
    "    print(x)"
   ]
  },
  {
   "cell_type": "code",
   "execution_count": 25,
   "id": "97894157",
   "metadata": {},
   "outputs": [
    {
     "name": "stdout",
     "output_type": "stream",
     "text": [
      "{0, 1, 2}\n"
     ]
    }
   ],
   "source": [
    "d.add(1)\n",
    "print(d)"
   ]
  },
  {
   "cell_type": "code",
   "execution_count": 26,
   "id": "7053d6ef",
   "metadata": {},
   "outputs": [
    {
     "name": "stdout",
     "output_type": "stream",
     "text": [
      "1 is not divisible by 3\n",
      "2 is not divisible by 3\n",
      "3 is Divisible by 3\n",
      "3 is not divisible by 3\n",
      "4 is not divisible by 3\n",
      "5 is not divisible by 3\n"
     ]
    }
   ],
   "source": [
    "for i in range(1,6):\n",
    "    if (i % 3 == 0):\n",
    "        print(str(i) + \" is Divisible by 3\")\n",
    "        pass\n",
    "\n",
    "    print(str(i) + \" is not divisible by 3\")"
   ]
  },
  {
   "cell_type": "code",
   "execution_count": 27,
   "id": "0629a097",
   "metadata": {},
   "outputs": [
    {
     "name": "stdout",
     "output_type": "stream",
     "text": [
      "1 is not divisible by 3\n",
      "2 is not divisible by 3\n",
      "3 is Divisible by 3\n"
     ]
    }
   ],
   "source": [
    "for i in range(1,6):\n",
    "    if (i % 3 == 0):\n",
    "        print(str(i) + \" is Divisible by 3\")\n",
    "        break\n",
    "\n",
    "    print(str(i) + \" is not divisible by 3\")"
   ]
  },
  {
   "cell_type": "code",
   "execution_count": 28,
   "id": "bd2fe2c9",
   "metadata": {},
   "outputs": [
    {
     "name": "stdout",
     "output_type": "stream",
     "text": [
      "1 is not divisible by 3\n",
      "2 is not divisible by 3\n",
      "3 is Divisible by 3\n",
      "4 is not divisible by 3\n",
      "5 is not divisible by 3\n"
     ]
    }
   ],
   "source": [
    "for i in range(1,6):\n",
    "    if (i % 3 == 0):\n",
    "        print(str(i) + \" is Divisible by 3\")\n",
    "        continue\n",
    "\n",
    "    print(str(i) + \" is not divisible by 3\")"
   ]
  },
  {
   "cell_type": "markdown",
   "id": "c472c0e0",
   "metadata": {},
   "source": [
    "# List Comprehensions"
   ]
  },
  {
   "cell_type": "code",
   "execution_count": 29,
   "id": "266860c4",
   "metadata": {},
   "outputs": [
    {
     "name": "stdout",
     "output_type": "stream",
     "text": [
      "[1, 4, 9, 16, 25, 36, 49, 64, 81]\n"
     ]
    }
   ],
   "source": [
    "# conventional way of inserting square of a num\n",
    "square_list = []\n",
    "for x in range(1,10):\n",
    "    square_list.append(x**2)\n",
    "    \n",
    "print(square_list)"
   ]
  },
  {
   "cell_type": "code",
   "execution_count": 30,
   "id": "1758f6d7",
   "metadata": {},
   "outputs": [
    {
     "name": "stdout",
     "output_type": "stream",
     "text": [
      "[1, 4, 9, 16, 25, 36, 49, 64, 81]\n"
     ]
    }
   ],
   "source": [
    "# List comprehension way\n",
    "square_list2 = [x**2 for x in range(1,10)]\n",
    "print(square_list2)"
   ]
  },
  {
   "cell_type": "code",
   "execution_count": 35,
   "id": "6a1a938d",
   "metadata": {},
   "outputs": [
    {
     "name": "stdout",
     "output_type": "stream",
     "text": [
      "['python', 'is', 'easy', 'lets', 'learn', 'from', 'upgrad']\n"
     ]
    }
   ],
   "source": [
    "list_of_words = []\n",
    "paragraph = ['python is easy', 'lets learn', 'from upgrad']\n",
    "vowel_list = ['a','e','i','o','u']\n",
    "for sentence in paragraph:\n",
    "    for word in sentence.split():\n",
    "        list_of_words.append(word)\n",
    "        \n",
    "print(list_of_words)\n",
    "        "
   ]
  },
  {
   "cell_type": "code",
   "execution_count": 38,
   "id": "4b587bde",
   "metadata": {},
   "outputs": [
    {
     "name": "stdout",
     "output_type": "stream",
     "text": [
      "is\n",
      "easy\n",
      "upgrad\n"
     ]
    }
   ],
   "source": [
    "for sentence in paragraph:\n",
    "    for word in sentence.split():\n",
    "        if(word[0].lower() in vowel_list ):\n",
    "            print(word)\n",
    "        "
   ]
  },
  {
   "cell_type": "code",
   "execution_count": 39,
   "id": "8c44d6c8",
   "metadata": {},
   "outputs": [
    {
     "name": "stdout",
     "output_type": "stream",
     "text": [
      "['python', 'is', 'easy', 'lets', 'learn', 'from', 'upgrad']\n"
     ]
    }
   ],
   "source": [
    "## list comprehension way\n",
    "list_of_words2 = [word for sentence in paragraph for word in sentence.split()]\n",
    "print(list_of_words2)"
   ]
  },
  {
   "cell_type": "code",
   "execution_count": 44,
   "id": "211fc278",
   "metadata": {},
   "outputs": [
    {
     "name": "stdout",
     "output_type": "stream",
     "text": [
      "[1, 4, 9, 16]\n"
     ]
    }
   ],
   "source": [
    "n=4\n",
    "new_list = [i**2 for i in range(1,n+1)]\n",
    "print(new_list)"
   ]
  },
  {
   "cell_type": "code",
   "execution_count": 47,
   "id": "14681d57",
   "metadata": {},
   "outputs": [
    {
     "name": "stdout",
     "output_type": "stream",
     "text": [
      "['old', 'apple', 'item', 'euphoria']\n"
     ]
    }
   ],
   "source": [
    "#Extract the words that start with a vowel from a list \n",
    "# input_list=[wood, old, apple, big, item, euphoria] using list comprehensions.\n",
    "\n",
    "input_list=['wood', 'old', 'apple', 'big', 'item', 'euphoria'] \n",
    "vowels = ['a','e','i','o','u']\n",
    "list_vowel = [word for word in input_list if(word[0].lower() in vowels)]\n",
    "print(list_vowel)\n"
   ]
  },
  {
   "cell_type": "code",
   "execution_count": 51,
   "id": "733ee402",
   "metadata": {},
   "outputs": [
    {
     "name": "stdout",
     "output_type": "stream",
     "text": [
      "[0, 0, 0, 0, 0, 0, 0, 0, 0, 0, 10, 11, 12, 13, 14, 15, 16, 17, 18, 19, 20, 22, 24, 26, 28, 30, 32, 34, 36, 38, 30, 33, 36, 39, 42, 45, 48, 51, 54, 57, 40, 44, 48, 52, 56, 60, 64, 68, 72, 76, 50, 55, 60, 65, 70, 75, 80, 85, 90, 95, 60, 66, 72, 78, 84, 90, 96, 102, 108, 114, 70, 77, 84, 91, 98, 105, 112, 119, 126, 133, 80, 88, 96, 104, 112, 120, 128, 136, 144, 152, 90, 99, 108, 117, 126, 135, 144, 153, 162, 171]\n"
     ]
    }
   ],
   "source": [
    "product_list = []\n",
    "for i in range(10):\n",
    "    for j in range(10,20):\n",
    "        product_list.append(i*j)\n",
    "        \n",
    "# using list comprehension\n",
    "product_list2 = [ k*l for k in range(10) for l in range(10,20) ]\n",
    "print(product_list2)"
   ]
  },
  {
   "cell_type": "markdown",
   "id": "c3d23115",
   "metadata": {},
   "source": [
    "# Dictionary Comprehension"
   ]
  },
  {
   "cell_type": "code",
   "execution_count": 52,
   "id": "405f69f3",
   "metadata": {},
   "outputs": [
    {
     "name": "stdout",
     "output_type": "stream",
     "text": [
      "{0: 0, 1: 1, 2: 4, 3: 9, 4: 16, 5: 25, 6: 36, 7: 49, 8: 64, 9: 81}\n"
     ]
    }
   ],
   "source": [
    "squred_dict = {num: num**2 for num in range(10)}\n",
    "print(squred_dict)"
   ]
  },
  {
   "cell_type": "code",
   "execution_count": null,
   "id": "f6213cce",
   "metadata": {},
   "outputs": [],
   "source": []
  }
 ],
 "metadata": {
  "kernelspec": {
   "display_name": "Python 3 (ipykernel)",
   "language": "python",
   "name": "python3"
  },
  "language_info": {
   "codemirror_mode": {
    "name": "ipython",
    "version": 3
   },
   "file_extension": ".py",
   "mimetype": "text/x-python",
   "name": "python",
   "nbconvert_exporter": "python",
   "pygments_lexer": "ipython3",
   "version": "3.9.13"
  }
 },
 "nbformat": 4,
 "nbformat_minor": 5
}
