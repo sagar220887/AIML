{
 "cells": [
  {
   "cell_type": "code",
   "execution_count": 1,
   "id": "625e9d33",
   "metadata": {},
   "outputs": [
    {
     "name": "stdout",
     "output_type": "stream",
     "text": [
      "Enjoy Python\n"
     ]
    }
   ],
   "source": [
    "def hurray():\n",
    "    print('Enjoy Python')\n",
    "    \n",
    "hurray()"
   ]
  },
  {
   "cell_type": "markdown",
   "id": "769a527c",
   "metadata": {},
   "source": [
    "# No define number of arguments"
   ]
  },
  {
   "cell_type": "code",
   "execution_count": 4,
   "id": "01bd04bd",
   "metadata": {},
   "outputs": [
    {
     "name": "stdout",
     "output_type": "stream",
     "text": [
      "(3, 7)\n",
      "2\n",
      "3\n",
      "7\n",
      "(3, 7, 55, 87, 12, 5)\n",
      "6\n",
      "3\n",
      "7\n",
      "55\n",
      "87\n",
      "12\n",
      "5\n"
     ]
    }
   ],
   "source": [
    "def sum_of_nums(*num):\n",
    "    print(num)\n",
    "    print(len(num))\n",
    "    for item in num:\n",
    "        print(item)\n",
    "    \n",
    "sum_of_nums(3,7)\n",
    "sum_of_nums(3,7,55,87,12,5)"
   ]
  },
  {
   "cell_type": "code",
   "execution_count": 8,
   "id": "53f9f690",
   "metadata": {},
   "outputs": [
    {
     "name": "stdout",
     "output_type": "stream",
     "text": [
      "Python Is Easy\n"
     ]
    }
   ],
   "source": [
    "def properText(phrase):\n",
    "    parsedPhrase = (phrase.strip()).split()\n",
    "    list2 = \" \".join([i[0].upper() + i[1:] for i in parsedPhrase])\n",
    "    return list2\n",
    "    \n",
    "    \n",
    "newText = properText('python is easy')\n",
    "print(newText)"
   ]
  },
  {
   "cell_type": "markdown",
   "id": "cb4dcb8f",
   "metadata": {},
   "source": [
    "# Lamda Expression"
   ]
  },
  {
   "cell_type": "markdown",
   "id": "fd2496c3",
   "metadata": {},
   "source": [
    "## function_name  = lambda <space>  input_parameters  :  output_parameters\n",
    "\n",
    "Eg: join_by_comma = lambda x : ','.join(x)"
   ]
  },
  {
   "cell_type": "code",
   "execution_count": 9,
   "id": "98c84e45",
   "metadata": {},
   "outputs": [
    {
     "name": "stdout",
     "output_type": "stream",
     "text": [
      "32\n"
     ]
    }
   ],
   "source": [
    "num_multiply = lambda x,y: x*y\n",
    "print(num_multiply(4,8))"
   ]
  },
  {
   "cell_type": "code",
   "execution_count": 10,
   "id": "1700af14",
   "metadata": {},
   "outputs": [
    {
     "name": "stdout",
     "output_type": "stream",
     "text": [
      "8\n"
     ]
    }
   ],
   "source": [
    "greater = lambda x,y: x if x>y else y\n",
    "print(greater(4,8))"
   ]
  },
  {
   "cell_type": "markdown",
   "id": "273db93e",
   "metadata": {},
   "source": [
    "# MAP\n",
    "## it takes 2 parameters \n",
    "    > 1st param - function\n",
    "    > 2nd param - list of items to iterate"
   ]
  },
  {
   "cell_type": "code",
   "execution_count": 15,
   "id": "f1626f41",
   "metadata": {},
   "outputs": [
    {
     "name": "stdout",
     "output_type": "stream",
     "text": [
      "<map object at 0x0000024AFE24DCA0>\n",
      "\n",
      "[8, 512, 216]\n"
     ]
    }
   ],
   "source": [
    "input_list = [2,8,6]\n",
    "new_map = map(lambda x: x**3, input_list)\n",
    "print(new_map)\n",
    "print()\n",
    "new_list = list(new_map);\n",
    "print(new_list)"
   ]
  },
  {
   "cell_type": "code",
   "execution_count": 43,
   "id": "b2c2f51a",
   "metadata": {},
   "outputs": [
    {
     "name": "stdout",
     "output_type": "stream",
     "text": [
      "3\n"
     ]
    }
   ],
   "source": [
    "ip = ['San Jose', 'San Francisco', 'Santa Fe', 'Houston']\n",
    "\n",
    "new_map = list(map(lambda word:word[0] == 'S', ip)).count(True)\n",
    "print(new_map)"
   ]
  },
  {
   "cell_type": "markdown",
   "id": "d941ec8f",
   "metadata": {},
   "source": [
    "# Filter\n",
    "### apply a rule on the element and generate a True/False & generate a subset of list/tuple/dict\n",
    "### 2 params \n",
    "    > lambda function\n",
    "    > item list"
   ]
  },
  {
   "cell_type": "code",
   "execution_count": 45,
   "id": "5e3710b7",
   "metadata": {},
   "outputs": [
    {
     "name": "stdout",
     "output_type": "stream",
     "text": [
      "[3, 6, 9, 12, 15, 18, 21, 24, 27]\n"
     ]
    }
   ],
   "source": [
    "# Filter\n",
    "my_list = range(3,30)\n",
    "divideBy3 = lambda x: x % 3 ==0\n",
    "div = list(filter(divideBy3, my_list))\n",
    "print(div)"
   ]
  },
  {
   "cell_type": "markdown",
   "id": "8b3194e3",
   "metadata": {},
   "source": [
    "# Reduce\n",
    "## its not a built in function of python\n",
    "### aggregate operation on iterable values\n",
    "`x represent the current aggregate value , y represent the next element`"
   ]
  },
  {
   "cell_type": "code",
   "execution_count": 47,
   "id": "c7c24f53",
   "metadata": {},
   "outputs": [
    {
     "name": "stdout",
     "output_type": "stream",
     "text": [
      "45\n"
     ]
    }
   ],
   "source": [
    "from functools import reduce\n",
    "list_a = range(5, 15, 2) # [5,7,9,11,13]\n",
    "q = reduce(lambda x,y : x+y, list_a)\n",
    "# 1st iteration - x=5,             y=7, sum value = 12\n",
    "# 2nd iteration - x= sum value 12, y=9, sum value = 21\n",
    "# 3rd iteration - x=21, y=11, sum = 32\n",
    "# 4th itearyion - x=32, y= 13, sum = 45\n",
    "print(q)"
   ]
  },
  {
   "cell_type": "code",
   "execution_count": 48,
   "id": "180be887",
   "metadata": {},
   "outputs": [
    {
     "name": "stdout",
     "output_type": "stream",
     "text": [
      "94\n"
     ]
    }
   ],
   "source": [
    "num_list = [22,45,32,20, 87, 94, 30]\n",
    "result = reduce(lambda x,y : x if x>y else y, num_list)\n",
    "print(result)\n",
    "\n",
    "# it compares the 1st and 2nd value\n",
    "# if 1st value > 2nd return 1st value or else return 2nd\n",
    "# x value gets updated with the return value\n",
    "# again it comapres the resultant value with the next iterable value"
   ]
  },
  {
   "cell_type": "markdown",
   "id": "6c95da04",
   "metadata": {},
   "source": [
    "## !!! Questions !!!"
   ]
  },
  {
   "cell_type": "code",
   "execution_count": null,
   "id": "f7936c9d",
   "metadata": {},
   "outputs": [],
   "source": [
    "# Extract a list of names that start with an ‘s’ and end with a ‘p’ (both 's' and 'p' are lowercase) in input_list.\n",
    "\n",
    "input_list = ['soap','sharp','shy','silent','ship','summer','sheep']\n",
    "\n",
    "sp = list(filter(lambda word: word[0]=='s' and word[-1]=='p', input_list))#Write your code here\n",
    "\n",
    "print(sp)"
   ]
  },
  {
   "cell_type": "code",
   "execution_count": 56,
   "id": "896b97ee",
   "metadata": {},
   "outputs": [
    {
     "name": "stdout",
     "output_type": "stream",
     "text": [
      "All you have to fear is fear itself\n"
     ]
    }
   ],
   "source": [
    "# Using the Reduce function, concatenate a list of words in input_list, and print the output as a string.\n",
    "# If input_list = ['I','Love','Python'], the output should be the string 'I Love Python'.\n",
    "\n",
    "input_list = ['All','you','have','to','fear','is','fear','itself']\n",
    "\n",
    "from functools import reduce\n",
    "\n",
    "#write your code here.\n",
    "result = reduce(lambda l, nextl: l+' ' +nextl , input_list)\n",
    "\n",
    "print(result)"
   ]
  },
  {
   "cell_type": "code",
   "execution_count": null,
   "id": "e9174e95",
   "metadata": {},
   "outputs": [],
   "source": [
    "# You are given a list of numbers such as input_list = [31, 63, 76, 89]. \n",
    "# Find and print the largest number in input_list using the reduce() function.\n",
    "\n",
    "input_list = [65,76,87,23,12,90,99]\n",
    "from functools import reduce\n",
    "\n",
    "answer =reduce(lambda x,y : x if x> y else y, input_list) #Type your answer here.\n",
    "\n",
    "print(answer)"
   ]
  },
  {
   "cell_type": "code",
   "execution_count": 57,
   "id": "29bc34fa",
   "metadata": {},
   "outputs": [
    {
     "name": "stdout",
     "output_type": "stream",
     "text": [
      "[1, 2, 3, 1, 2, 3]\n"
     ]
    }
   ],
   "source": [
    "list = [1,2,3]\n",
    "print(list *2)"
   ]
  },
  {
   "cell_type": "code",
   "execution_count": 86,
   "id": "891c1703",
   "metadata": {},
   "outputs": [
    {
     "name": "stdout",
     "output_type": "stream",
     "text": [
      "1\n"
     ]
    }
   ],
   "source": [
    "n= 0\n",
    "result = 1 if n ==0 else reduce(lambda x,y: x*y if x > 0 and y > 0 else 1, range(n+1) )\n",
    "print(result)"
   ]
  },
  {
   "cell_type": "code",
   "execution_count": 87,
   "id": "9e71c605",
   "metadata": {},
   "outputs": [
    {
     "name": "stdout",
     "output_type": "stream",
     "text": [
      "{8, 1, 4, 9}\n"
     ]
    }
   ],
   "source": [
    "b = [1,4,8,9,9]\n",
    "print(set(b))"
   ]
  },
  {
   "cell_type": "code",
   "execution_count": 95,
   "id": "62835940",
   "metadata": {},
   "outputs": [
    {
     "name": "stdout",
     "output_type": "stream",
     "text": [
      "{2, 5, 9, 12, 13, 15, 16, 17, 18, 19}\n",
      "{2, 4, 5, 6, 7, 9, 13, 16}\n",
      "{1, 2, 5, 9, 10, 11, 12, 13, 15}\n"
     ]
    }
   ],
   "source": [
    "## sets\n",
    "\n",
    "set_a = set([2, 5, 9, 12, 13, 15, 16, 17, 18, 19])\n",
    "print(set_a)\n",
    "set_b = set([2, 4, 5, 6, 7, 9, 13, 16])\n",
    "print(set_b)\n",
    "set_c= set([1, 2, 5, 9, 10, 11, 12, 13, 15])\n",
    "print(set_c)\n"
   ]
  },
  {
   "cell_type": "code",
   "execution_count": 90,
   "id": "37cb7e91",
   "metadata": {},
   "outputs": [
    {
     "name": "stdout",
     "output_type": "stream",
     "text": [
      "{9, 2, 13, 5}\n"
     ]
    }
   ],
   "source": [
    "temp_set = (set_a.intersection(set_b)).intersection(set_c)\n",
    "print(temp_set)"
   ]
  },
  {
   "cell_type": "code",
   "execution_count": 92,
   "id": "18145ad5",
   "metadata": {},
   "outputs": [
    {
     "name": "stdout",
     "output_type": "stream",
     "text": [
      "{2, 5, 9, 13, 16}\n",
      "{16}\n"
     ]
    }
   ],
   "source": [
    "both_a_b = (set_a.intersection(set_b))\n",
    "\n",
    "print(both_a_b)\n",
    "both_a_b_notC = both_a_b.difference(set_c)\n",
    "print(both_a_b_notC)"
   ]
  },
  {
   "cell_type": "code",
   "execution_count": 96,
   "id": "b02dbafd",
   "metadata": {},
   "outputs": [
    {
     "name": "stdout",
     "output_type": "stream",
     "text": [
      "{1, 10, 11, 12, 15}\n"
     ]
    }
   ],
   "source": [
    "ff = set_c.difference(both_a_b)\n",
    "print(ff)"
   ]
  },
  {
   "cell_type": "code",
   "execution_count": 97,
   "id": "02e4ee2a",
   "metadata": {},
   "outputs": [
    {
     "name": "stdout",
     "output_type": "stream",
     "text": [
      "{1, 2, 3, 4, 5, 6, 7, 8, 9, 10, 11, 12, 13, 14, 15, 16, 17, 18, 19, 20}\n"
     ]
    }
   ],
   "source": [
    "c = set(range(1,21))\n",
    "print(c)"
   ]
  },
  {
   "cell_type": "code",
   "execution_count": null,
   "id": "bec51334",
   "metadata": {},
   "outputs": [],
   "source": []
  }
 ],
 "metadata": {
  "kernelspec": {
   "display_name": "Python 3 (ipykernel)",
   "language": "python",
   "name": "python3"
  },
  "language_info": {
   "codemirror_mode": {
    "name": "ipython",
    "version": 3
   },
   "file_extension": ".py",
   "mimetype": "text/x-python",
   "name": "python",
   "nbconvert_exporter": "python",
   "pygments_lexer": "ipython3",
   "version": "3.9.13"
  }
 },
 "nbformat": 4,
 "nbformat_minor": 5
}
