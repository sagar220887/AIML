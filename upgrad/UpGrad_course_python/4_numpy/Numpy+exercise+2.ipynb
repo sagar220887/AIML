{
 "cells": [
  {
   "cell_type": "markdown",
   "metadata": {},
   "source": [
    "# Exercise Background\n",
    "\n",
    "This small application based coding exercise is ment to expose you to the use of the numpy library as well as give you a taste of tasks that you might be needed to perform during machine learning. \n",
    "\n",
    "Usually, machine learning involves working on large data sets. This notebook will walk you through normalising the data and then dividing the data set into smaller subsets. It is recommended that while attempting each of the tasks visit the NumPy library to find the most appropriate function which can help you achieve the desired result. More often than not you will find the functions which you require prewritten in the library. The **numpy library** can be found [here.](https://numpy.org/doc/stable/) \n",
    "\n",
    "Without further ado, the first task is to mean normalise a data set. Mean normalising is a data transformation done to reduce the variations in the data set. For example, consider a data set which has integers between 0 and 10000. That is a lot of variation, and it becomes difficult to build ML algorithms on this data. So mean normalisation is done on such data, after the transformation, the mean of the data will be zero, and standard deviation will be 1.  Even though the actual values of data will change a lot, but the overall variation is still kept intact. If the concept of normalisation feels a bit unclear dont worry all of this will be covered in the future sections of this program. For now, let’s concentrate on the tasks at hand. \n",
    "\n",
    "\n",
    "# Task 1: Mean Normalisation: \n",
    "\n",
    "**Question 1.1** Create a 2D of random integers between 0 and 10,000 (including both 0 and 10,000) with 25000 rows and 15 columns. This will be the dataset you will use in the notebook. "
   ]
  },
  {
   "cell_type": "code",
   "execution_count": 12,
   "metadata": {},
   "outputs": [
    {
     "name": "stdout",
     "output_type": "stream",
     "text": [
      "(25000, 15)\n",
      "375000\n"
     ]
    }
   ],
   "source": [
    "# import NumPy into Python\n",
    "import numpy as np\n",
    "\n",
    "# Create a 25000 x 15 ndarray with random integers in the interval [0, 10000].\n",
    "X = np.random.randint(0, 10001, size=(25000,15))\n",
    "\n",
    "\n",
    "# print the shape of X\n",
    "print(X.shape)\n"
   ]
  },
  {
   "cell_type": "code",
   "execution_count": 11,
   "metadata": {},
   "outputs": [
    {
     "name": "stdout",
     "output_type": "stream",
     "text": [
      "[5944 3275 9942 4723 4277 2540 7477 4552 2418 9233 2437  997 6094 1724\n",
      "  621]\n"
     ]
    }
   ],
   "source": [
    "# print the first row of X\n",
    "print(X[0])"
   ]
  },
  {
   "cell_type": "markdown",
   "metadata": {},
   "source": [
    "Now that you created the array we will mean normalize it. The equation for normalisaing the data is given below:\n",
    "\n",
    "$\\mbox{Norm_Col}_i = \\frac{\\mbox{Col}_i - \\mu_i}{\\sigma_i}$\n",
    "\n",
    "where $\\mbox{Col}_i$ is the $i$th column of $X$, $\\mu_i$ is average of the values in the $i$th column of $X$, and $\\sigma_i$ is the standard deviation of the values in the $i$th column of $X$. To put it simply, to find the new value of each element, you have to subtract the mean of respective column form that value and divide the result with the standard deviation of that columns. Now the question is, Why are these operations being done column-wise? That is because usually all the procedures in ML are done column-wise. So it will be beneficial for us to develop the habit of thinking about data column-wise.   "
   ]
  },
  {
   "cell_type": "markdown",
   "metadata": {},
   "source": [
    "**Question 1.2** Find the mean and the standard deviation of each of the columns in the dataset. The result will be two 1D arrays with 15 elements each, representing the mean and standard deviation for each of the columns in the dataset.  "
   ]
  },
  {
   "cell_type": "code",
   "execution_count": 20,
   "metadata": {},
   "outputs": [
    {
     "name": "stdout",
     "output_type": "stream",
     "text": [
      "ave_cols :\n",
      " [4976.25868 5003.04196 5011.6568  5000.77892 5012.48072 5004.37616\n",
      " 4996.44644 4994.16748 4998.17796 5011.04076 4987.02956 4970.15432\n",
      " 4976.36404 4998.86368 4995.15636] \n",
      "\n",
      "std_cols :\n",
      "  [2880.4809052  2885.3588867  2888.252435   2888.25720036 2873.8009054\n",
      " 2891.68041612 2881.75424998 2896.30728625 2877.21008101 2884.67064192\n",
      " 2892.70683512 2884.2728099  2883.04004834 2885.21547673 2892.93780442] \n",
      "\n"
     ]
    }
   ],
   "source": [
    "# Average of the values in each column of X\n",
    "\n",
    "ave_cols = np.average(X, axis = 0)\n",
    "\n",
    "\n",
    "# print ave_cols  \n",
    "print(\"ave_cols :\\n\", ave_cols, \"\\n\")\n",
    "\n",
    "# Standard Deviation of the values in each column of X\n",
    "std_cols = np.std(X, axis=0)\n",
    "\n",
    "# print std_cols  \n",
    "print(\"std_cols :\\n \", std_cols, \"\\n\")\n"
   ]
  },
  {
   "cell_type": "markdown",
   "metadata": {},
   "source": [
    "**Question 1.3** Print the shape of each both the arrays, they should have 15 elements each.  "
   ]
  },
  {
   "cell_type": "code",
   "execution_count": 24,
   "metadata": {},
   "outputs": [
    {
     "name": "stdout",
     "output_type": "stream",
     "text": [
      "shape of ave_cols -  (15,)\n",
      "shape of std_cols -  (15,)\n"
     ]
    }
   ],
   "source": [
    "# Print the shape of ave_cols\n",
    "print(\"shape of ave_cols - \", ave_cols.shape)\n",
    "\n",
    "# Print the shape of std_cols\n",
    "print(\"shape of std_cols - \", std_cols.shape)"
   ]
  },
  {
   "cell_type": "markdown",
   "metadata": {},
   "source": [
    "**Question 1.4** Now that you have mean and standard deviation calculated, it is time to apply the transformation to the dataset. \n",
    " \n",
    " \n",
    "**HINT** The broadcast property of NumPy can make this a lot easier. You can read about it [here](https://numpy.org/doc/stable/user/basics.broadcasting.html).\n",
    "All you have to do is create one row of transformation values and repeat them through all the values."
   ]
  },
  {
   "cell_type": "code",
   "execution_count": 8,
   "metadata": {},
   "outputs": [],
   "source": [
    "# Mean normalize X\n"
   ]
  },
  {
   "cell_type": "markdown",
   "metadata": {},
   "source": [
    "**Question 1.5** If the transformation has been performed correctly, the mean of elements in each column will be approximately 0. Also, the average of the **minimum** value in each column of X_norm and the average of the **maximum** value in each column of X_norm will have almost the same face value with opposite signs. Let’s confirm if the transformation has happened correctly. "
   ]
  },
  {
   "cell_type": "code",
   "execution_count": 9,
   "metadata": {},
   "outputs": [
    {
     "name": "stdout",
     "output_type": "stream",
     "text": [
      "4.793794990594809e-18\n",
      "-1.733376119370373\n",
      "1.7296353200317307\n"
     ]
    }
   ],
   "source": [
    "# Print the average of all the values of X_norm\n",
    "\n",
    "\n",
    "# Print the average of the minimum value in each column of X_norm\n",
    "\n",
    "\n",
    "# Print the average of the maximum value in each column of X_norm\n"
   ]
  },
  {
   "cell_type": "markdown",
   "metadata": {},
   "source": [
    "Be mindful that the exact values might not match since the dataset was initialized using the random function. \n",
    "\n",
    "# Data Spliting \n",
    "\n",
    "After data processing, it is a regular practice in ML to split the dataset into three datasets. \n",
    "\n",
    "1. A Training Set\n",
    "2. A Cross Validation Set\n",
    "3. A Test Set\n",
    "\n",
    "The ratios in which the data is split varies a bit from case to case. But the accepted standard 6:2:2 for train, test, and validation respectively. That is 60% for training data and so on. Again why is the data split or what is the signification of these smaller data sets? These questions are better left unanswered for now. \n",
    "The tanks assigned to you is to split the data in the given proportions randomly. \n",
    "For instance, if the data set had ten elements, this is how you would do it. "
   ]
  },
  {
   "cell_type": "code",
   "execution_count": 11,
   "metadata": {},
   "outputs": [
    {
     "data": {
      "text/plain": [
       "array([8, 3, 7, 5, 2, 6, 1, 9, 0, 4])"
      ]
     },
     "execution_count": 11,
     "metadata": {},
     "output_type": "execute_result"
    }
   ],
   "source": [
    "# We create a random permutation of integers 0 to 9\n",
    "np.random.permutation(10)"
   ]
  },
  {
   "cell_type": "markdown",
   "metadata": {},
   "source": [
    "1. training set = 8,3,7,5,2,6\n",
    "2. Cross Validation Set = 1,9\n",
    "3. Test Set = 0,4"
   ]
  },
  {
   "cell_type": "markdown",
   "metadata": {},
   "source": [
    "**Question 2.1** Similarly, create a 1D array representing the indexes of the rows in the dataset X_norm. U can use the   `np.random.permutation()` function for randomising the indexes. "
   ]
  },
  {
   "cell_type": "code",
   "execution_count": 12,
   "metadata": {},
   "outputs": [],
   "source": [
    "# Create a rank 1 ndarray that contains a random permutation of the row indices of `X_norm`\n"
   ]
  },
  {
   "cell_type": "code",
   "execution_count": 13,
   "metadata": {},
   "outputs": [
    {
     "data": {
      "text/plain": [
       "(25000,)"
      ]
     },
     "execution_count": 13,
     "metadata": {},
     "output_type": "execute_result"
    }
   ],
   "source": [
    "# Print the shape of row_indices\n"
   ]
  },
  {
   "cell_type": "markdown",
   "metadata": {},
   "source": [
    "**Question 2.2** Split the row indexes in the needed proportions. You can use the slicing methods you have learnt in this session to make the job easier.  "
   ]
  },
  {
   "cell_type": "code",
   "execution_count": 17,
   "metadata": {},
   "outputs": [],
   "source": [
    "# Make any necessary calculations.\n",
    "# You can save your calculations into variables to use later.\n",
    "train = row_indices[:15000]\n",
    "test = row_indices[15000:20000]\n",
    "val  = row_indices[20000:]"
   ]
  },
  {
   "cell_type": "markdown",
   "metadata": {},
   "source": [
    "**Question 2.3** Now make use of the indexes that you made to split the data also similarly once the data is split print the shape of each of the smaller data sets. `X_train` should have 15000 rows and 15 columns. `X_test` should have 5000 rows and 15 columns. `X_val` should have 5000 rows and 15 columns. "
   ]
  },
  {
   "cell_type": "code",
   "execution_count": 18,
   "metadata": {},
   "outputs": [],
   "source": [
    "# Create a Training Set\n",
    "\n",
    "\n",
    "# Create a Cross Validation Set\n",
    "\n",
    "\n",
    "# Create a Test Set\n"
   ]
  },
  {
   "cell_type": "code",
   "execution_count": 19,
   "metadata": {},
   "outputs": [
    {
     "name": "stdout",
     "output_type": "stream",
     "text": [
      "(15000, 15)\n",
      "(5000, 15)\n",
      "(5000, 15)\n"
     ]
    }
   ],
   "source": [
    "# Print the shape of X_train\n",
    "\n",
    "\n",
    "# Print the shape of X_crossVal\n",
    "\n",
    "\n",
    "# Print the shape of X_test\n"
   ]
  }
 ],
 "metadata": {
  "kernelspec": {
   "display_name": "Python 3 (ipykernel)",
   "language": "python",
   "name": "python3"
  },
  "language_info": {
   "codemirror_mode": {
    "name": "ipython",
    "version": 3
   },
   "file_extension": ".py",
   "mimetype": "text/x-python",
   "name": "python",
   "nbconvert_exporter": "python",
   "pygments_lexer": "ipython3",
   "version": "3.9.13"
  }
 },
 "nbformat": 4,
 "nbformat_minor": 2
}
