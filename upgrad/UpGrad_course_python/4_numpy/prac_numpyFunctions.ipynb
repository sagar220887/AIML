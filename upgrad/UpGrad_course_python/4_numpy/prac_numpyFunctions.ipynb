{
 "cells": [
  {
   "cell_type": "markdown",
   "id": "bdf7cf09",
   "metadata": {},
   "source": [
    "# Numpy vs List"
   ]
  },
  {
   "cell_type": "code",
   "execution_count": 1,
   "id": "cb3897d9",
   "metadata": {},
   "outputs": [
    {
     "data": {
      "text/plain": [
       "[43, 67, 71, 63, 98]"
      ]
     },
     "execution_count": 1,
     "metadata": {},
     "output_type": "execute_result"
    }
   ],
   "source": [
    "heights = [43, 67, 71, 63, 98]\n",
    "heights"
   ]
  },
  {
   "cell_type": "code",
   "execution_count": 2,
   "id": "0862822f",
   "metadata": {},
   "outputs": [
    {
     "ename": "TypeError",
     "evalue": "can't multiply sequence by non-int of type 'float'",
     "output_type": "error",
     "traceback": [
      "\u001b[1;31m---------------------------------------------------------------------------\u001b[0m",
      "\u001b[1;31mTypeError\u001b[0m                                 Traceback (most recent call last)",
      "\u001b[1;32m~\\AppData\\Local\\Temp\\ipykernel_134108\\3239125676.py\u001b[0m in \u001b[0;36m<module>\u001b[1;34m\u001b[0m\n\u001b[0;32m      1\u001b[0m \u001b[1;31m# conver heightin inches to cm\u001b[0m\u001b[1;33m\u001b[0m\u001b[1;33m\u001b[0m\u001b[0m\n\u001b[1;32m----> 2\u001b[1;33m \u001b[0mheights\u001b[0m \u001b[1;33m*\u001b[0m \u001b[1;36m2.54\u001b[0m \u001b[1;31m# ERROR\u001b[0m\u001b[1;33m\u001b[0m\u001b[1;33m\u001b[0m\u001b[0m\n\u001b[0m",
      "\u001b[1;31mTypeError\u001b[0m: can't multiply sequence by non-int of type 'float'"
     ]
    }
   ],
   "source": [
    "# conver heightin inches to cm\n",
    "heights * 2.54 # ERROR"
   ]
  },
  {
   "cell_type": "code",
   "execution_count": 3,
   "id": "e93ce62e",
   "metadata": {},
   "outputs": [],
   "source": [
    "import numpy as np"
   ]
  },
  {
   "cell_type": "code",
   "execution_count": 5,
   "id": "2fe0211c",
   "metadata": {},
   "outputs": [
    {
     "data": {
      "text/plain": [
       "array([43, 67, 71, 63, 98])"
      ]
     },
     "execution_count": 5,
     "metadata": {},
     "output_type": "execute_result"
    }
   ],
   "source": [
    "## declaring np array\n",
    "npHeights = np.array([43, 67, 71, 63, 98])\n",
    "npHeights"
   ]
  },
  {
   "cell_type": "code",
   "execution_count": 6,
   "id": "1b44eb50",
   "metadata": {},
   "outputs": [
    {
     "data": {
      "text/plain": [
       "numpy.ndarray"
      ]
     },
     "execution_count": 6,
     "metadata": {},
     "output_type": "execute_result"
    }
   ],
   "source": [
    "type(npHeights)"
   ]
  },
  {
   "cell_type": "code",
   "execution_count": 8,
   "id": "6751e78b",
   "metadata": {},
   "outputs": [
    {
     "data": {
      "text/plain": [
       "array([109.22, 170.18, 180.34, 160.02, 248.92])"
      ]
     },
     "execution_count": 8,
     "metadata": {},
     "output_type": "execute_result"
    }
   ],
   "source": [
    "npHeights* 2.54"
   ]
  },
  {
   "cell_type": "markdown",
   "id": "672eceb2",
   "metadata": {},
   "source": [
    "# Numpy methods"
   ]
  },
  {
   "cell_type": "code",
   "execution_count": 10,
   "id": "326b15c6",
   "metadata": {},
   "outputs": [
    {
     "data": {
      "text/plain": [
       "[1, 2, 3, 4, 5, 6]"
      ]
     },
     "execution_count": 10,
     "metadata": {},
     "output_type": "execute_result"
    }
   ],
   "source": [
    "list_1 = [1, 2, 3]\n",
    "list_2 = [4, 5, 6]\n",
    "list_1 + list_2"
   ]
  },
  {
   "cell_type": "code",
   "execution_count": 13,
   "id": "63606689",
   "metadata": {},
   "outputs": [
    {
     "data": {
      "text/plain": [
       "array([5, 7, 9])"
      ]
     },
     "execution_count": 13,
     "metadata": {},
     "output_type": "execute_result"
    }
   ],
   "source": [
    "np1 = np.array([1, 2, 3])\n",
    "np2 = np.array([4, 5, 6])\n",
    "np1 + np2"
   ]
  },
  {
   "cell_type": "code",
   "execution_count": 14,
   "id": "3472ac93",
   "metadata": {},
   "outputs": [
    {
     "data": {
      "text/plain": [
       "array([43, 67, 71, 63, 98])"
      ]
     },
     "execution_count": 14,
     "metadata": {},
     "output_type": "execute_result"
    }
   ],
   "source": [
    "npHeights"
   ]
  },
  {
   "cell_type": "markdown",
   "id": "cb797f01",
   "metadata": {},
   "source": [
    "# N-D array"
   ]
  },
  {
   "cell_type": "code",
   "execution_count": 15,
   "id": "984b2e02",
   "metadata": {},
   "outputs": [
    {
     "data": {
      "text/plain": [
       "numpy.ndarray"
      ]
     },
     "execution_count": 15,
     "metadata": {},
     "output_type": "execute_result"
    }
   ],
   "source": [
    "type(npHeights)"
   ]
  },
  {
   "cell_type": "code",
   "execution_count": 16,
   "id": "9357ca0d",
   "metadata": {},
   "outputs": [],
   "source": [
    "# ndarray -> n dimentional array"
   ]
  },
  {
   "cell_type": "markdown",
   "id": "e6d7e0fa",
   "metadata": {},
   "source": [
    "# Quiz"
   ]
  },
  {
   "cell_type": "code",
   "execution_count": 18,
   "id": "849d214a",
   "metadata": {},
   "outputs": [
    {
     "data": {
      "text/plain": [
       "array([1. , 2. , 3.5, 0.2, 1. ])"
      ]
     },
     "execution_count": 18,
     "metadata": {},
     "output_type": "execute_result"
    }
   ],
   "source": [
    "## Select the correct option to create a 1-d array using the following elements (1.0, 2, 3.5, 0.2, True). \n",
    "## (Note that ‘True’ must be provided as a Boolean value, not as a string.)\n",
    "\n",
    "np.array( [1.0, 2, 3.5, 0.2, True] ) # datatype is float"
   ]
  },
  {
   "cell_type": "markdown",
   "id": "5e0787b7",
   "metadata": {},
   "source": [
    "## Creating array from tuple"
   ]
  },
  {
   "cell_type": "code",
   "execution_count": 19,
   "id": "b690640b",
   "metadata": {},
   "outputs": [
    {
     "data": {
      "text/plain": [
       "array([2, 4, 7, 6])"
      ]
     },
     "execution_count": 19,
     "metadata": {},
     "output_type": "execute_result"
    }
   ],
   "source": [
    "tup = (2,4,7,6)\n",
    "np.array((2,4,7,6)) # [2, 4, 7, 6]"
   ]
  },
  {
   "cell_type": "markdown",
   "id": "2345cccd",
   "metadata": {},
   "source": [
    "# Case Study - Cricket tournament"
   ]
  },
  {
   "cell_type": "code",
   "execution_count": 20,
   "id": "8c1717e1",
   "metadata": {},
   "outputs": [],
   "source": [
    "heights = [74, 74, 72, 72, 73, 69, 69, 71, 76, 71, 73, 73, 74, 74, 69, 70, 73, 75, 78, 79, 76, 74, 76, 72, 71, 75, 77, 74, 73, 74, 78, 73, 75, 73, 75, 75, 74, 69, 71, 74, 73, 73, 76, 74, 74, 70, 72, 77, 74, 70, 73, 75, 76, 76, 78, 74, 74, 76, 77, 81, 78, 75, 77, 75, 76, 74, 72, 72, 75, 73, 73, 73, 70, 70, 70, 76, 68, 71, 72, 75, 75, 75, 75, 68, 74, 78, 71, 73, 76, 74, 74, 79, 75, 73, 76, 74, 74, 73, 72, 74, 73, 74, 72, 73, 69, 72, 73, 75, 75, 73, 72, 72, 76, 74, 72, 77, 74, 77, 75, 76, 80, 74, 74, 75, 78, 73, 73, 74, 75, 76, 71, 73, 74, 76, 76, 74, 73, 74, 70, 72, 73, 73, 73, 73, 71, 74, 74, 72, 74, 71, 74, 73, 75, 75, 79, 73, 75, 76, 74, 76, 78, 74, 76, 72, 74, 76, 74, 75, 78, 75, 72, 74, 72, 74, 70, 71, 70, 75, 71, 71, 73, 72, 71, 73, 72, 75, 74, 74, 75, 73, 77, 73, 76, 75, 74, 76, 75, 73, 71, 76, 75, 72, 71, 77, 73, 74, 71, 72, 74, 75, 73, 72, 75, 75, 74, 72, 74, 71, 70, 74, 77, 77, 75, 75, 78, 75, 76, 73, 75, 75, 79, 77, 76, 71, 75, 74, 69, 71, 76, 72, 72, 70, 72, 73, 71, 72, 71, 73, 72, 73, 74, 74, 72, 75, 74, 74, 77, 75, 73, 72, 71, 74, 77, 75, 75, 75, 78, 78, 74, 76, 78, 76, 70, 72, 80, 74, 74, 71, 70, 72, 71, 74, 71, 72, 71, 74, 69, 76, 75, 75, 76, 73, 76, 73, 77, 73, 72, 72, 77, 77, 71, 74, 74, 73, 78, 75, 73, 70, 74, 72, 73, 73, 75, 75, 74, 76, 73, 74, 75, 75, 72, 73, 73, 72, 74, 78, 76, 73, 74, 75, 70, 75, 71, 72, 78, 75, 73, 73, 71, 75, 77, 72, 69, 73, 74, 72, 70, 75, 70, 72, 72, 74, 73, 74, 76, 75, 80, 72, 75, 73, 74, 74, 73, 75, 75, 71, 73, 75, 74, 74, 72, 74, 74, 74, 73, 76, 75, 72, 73, 73, 73, 72, 72, 72, 72, 71, 75, 75, 74, 73, 75, 79, 74, 76, 73, 74, 74, 72, 74, 74, 75, 78, 74, 74, 74, 77, 70, 73, 74, 73, 71, 75, 71, 72, 77, 74, 70, 77, 73, 72, 76, 71, 76, 78, 75, 73, 78, 74, 79, 75, 76, 72, 75, 75, 70, 72, 70, 74, 71, 76, 73, 76, 71, 69, 72, 72, 69, 73, 69, 73, 74, 74, 72, 71, 72, 72, 76, 76, 76, 74, 76, 75, 71, 72, 71, 73, 75, 76, 75, 71, 75, 74, 72, 73, 73, 73, 73, 76, 72, 76, 73, 73, 73, 75, 75, 77, 73, 72, 75, 70, 74, 72, 80, 71, 71, 74, 74, 73, 75, 76, 73, 77, 72, 73, 77, 76, 71, 75, 73, 74, 77, 71, 72, 73, 69, 73, 70, 74, 76, 73, 73, 75, 73, 79, 74, 73, 74, 77, 75, 74, 73, 77, 73, 77, 74, 74, 73, 77, 74, 77, 75, 77, 75, 71, 74, 70, 79, 72, 72, 70, 74, 74, 72, 73, 72, 74, 74, 76, 82, 74, 74, 70, 73, 73, 74, 77, 72, 76, 73, 73, 72, 74, 74, 71, 72, 75, 74, 74, 77, 70, 71, 73, 76, 71, 75, 74, 72, 76, 79, 76, 73, 76, 78, 75, 76, 72, 72, 73, 73, 75, 71, 76, 70, 75, 74, 75, 73, 71, 71, 72, 73, 73, 72, 69, 73, 78, 71, 73, 75, 76, 70, 74, 77, 75, 79, 72, 77, 73, 75, 75, 75, 73, 73, 76, 77, 75, 70, 71, 71, 75, 74, 69, 70, 75, 72, 75, 73, 72, 72, 72, 76, 75, 74, 69, 73, 72, 72, 75, 77, 76, 80, 77, 76, 79, 71, 75, 73, 76, 77, 73, 76, 70, 75, 73, 75, 70, 69, 71, 72, 72, 73, 70, 70, 73, 76, 75, 72, 73, 79, 71, 72, 74, 74, 74, 72, 76, 76, 72, 72, 71, 72, 72, 70, 77, 74, 72, 76, 71, 76, 71, 73, 70, 73, 73, 72, 71, 71, 71, 72, 72, 74, 74, 74, 71, 72, 75, 72, 71, 72, 72, 72, 72, 74, 74, 77, 75, 73, 75, 73, 76, 72, 77, 75, 72, 71, 71, 75, 72, 73, 73, 71, 70, 75, 71, 76, 73, 68, 71, 72, 74, 77, 72, 76, 78, 81, 72, 73, 76, 72, 72, 74, 76, 73, 76, 75, 70, 71, 74, 72, 73, 76, 76, 73, 71, 68, 71, 71, 74, 77, 69, 72, 76, 75, 76, 75, 76, 72, 74, 76, 74, 72, 75, 78, 77, 70, 72, 79, 74, 71, 68, 77, 75, 71, 72, 70, 72, 72, 73, 72, 74, 72, 72, 75, 72, 73, 74, 72, 78, 75, 72, 74, 75, 75, 76, 74, 74, 73, 74, 71, 74, 75, 76, 74, 76, 76, 73, 75, 75, 74, 68, 72, 75, 71, 70, 72, 73, 72, 75, 74, 70, 76, 71, 82, 72, 73, 74, 71, 75, 77, 72, 74, 72, 73, 78, 77, 73, 73, 73, 73, 73, 76, 75, 70, 73, 72, 73, 75, 74, 73, 73, 76, 73, 75, 70, 77, 72, 77, 74, 75, 75, 75, 75, 72, 74, 71, 76, 71, 75, 76, 83, 75, 74, 76, 72, 72, 75, 75, 72, 77, 73, 72, 70, 74, 72, 74, 72, 71, 70, 71, 76, 74, 76, 74, 74, 74, 75, 75, 71, 71, 74, 77, 71, 74, 75, 77, 76, 74, 76, 72, 71, 72, 75, 73, 68, 72, 69, 73, 73, 75, 70, 70, 74, 75, 74, 74, 73, 74, 75, 77, 73, 74, 76, 74, 75, 73, 76, 78, 75, 73, 77, 74, 72, 74, 72, 71, 73, 75, 73, 67, 67, 76, 74, 73, 70, 75, 70, 72, 77, 79, 78, 74, 75, 75, 78, 76, 75, 69, 75, 72, 75, 73, 74, 75, 75, 73]"
   ]
  },
  {
   "cell_type": "code",
   "execution_count": 23,
   "id": "8ee20771",
   "metadata": {},
   "outputs": [
    {
     "data": {
      "text/plain": [
       "array([74, 74, 72, ..., 75, 75, 73])"
      ]
     },
     "execution_count": 23,
     "metadata": {},
     "output_type": "execute_result"
    }
   ],
   "source": [
    "import numpy as np\n",
    "heights_in = np.array(heights)\n",
    "heights_in"
   ]
  },
  {
   "cell_type": "code",
   "execution_count": 24,
   "id": "1f676729",
   "metadata": {},
   "outputs": [
    {
     "data": {
      "text/plain": [
       "1015"
      ]
     },
     "execution_count": 24,
     "metadata": {},
     "output_type": "execute_result"
    }
   ],
   "source": [
    "#### length of np array\n",
    "len(heights_in)"
   ]
  },
  {
   "cell_type": "code",
   "execution_count": 25,
   "id": "a5bff002",
   "metadata": {},
   "outputs": [
    {
     "data": {
      "text/plain": [
       "1015"
      ]
     },
     "execution_count": 25,
     "metadata": {},
     "output_type": "execute_result"
    }
   ],
   "source": [
    "heights_in.size"
   ]
  },
  {
   "cell_type": "code",
   "execution_count": 26,
   "id": "a799acb2",
   "metadata": {},
   "outputs": [
    {
     "data": {
      "text/plain": [
       "(1015,)"
      ]
     },
     "execution_count": 26,
     "metadata": {},
     "output_type": "execute_result"
    }
   ],
   "source": [
    "heights_in.shape"
   ]
  },
  {
   "cell_type": "markdown",
   "id": "bcda650e",
   "metadata": {},
   "source": [
    "## converts heights from inches to meters"
   ]
  },
  {
   "cell_type": "code",
   "execution_count": 28,
   "id": "1a7795e0",
   "metadata": {},
   "outputs": [
    {
     "data": {
      "text/plain": [
       "array([1.8796, 1.8796, 1.8288, ..., 1.905 , 1.905 , 1.8542])"
      ]
     },
     "execution_count": 28,
     "metadata": {},
     "output_type": "execute_result"
    }
   ],
   "source": [
    "heights_m = heights_in * 0.0254\n",
    "heights_m"
   ]
  },
  {
   "cell_type": "markdown",
   "id": "b0d47676",
   "metadata": {},
   "source": [
    "# Sub-Setting Array"
   ]
  },
  {
   "cell_type": "markdown",
   "id": "6a085933",
   "metadata": {},
   "source": [
    "## Fetch the first element from the array"
   ]
  },
  {
   "cell_type": "code",
   "execution_count": 29,
   "id": "142f1e7b",
   "metadata": {},
   "outputs": [
    {
     "data": {
      "text/plain": [
       "74"
      ]
     },
     "execution_count": 29,
     "metadata": {},
     "output_type": "execute_result"
    }
   ],
   "source": [
    "heights_in[0]"
   ]
  },
  {
   "cell_type": "code",
   "execution_count": 30,
   "id": "cf4e409a",
   "metadata": {},
   "outputs": [
    {
     "data": {
      "text/plain": [
       "73"
      ]
     },
     "execution_count": 30,
     "metadata": {},
     "output_type": "execute_result"
    }
   ],
   "source": [
    "heights_in[-1]"
   ]
  },
  {
   "cell_type": "code",
   "execution_count": 31,
   "id": "4899a588",
   "metadata": {},
   "outputs": [
    {
     "data": {
      "text/plain": [
       "array([74, 74, 72, 72, 73])"
      ]
     },
     "execution_count": 31,
     "metadata": {},
     "output_type": "execute_result"
    }
   ],
   "source": [
    "heights_in[:5]"
   ]
  },
  {
   "cell_type": "code",
   "execution_count": 32,
   "id": "83a072f5",
   "metadata": {},
   "outputs": [
    {
     "data": {
      "text/plain": [
       "array([74, 74, 72, 72, 73])"
      ]
     },
     "execution_count": 32,
     "metadata": {},
     "output_type": "execute_result"
    }
   ],
   "source": [
    "heights_in[0:5]"
   ]
  },
  {
   "cell_type": "code",
   "execution_count": 33,
   "id": "886b05cb",
   "metadata": {},
   "outputs": [
    {
     "data": {
      "text/plain": [
       "array([73, 74, 75, 75, 73])"
      ]
     },
     "execution_count": 33,
     "metadata": {},
     "output_type": "execute_result"
    }
   ],
   "source": [
    "heights_in[-5:]"
   ]
  },
  {
   "cell_type": "markdown",
   "id": "21a06639",
   "metadata": {},
   "source": [
    "# Conditional Sub-Setting Arrays"
   ]
  },
  {
   "cell_type": "code",
   "execution_count": 35,
   "id": "6c219ba4",
   "metadata": {},
   "outputs": [
    {
     "data": {
      "text/plain": [
       "array([False, False,  True, ..., False, False, False])"
      ]
     },
     "execution_count": 35,
     "metadata": {},
     "output_type": "execute_result"
    }
   ],
   "source": [
    "heights_in < 73"
   ]
  },
  {
   "cell_type": "code",
   "execution_count": 40,
   "id": "5d4ce2f1",
   "metadata": {},
   "outputs": [
    {
     "data": {
      "text/plain": [
       "array([72, 72, 69, 69, 71, 71, 69, 70, 72, 71, 69, 71, 70, 72, 70, 72, 72,\n",
       "       70, 70, 70, 68, 71, 72, 68, 71, 72, 72, 69, 72, 72, 72, 72, 71, 70,\n",
       "       72, 71, 72, 71, 72, 72, 72, 70, 71, 70, 71, 71, 72, 71, 72, 71, 72,\n",
       "       71, 71, 72, 72, 72, 71, 70, 71, 69, 71, 72, 72, 70, 72, 71, 72, 71,\n",
       "       72, 72, 72, 71, 70, 72, 71, 70, 72, 71, 71, 72, 71, 69, 72, 72, 71,\n",
       "       70, 72, 72, 72, 70, 71, 72, 71, 72, 69, 72, 70, 70, 72, 72, 72, 71,\n",
       "       72, 72, 72, 72, 72, 72, 71, 72, 70, 71, 71, 72, 70, 72, 71, 72, 70,\n",
       "       72, 70, 71, 71, 69, 72, 72, 69, 69, 72, 71, 72, 72, 71, 72, 71, 71,\n",
       "       72, 72, 72, 70, 72, 71, 71, 72, 71, 71, 72, 69, 70, 71, 70, 72, 72,\n",
       "       70, 72, 72, 70, 72, 72, 71, 72, 70, 71, 71, 72, 72, 72, 71, 70, 71,\n",
       "       71, 72, 72, 69, 71, 70, 72, 70, 71, 71, 69, 70, 72, 72, 72, 72, 69,\n",
       "       72, 72, 71, 70, 70, 69, 71, 72, 72, 70, 70, 72, 71, 72, 72, 72, 72,\n",
       "       71, 72, 72, 70, 72, 71, 71, 70, 72, 71, 71, 71, 72, 72, 71, 72, 72,\n",
       "       71, 72, 72, 72, 72, 72, 72, 71, 71, 72, 71, 70, 71, 68, 71, 72, 72,\n",
       "       72, 72, 72, 70, 71, 72, 71, 68, 71, 71, 69, 72, 72, 72, 70, 72, 71,\n",
       "       68, 71, 72, 70, 72, 72, 72, 72, 72, 72, 72, 72, 71, 68, 72, 71, 70,\n",
       "       72, 72, 70, 71, 72, 71, 72, 72, 70, 72, 70, 72, 72, 71, 71, 72, 72,\n",
       "       72, 72, 70, 72, 72, 71, 70, 71, 71, 71, 71, 72, 71, 72, 68, 72, 69,\n",
       "       70, 70, 72, 72, 71, 67, 67, 70, 70, 72, 69, 72])"
      ]
     },
     "execution_count": 40,
     "metadata": {},
     "output_type": "execute_result"
    }
   ],
   "source": [
    "heights_in[heights_in < 73]"
   ]
  },
  {
   "cell_type": "code",
   "execution_count": 51,
   "id": "3f8fb6a4",
   "metadata": {},
   "outputs": [
    {
     "ename": "ValueError",
     "evalue": "The truth value of an array with more than one element is ambiguous. Use a.any() or a.all()",
     "output_type": "error",
     "traceback": [
      "\u001b[1;31m---------------------------------------------------------------------------\u001b[0m",
      "\u001b[1;31mValueError\u001b[0m                                Traceback (most recent call last)",
      "\u001b[1;32m~\\AppData\\Local\\Temp\\ipykernel_134108\\3835030726.py\u001b[0m in \u001b[0;36m<module>\u001b[1;34m\u001b[0m\n\u001b[0;32m      1\u001b[0m \u001b[0munderHeightPlayers\u001b[0m \u001b[1;33m=\u001b[0m \u001b[0mheights_in\u001b[0m\u001b[1;33m[\u001b[0m\u001b[0mheights_in\u001b[0m \u001b[1;33m<\u001b[0m \u001b[1;36m73\u001b[0m\u001b[1;33m]\u001b[0m\u001b[1;33m\u001b[0m\u001b[1;33m\u001b[0m\u001b[0m\n\u001b[1;32m----> 2\u001b[1;33m \u001b[0munderHeightPlayers\u001b[0m \u001b[1;33m=\u001b[0m \u001b[0mheights_in\u001b[0m\u001b[1;33m[\u001b[0m\u001b[1;36m70\u001b[0m\u001b[1;33m<\u001b[0m\u001b[0mheights_in\u001b[0m\u001b[1;33m<\u001b[0m \u001b[1;36m72\u001b[0m\u001b[1;33m]\u001b[0m\u001b[1;33m\u001b[0m\u001b[1;33m\u001b[0m\u001b[0m\n\u001b[0m\u001b[0;32m      3\u001b[0m \u001b[0munderHeightPlayers\u001b[0m\u001b[1;33m\u001b[0m\u001b[1;33m\u001b[0m\u001b[0m\n",
      "\u001b[1;31mValueError\u001b[0m: The truth value of an array with more than one element is ambiguous. Use a.any() or a.all()"
     ]
    }
   ],
   "source": [
    "underHeightPlayers = heights_in[heights_in < 73]\n",
    "underHeightPlayers"
   ]
  },
  {
   "cell_type": "code",
   "execution_count": 43,
   "id": "fb2c24ea",
   "metadata": {},
   "outputs": [
    {
     "data": {
      "text/plain": [
       "318"
      ]
     },
     "execution_count": 43,
     "metadata": {},
     "output_type": "execute_result"
    }
   ],
   "source": [
    "underHeightPlayers.size"
   ]
  },
  {
   "cell_type": "markdown",
   "id": "a750e423",
   "metadata": {},
   "source": [
    "## Largest Value"
   ]
  },
  {
   "cell_type": "code",
   "execution_count": 46,
   "id": "9981cf40",
   "metadata": {},
   "outputs": [
    {
     "data": {
      "text/plain": [
       "72"
      ]
     },
     "execution_count": 46,
     "metadata": {},
     "output_type": "execute_result"
    }
   ],
   "source": [
    "underHeightPlayers.max()"
   ]
  },
  {
   "cell_type": "markdown",
   "id": "fddde3d7",
   "metadata": {},
   "source": [
    "## Lowest value"
   ]
  },
  {
   "cell_type": "code",
   "execution_count": 47,
   "id": "0a235054",
   "metadata": {},
   "outputs": [
    {
     "data": {
      "text/plain": [
       "67"
      ]
     },
     "execution_count": 47,
     "metadata": {},
     "output_type": "execute_result"
    }
   ],
   "source": [
    "underHeightPlayers.min()"
   ]
  },
  {
   "cell_type": "code",
   "execution_count": 48,
   "id": "c7753651",
   "metadata": {},
   "outputs": [
    {
     "data": {
      "text/plain": [
       "71.1006289308176"
      ]
     },
     "execution_count": 48,
     "metadata": {},
     "output_type": "execute_result"
    }
   ],
   "source": [
    "underHeightPlayers.mean()"
   ]
  },
  {
   "cell_type": "markdown",
   "id": "40f3e13f",
   "metadata": {},
   "source": [
    "## QUIZ"
   ]
  },
  {
   "cell_type": "code",
   "execution_count": 49,
   "id": "8f09e586",
   "metadata": {},
   "outputs": [
    {
     "name": "stdout",
     "output_type": "stream",
     "text": [
      "[2, 5, 7, 4, 3, 1]\n"
     ]
    }
   ],
   "source": [
    "array_1 = [1,2,3,5,4,6,7,8,5,3,2]\n",
    "print(array_1[ : : -2]) # [2, 5, 7, 4, 3, 1]"
   ]
  },
  {
   "cell_type": "code",
   "execution_count": 52,
   "id": "fe315600",
   "metadata": {},
   "outputs": [
    {
     "ename": "NameError",
     "evalue": "name 'array' is not defined",
     "output_type": "error",
     "traceback": [
      "\u001b[1;31m---------------------------------------------------------------------------\u001b[0m",
      "\u001b[1;31mNameError\u001b[0m                                 Traceback (most recent call last)",
      "\u001b[1;32m~\\AppData\\Local\\Temp\\ipykernel_134108\\507468093.py\u001b[0m in \u001b[0;36m<module>\u001b[1;34m\u001b[0m\n\u001b[0;32m      2\u001b[0m \u001b[1;31m## (Hint: Odd index refers to the position of the element, not the actual value)\u001b[0m\u001b[1;33m\u001b[0m\u001b[1;33m\u001b[0m\u001b[0m\n\u001b[0;32m      3\u001b[0m \u001b[1;33m\u001b[0m\u001b[0m\n\u001b[1;32m----> 4\u001b[1;33m \u001b[0marray\u001b[0m\u001b[1;33m[\u001b[0m\u001b[1;36m1\u001b[0m\u001b[1;33m:\u001b[0m \u001b[1;33m:\u001b[0m \u001b[1;36m2\u001b[0m\u001b[1;33m]\u001b[0m\u001b[1;33m\u001b[0m\u001b[1;33m\u001b[0m\u001b[0m\n\u001b[0m",
      "\u001b[1;31mNameError\u001b[0m: name 'array' is not defined"
     ]
    }
   ],
   "source": [
    "## How would you extract all the elements with an odd index in a given array?\n",
    "## (Hint: Odd index refers to the position of the element, not the actual value)\n",
    "\n",
    "array[1: : 2]\n"
   ]
  },
  {
   "cell_type": "code",
   "execution_count": null,
   "id": "1e35af3c",
   "metadata": {},
   "outputs": [],
   "source": [
    "## From a given array, extract all the elements which are greater than 'm' and less than 'n'. \n",
    "## Note: 'm' and 'n' are integer values provided as input.\n",
    "\n",
    "import numpy as np\n",
    "array_1 = np.array(input_list)#start writing your code from here\n",
    "final_array = array_1[(array_1 > m) & (array_1<n)]\n",
    "\n",
    "print(final_array)"
   ]
  }
 ],
 "metadata": {
  "kernelspec": {
   "display_name": "Python 3 (ipykernel)",
   "language": "python",
   "name": "python3"
  },
  "language_info": {
   "codemirror_mode": {
    "name": "ipython",
    "version": 3
   },
   "file_extension": ".py",
   "mimetype": "text/x-python",
   "name": "python",
   "nbconvert_exporter": "python",
   "pygments_lexer": "ipython3",
   "version": "3.9.13"
  }
 },
 "nbformat": 4,
 "nbformat_minor": 5
}
