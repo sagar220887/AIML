{
 "cells": [
  {
   "cell_type": "code",
   "execution_count": 12,
   "id": "6afe4c62",
   "metadata": {},
   "outputs": [
    {
     "name": "stdout",
     "output_type": "stream",
     "text": [
      "[1, 2, 3, 4, 3, 4, 5, 6]\n"
     ]
    }
   ],
   "source": [
    "# concat two string\n",
    "# 1. by +\n",
    "list_a = [1,2,3,4]\n",
    "list_b = [3,4,5,6]\n",
    "print(list_a + list_b)"
   ]
  },
  {
   "cell_type": "code",
   "execution_count": 13,
   "id": "b14e1bc6",
   "metadata": {},
   "outputs": [
    {
     "data": {
      "text/plain": [
       "[1, 2, 3, 4, 3, 4, 5, 6]"
      ]
     },
     "execution_count": 13,
     "metadata": {},
     "output_type": "execute_result"
    }
   ],
   "source": [
    "# 2. By extend method\n",
    "list_a.extend(list_b)\n",
    "list_a"
   ]
  },
  {
   "cell_type": "code",
   "execution_count": 14,
   "id": "4833ef4a",
   "metadata": {},
   "outputs": [
    {
     "data": {
      "text/plain": [
       "[1, 2, 3, 4, 3, 4, 5, 6, [3, 4, 5, 6]]"
      ]
     },
     "execution_count": 14,
     "metadata": {},
     "output_type": "execute_result"
    }
   ],
   "source": [
    "## Appending a list to an existing list -> Nested list\n",
    "list_a.append(list_b)\n",
    "list_a"
   ]
  },
  {
   "cell_type": "code",
   "execution_count": 28,
   "id": "18fb2592",
   "metadata": {},
   "outputs": [
    {
     "name": "stdout",
     "output_type": "stream",
     "text": [
      "['sagar', '2208']\n",
      "('sagar', '2208')\n",
      "['sagar', '2208']\n"
     ]
    }
   ],
   "source": [
    "tuple_1 = ('sagar', '2208')\n",
    "list_1 = list(tuple_1)\n",
    "print(list_1)\n",
    "\n",
    "# convert list -> tuple\n",
    "tuple_2 = tuple(list_1)\n",
    "print(tuple_2)\n",
    "\n",
    "# convert tuple -> list\n",
    "list_a = list(tuple_2)\n",
    "print(list_a)"
   ]
  },
  {
   "cell_type": "code",
   "execution_count": 21,
   "id": "8875860c",
   "metadata": {},
   "outputs": [
    {
     "name": "stdout",
     "output_type": "stream",
     "text": [
      "{}\n",
      "{'name': 'Sagar', 'age': 35}\n",
      "{'prof': 'IT'}\n"
     ]
    }
   ],
   "source": [
    "# dictionary -> un-ordered\n",
    "d = {}\n",
    "print(d)\n",
    "d= {'name': 'Sagar', 'age': 35}\n",
    "print(d)\n",
    "d = dict(prof='IT')\n",
    "print(d)"
   ]
  },
  {
   "cell_type": "code",
   "execution_count": 22,
   "id": "39ba99f7",
   "metadata": {},
   "outputs": [
    {
     "name": "stdout",
     "output_type": "stream",
     "text": [
      "{'prof': 'IT', 'skill': 'python'}\n"
     ]
    }
   ],
   "source": [
    "# add a key\n",
    "d['skill'] = 'python'\n",
    "print(d)"
   ]
  },
  {
   "cell_type": "code",
   "execution_count": 23,
   "id": "79c193ed",
   "metadata": {},
   "outputs": [
    {
     "name": "stdout",
     "output_type": "stream",
     "text": [
      "False\n"
     ]
    }
   ],
   "source": [
    "print('bio' in d)"
   ]
  },
  {
   "cell_type": "code",
   "execution_count": 25,
   "id": "889dafd5",
   "metadata": {},
   "outputs": [
    {
     "name": "stdout",
     "output_type": "stream",
     "text": [
      "['prof', 'skill']\n",
      "['IT', 'python']\n"
     ]
    }
   ],
   "source": [
    "#  Get all keys\n",
    "print(list(d.keys()))\n",
    "\n",
    "# Get all values\n",
    "print(list(d.values()))"
   ]
  },
  {
   "cell_type": "code",
   "execution_count": 26,
   "id": "dcc951ca",
   "metadata": {},
   "outputs": [
    {
     "name": "stdout",
     "output_type": "stream",
     "text": [
      "{'prof': 'IT'}\n"
     ]
    }
   ],
   "source": [
    "# delete proprty\n",
    "del d['skill']\n",
    "print(d)"
   ]
  },
  {
   "cell_type": "code",
   "execution_count": 27,
   "id": "bc0a522c",
   "metadata": {},
   "outputs": [
    {
     "name": "stdout",
     "output_type": "stream",
     "text": [
      "1\n"
     ]
    }
   ],
   "source": [
    "# length of dictionary\n",
    "print(len(d))"
   ]
  },
  {
   "cell_type": "code",
   "execution_count": 30,
   "id": "7c6e5db4",
   "metadata": {},
   "outputs": [
    {
     "name": "stdout",
     "output_type": "stream",
     "text": [
      "['A', 'A', 'B', 'C', 'D', 'D']\n",
      "{'B', 'D', 'A', 'C'}\n",
      "<class 'set'>\n"
     ]
    }
   ],
   "source": [
    "# sets - un-ordered \n",
    "student_list = ['A', 'A', 'B', 'C', 'D', 'D']\n",
    "print(student_list)\n",
    "\n",
    "# list -> set\n",
    "student_set = set(student_list)\n",
    "print(student_set)\n",
    "print(type(student_set))"
   ]
  },
  {
   "cell_type": "code",
   "execution_count": 31,
   "id": "ebc39ae4",
   "metadata": {},
   "outputs": [
    {
     "name": "stdout",
     "output_type": "stream",
     "text": [
      "{1, 2, 3, 4}\n"
     ]
    }
   ],
   "source": [
    "set1 = {1,2,3,4,4}\n",
    "print(set1)"
   ]
  },
  {
   "cell_type": "code",
   "execution_count": 36,
   "id": "0a64293c",
   "metadata": {},
   "outputs": [
    {
     "name": "stdout",
     "output_type": "stream",
     "text": [
      "{1, 2, 3, 4, 5, 7}\n",
      "{1, 3, 5}\n",
      "{2, 4}\n",
      "{2, 4, 7}\n"
     ]
    }
   ],
   "source": [
    "A = {1,2,3,4,5}\n",
    "B = {1,7,5,3}\n",
    "\n",
    "# union\n",
    "AUB = A.union(B)\n",
    "print(AUB)\n",
    "\n",
    "# intersection\n",
    "AXB = A.intersection(B)\n",
    "print(AXB)\n",
    "\n",
    "# difference -> \n",
    "AB = A.difference(B) # present in A not present in B\n",
    "print(AB)\n",
    "\n",
    "# symetric diff -> (A-B) Union (B-A)\n",
    "SymmetricDiff = (A.difference(B)).union(B.difference(A))\n",
    "print(SymmetricDiff)"
   ]
  },
  {
   "cell_type": "markdown",
   "id": "2ebe8d3f",
   "metadata": {},
   "source": [
    "# Conditional Statements"
   ]
  },
  {
   "cell_type": "code",
   "execution_count": 1,
   "id": "9bd40265",
   "metadata": {},
   "outputs": [
    {
     "name": "stdout",
     "output_type": "stream",
     "text": [
      "Enter the score: 200\n",
      "average\n"
     ]
    }
   ],
   "source": [
    "score = int(input('Enter the score: '));\n",
    "if score == 100:\n",
    "    print('Great score')\n",
    "elif 90 <= score < 100:\n",
    "    print('Distinction')\n",
    "elif 80 <= score < 90:\n",
    "    print('First class')\n",
    "else :\n",
    "    print('average')"
   ]
  },
  {
   "cell_type": "markdown",
   "id": "5e50ce81",
   "metadata": {},
   "source": [
    "## Loops"
   ]
  },
  {
   "cell_type": "code",
   "execution_count": 2,
   "id": "36dac109",
   "metadata": {},
   "outputs": [
    {
     "name": "stdout",
     "output_type": "stream",
     "text": [
      "1\n",
      "2\n",
      "3\n",
      "4\n"
     ]
    }
   ],
   "source": [
    "for i in range(1,5):\n",
    "    print(i)"
   ]
  },
  {
   "cell_type": "code",
   "execution_count": 7,
   "id": "16ec5606",
   "metadata": {},
   "outputs": [
    {
     "name": "stdout",
     "output_type": "stream",
     "text": [
      "P | y | t | h | o | n |   | i | s |   | a |   | g | r | e | a | t |   | l | a | n | g | u | a | g | e | "
     ]
    }
   ],
   "source": [
    "sample_phrase = 'Python is a great language'\n",
    "for letter in sample_phrase:\n",
    "    print(letter + ' | ', end='')"
   ]
  },
  {
   "cell_type": "code",
   "execution_count": 10,
   "id": "202dbebb",
   "metadata": {},
   "outputs": [
    {
     "name": "stdout",
     "output_type": "stream",
     "text": [
      "P -  0\n",
      "y -  1\n",
      "t -  2\n",
      "h -  3\n",
      "o -  4\n",
      "n -  5\n",
      "  -  6\n",
      "i -  7\n",
      "s -  8\n",
      "  -  9\n",
      "a -  10\n",
      "  -  11\n",
      "g -  12\n",
      "r -  13\n",
      "e -  14\n",
      "a -  15\n",
      "t -  16\n",
      "  -  17\n",
      "l -  18\n",
      "a -  19\n",
      "n -  20\n",
      "g -  21\n",
      "u -  22\n",
      "a -  23\n",
      "g -  24\n",
      "e -  25\n"
     ]
    }
   ],
   "source": [
    "# getting index from a for loop\n",
    "for index,letter in enumerate(sample_phrase):\n",
    "    print(letter + ' - ', index)"
   ]
  },
  {
   "cell_type": "code",
   "execution_count": 14,
   "id": "bade6de1",
   "metadata": {},
   "outputs": [
    {
     "name": "stdout",
     "output_type": "stream",
     "text": [
      "0\n",
      "1\n",
      "2\n",
      "3\n",
      "4\n",
      "5\n",
      "6\n",
      "7\n",
      "8\n",
      "9\n",
      "10\n",
      "11\n",
      "12\n",
      "13\n",
      "14\n",
      "15\n",
      "16\n",
      "17\n",
      "18\n",
      "19\n",
      "20\n",
      "21\n",
      "22\n",
      "23\n",
      "24\n",
      "25\n",
      "26\n",
      "27\n",
      "28\n",
      "29\n",
      "30\n",
      "31\n",
      "32\n",
      "33\n",
      "34\n",
      "35\n",
      "36\n",
      "37\n",
      "38\n",
      "39\n",
      "40\n",
      "41\n",
      "42\n",
      "43\n",
      "44\n",
      "45\n",
      "46\n",
      "47\n",
      "48\n",
      "49\n",
      "50\n",
      "51\n",
      "52\n",
      "53\n",
      "54\n",
      "55\n",
      "56\n",
      "57\n",
      "58\n",
      "59\n",
      "60\n",
      "61\n",
      "62\n",
      "63\n",
      "64\n",
      "65\n",
      "66\n",
      "67\n",
      "68\n",
      "69\n",
      "70\n",
      "71\n",
      "72\n",
      "73\n",
      "74\n",
      "75\n",
      "76\n",
      "77\n",
      "78\n",
      "79\n",
      "80\n",
      "81\n",
      "82\n",
      "83\n",
      "84\n",
      "85\n",
      "86\n",
      "87\n",
      "88\n",
      "89\n",
      "90\n",
      "91\n",
      "92\n",
      "93\n",
      "94\n",
      "95\n",
      "96\n",
      "97\n",
      "98\n",
      "99\n"
     ]
    }
   ],
   "source": [
    "# break, pass, continue\n",
    "for i in range(100):\n",
    "    print(i)\n",
    "    if(i > 50):\n",
    "        break\n",
    "        print('Hello')\n",
    "        \n",
    "for i in range(100):\n",
    "    print(i)\n",
    "    if(i > 50):\n",
    "        pass\n",
    "        print('Hello')\n",
    "        \n",
    "        \n",
    "for i in range(100):\n",
    "    print(i)\n",
    "    if(i > 50):\n",
    "        continue\n",
    "        print('Hello')"
   ]
  },
  {
   "cell_type": "markdown",
   "id": "5eb43d23",
   "metadata": {},
   "source": [
    "# List Comrehensions"
   ]
  },
  {
   "cell_type": "code",
   "execution_count": 15,
   "id": "a163217a",
   "metadata": {},
   "outputs": [
    {
     "name": "stdout",
     "output_type": "stream",
     "text": [
      "python\n",
      "is\n",
      "easy\n",
      "learn\n",
      "python\n",
      "good\n",
      "luck\n",
      "['python', 'is', 'easy', 'learn', 'python', 'good', 'luck']\n"
     ]
    }
   ],
   "source": [
    "# list_variable = [ action on each element <for syntax>]\n",
    "paragraph = ['python is easy', 'learn python', 'good luck'];\n",
    "for sentence in paragraph:\n",
    "    for word in sentence.split():\n",
    "        print(word)\n",
    "        \n",
    "#list comprehension way:\n",
    "word_list = [  word for sentence in paragraph for word in sentence.split()]\n",
    "print(word_list)"
   ]
  },
  {
   "cell_type": "code",
   "execution_count": 16,
   "id": "cf2c26a9",
   "metadata": {},
   "outputs": [
    {
     "name": "stdout",
     "output_type": "stream",
     "text": [
      "['is', 'easy']\n"
     ]
    }
   ],
   "source": [
    "# list comprenhensin with if statements\n",
    "vowels = ['a', 'e', 'i', 'o', 'u']\n",
    "vowels_from_paragraph = [];\n",
    "\n",
    "for sentence in paragraph:\n",
    "    for word in sentence.split():\n",
    "        if(word[0].lower() in vowels):\n",
    "            vowels_from_paragraph.append(word)\n",
    "print(vowels_from_paragraph)\n"
   ]
  },
  {
   "cell_type": "code",
   "execution_count": 17,
   "id": "012df6d1",
   "metadata": {},
   "outputs": [
    {
     "name": "stdout",
     "output_type": "stream",
     "text": [
      "['is', 'easy']\n"
     ]
    }
   ],
   "source": [
    "new_list = [ word for sentence in paragraph for word in sentence.split() if(word[0].lower() in vowels)]\n",
    "print(new_list)"
   ]
  },
  {
   "cell_type": "markdown",
   "id": "5eaa5092",
   "metadata": {},
   "source": [
    "# Dictionary comprehension"
   ]
  },
  {
   "cell_type": "code",
   "execution_count": 18,
   "id": "87fedaf5",
   "metadata": {},
   "outputs": [
    {
     "name": "stdout",
     "output_type": "stream",
     "text": [
      "{1: 1, 2: 4, 3: 9, 4: 16, 5: 25, 6: 36, 7: 49, 8: 64, 9: 81, 10: 100, 11: 121, 12: 144, 13: 169, 14: 196, 15: 225, 16: 256, 17: 289, 18: 324, 19: 361}\n"
     ]
    }
   ],
   "source": [
    "dict_1 = {n:n**2 for n in range(1,20)}\n",
    "print(dict_1)"
   ]
  },
  {
   "cell_type": "code",
   "execution_count": 19,
   "id": "2af78ca6",
   "metadata": {},
   "outputs": [
    {
     "name": "stdout",
     "output_type": "stream",
     "text": [
      "['ad', 'ae', 'af', 'bd', 'be', 'bf', 'cd', 'ce', 'cf']\n",
      "{'A': 'aaa', 'C': 'ccc', 'B': 'bbb', 'D': 'ddd'}\n"
     ]
    }
   ],
   "source": [
    "print([i+j for i in \"abc\" for j in \"def\"]) # \n",
    "d = {x.upper(): x*3 for x in 'acbd'}\n",
    "print(d) # {'A': 'aaa', 'C': 'ccc', 'B': 'bbb', 'D': 'ddd'}"
   ]
  },
  {
   "cell_type": "markdown",
   "id": "e947bdf9",
   "metadata": {},
   "source": [
    "# Functions"
   ]
  },
  {
   "cell_type": "code",
   "execution_count": 20,
   "id": "cd144c35",
   "metadata": {},
   "outputs": [
    {
     "name": "stdout",
     "output_type": "stream",
     "text": [
      "Hello\n"
     ]
    }
   ],
   "source": [
    "def greet():\n",
    "    print('Hello')\n",
    "    \n",
    "greet()"
   ]
  },
  {
   "cell_type": "code",
   "execution_count": 29,
   "id": "af901fcc",
   "metadata": {},
   "outputs": [
    {
     "name": "stdout",
     "output_type": "stream",
     "text": [
      "120\n"
     ]
    }
   ],
   "source": [
    "# factorial\n",
    "def fact(n):\n",
    "    if n > 1:\n",
    "       return n * fact(n-1)\n",
    "    else:\n",
    "        return n\n",
    "\n",
    "value = fact(5)\n",
    "print(value)"
   ]
  },
  {
   "cell_type": "code",
   "execution_count": 30,
   "id": "fbca7c43",
   "metadata": {},
   "outputs": [
    {
     "name": "stdout",
     "output_type": "stream",
     "text": [
      "(1, 3, 5, 7, 8)\n",
      "24\n"
     ]
    }
   ],
   "source": [
    "## Dynamic arguments\n",
    "def addition(*args):\n",
    "    print(args)\n",
    "    print(sum(args))\n",
    "    \n",
    "addition(1,3,5,7,8)"
   ]
  },
  {
   "cell_type": "markdown",
   "id": "17a66a95",
   "metadata": {},
   "source": [
    "# Lambda functions"
   ]
  },
  {
   "cell_type": "code",
   "execution_count": 33,
   "id": "17005e49",
   "metadata": {},
   "outputs": [
    {
     "name": "stdout",
     "output_type": "stream",
     "text": [
      "16\n",
      "30\n"
     ]
    }
   ],
   "source": [
    "## function_name  = lambda <space>  input_parameters  :  output_parameters\n",
    "## Eg: join_by_comma = lambda x : ','.join(x)\n",
    "\n",
    "product = lambda x: x**2\n",
    "print(product(4))\n",
    "\n",
    "mult = lambda x,y: x*y\n",
    "print(mult(6,5))"
   ]
  },
  {
   "cell_type": "markdown",
   "id": "5eca4d44",
   "metadata": {},
   "source": [
    "## Map"
   ]
  },
  {
   "cell_type": "code",
   "execution_count": 35,
   "id": "c687404e",
   "metadata": {},
   "outputs": [
    {
     "name": "stdout",
     "output_type": "stream",
     "text": [
      "[4, 16, 36, 64, 100]\n"
     ]
    }
   ],
   "source": [
    "list_a = [2,4,6,8,10]\n",
    "list_map = list(map(lambda x: x**2, list_a))\n",
    "print(list_map)"
   ]
  },
  {
   "cell_type": "code",
   "execution_count": 37,
   "id": "1767b336",
   "metadata": {},
   "outputs": [
    {
     "data": {
      "text/plain": [
       "[1, 2, 3, 4, 5, 6]"
      ]
     },
     "execution_count": 37,
     "metadata": {},
     "output_type": "execute_result"
    }
   ],
   "source": [
    "list_c = list(range(1,7))\n",
    "list_c"
   ]
  },
  {
   "cell_type": "code",
   "execution_count": 38,
   "id": "59cc8b93",
   "metadata": {},
   "outputs": [
    {
     "name": "stdout",
     "output_type": "stream",
     "text": [
      "[1, 4, 9, 16, 25, 36]\n"
     ]
    }
   ],
   "source": [
    "def square(n):\n",
    "    return (n**2)\n",
    "\n",
    "list_new = list(map(square, list_c))\n",
    "print(list_new)"
   ]
  },
  {
   "cell_type": "code",
   "execution_count": 39,
   "id": "c60ada08",
   "metadata": {},
   "outputs": [
    {
     "name": "stdout",
     "output_type": "stream",
     "text": [
      "1\n"
     ]
    }
   ],
   "source": [
    "input_list = ['Python', 'say', 'is', 'Shiny']\n",
    "count = list(map(lambda word: True if word[0] == 'S' else False, input_list)).count(True)#Type your code here\n",
    "print(count)"
   ]
  },
  {
   "cell_type": "code",
   "execution_count": 55,
   "id": "98dffd0b",
   "metadata": {},
   "outputs": [
    {
     "name": "stdout",
     "output_type": "stream",
     "text": [
      "[None, None, None, 'Shiny']\n",
      "4\n",
      "['Shiny']\n"
     ]
    }
   ],
   "source": [
    "input_list = ['Python', 'say', 'is', 'Shiny']\n",
    "word_list = list(map(lambda word: word if word[0] == 'S' else None, input_list))#Type your code here\n",
    "print(word_list)\n",
    "print(len(word_list))\n",
    "\n",
    "word_list_new = [i for i in word_list if i!= None]\n",
    "print(word_list_new)"
   ]
  },
  {
   "cell_type": "markdown",
   "id": "7e37bc95",
   "metadata": {},
   "source": [
    "## Filter - apply a rule on each element"
   ]
  },
  {
   "cell_type": "code",
   "execution_count": 57,
   "id": "dfb74acc",
   "metadata": {},
   "outputs": [
    {
     "name": "stdout",
     "output_type": "stream",
     "text": [
      "[3, 6, 9, 12, 15, 18]\n"
     ]
    }
   ],
   "source": [
    "list_a = list(range(1,20))\n",
    "divideBy = lambda x: x%3 == 0\n",
    "list_filter = list(filter(divideBy, list_a))\n",
    "print(list_filter)"
   ]
  },
  {
   "cell_type": "code",
   "execution_count": 58,
   "id": "ba5d1041",
   "metadata": {},
   "outputs": [
    {
     "ename": "TypeError",
     "evalue": "can only concatenate list (not \"int\") to list",
     "output_type": "error",
     "traceback": [
      "\u001b[1;31m---------------------------------------------------------------------------\u001b[0m",
      "\u001b[1;31mTypeError\u001b[0m                                 Traceback (most recent call last)",
      "\u001b[1;32m~\\AppData\\Local\\Temp\\ipykernel_17984\\2044549626.py\u001b[0m in \u001b[0;36m<module>\u001b[1;34m\u001b[0m\n\u001b[0;32m      3\u001b[0m \u001b[0mlist_b\u001b[0m \u001b[1;33m=\u001b[0m \u001b[1;33m[\u001b[0m\u001b[1;36m2\u001b[0m\u001b[1;33m,\u001b[0m\u001b[1;36m4\u001b[0m\u001b[1;33m,\u001b[0m\u001b[1;36m6\u001b[0m\u001b[1;33m,\u001b[0m\u001b[1;36m8\u001b[0m\u001b[1;33m,\u001b[0m\u001b[1;36m10\u001b[0m\u001b[1;33m]\u001b[0m\u001b[1;33m\u001b[0m\u001b[1;33m\u001b[0m\u001b[0m\n\u001b[0;32m      4\u001b[0m \u001b[0mcon_add\u001b[0m \u001b[1;33m=\u001b[0m \u001b[1;32mlambda\u001b[0m \u001b[0mx\u001b[0m\u001b[1;33m,\u001b[0m\u001b[0my\u001b[0m\u001b[1;33m:\u001b[0m \u001b[0mx\u001b[0m\u001b[1;33m+\u001b[0m\u001b[0my\u001b[0m\u001b[1;33m\u001b[0m\u001b[1;33m\u001b[0m\u001b[0m\n\u001b[1;32m----> 5\u001b[1;33m \u001b[0mvalue\u001b[0m \u001b[1;33m=\u001b[0m \u001b[0mreduce\u001b[0m\u001b[1;33m(\u001b[0m\u001b[0mcon_add\u001b[0m\u001b[1;33m,\u001b[0m \u001b[0mlist_a\u001b[0m\u001b[1;33m,\u001b[0m \u001b[0mlist_b\u001b[0m\u001b[1;33m)\u001b[0m\u001b[1;33m\u001b[0m\u001b[1;33m\u001b[0m\u001b[0m\n\u001b[0m\u001b[0;32m      6\u001b[0m \u001b[0mprint\u001b[0m\u001b[1;33m(\u001b[0m\u001b[0mvalue\u001b[0m\u001b[1;33m)\u001b[0m\u001b[1;33m\u001b[0m\u001b[1;33m\u001b[0m\u001b[0m\n",
      "\u001b[1;32m~\\AppData\\Local\\Temp\\ipykernel_17984\\2044549626.py\u001b[0m in \u001b[0;36m<lambda>\u001b[1;34m(x, y)\u001b[0m\n\u001b[0;32m      2\u001b[0m \u001b[0mlist_a\u001b[0m \u001b[1;33m=\u001b[0m \u001b[1;33m[\u001b[0m\u001b[1;36m1\u001b[0m\u001b[1;33m,\u001b[0m\u001b[1;36m3\u001b[0m\u001b[1;33m,\u001b[0m\u001b[1;36m5\u001b[0m\u001b[1;33m,\u001b[0m\u001b[1;36m7\u001b[0m\u001b[1;33m,\u001b[0m\u001b[1;36m9\u001b[0m\u001b[1;33m]\u001b[0m\u001b[1;33m\u001b[0m\u001b[1;33m\u001b[0m\u001b[0m\n\u001b[0;32m      3\u001b[0m \u001b[0mlist_b\u001b[0m \u001b[1;33m=\u001b[0m \u001b[1;33m[\u001b[0m\u001b[1;36m2\u001b[0m\u001b[1;33m,\u001b[0m\u001b[1;36m4\u001b[0m\u001b[1;33m,\u001b[0m\u001b[1;36m6\u001b[0m\u001b[1;33m,\u001b[0m\u001b[1;36m8\u001b[0m\u001b[1;33m,\u001b[0m\u001b[1;36m10\u001b[0m\u001b[1;33m]\u001b[0m\u001b[1;33m\u001b[0m\u001b[1;33m\u001b[0m\u001b[0m\n\u001b[1;32m----> 4\u001b[1;33m \u001b[0mcon_add\u001b[0m \u001b[1;33m=\u001b[0m \u001b[1;32mlambda\u001b[0m \u001b[0mx\u001b[0m\u001b[1;33m,\u001b[0m\u001b[0my\u001b[0m\u001b[1;33m:\u001b[0m \u001b[0mx\u001b[0m\u001b[1;33m+\u001b[0m\u001b[0my\u001b[0m\u001b[1;33m\u001b[0m\u001b[1;33m\u001b[0m\u001b[0m\n\u001b[0m\u001b[0;32m      5\u001b[0m \u001b[0mvalue\u001b[0m \u001b[1;33m=\u001b[0m \u001b[0mreduce\u001b[0m\u001b[1;33m(\u001b[0m\u001b[0mcon_add\u001b[0m\u001b[1;33m,\u001b[0m \u001b[0mlist_a\u001b[0m\u001b[1;33m,\u001b[0m \u001b[0mlist_b\u001b[0m\u001b[1;33m)\u001b[0m\u001b[1;33m\u001b[0m\u001b[1;33m\u001b[0m\u001b[0m\n\u001b[0;32m      6\u001b[0m \u001b[0mprint\u001b[0m\u001b[1;33m(\u001b[0m\u001b[0mvalue\u001b[0m\u001b[1;33m)\u001b[0m\u001b[1;33m\u001b[0m\u001b[1;33m\u001b[0m\u001b[0m\n",
      "\u001b[1;31mTypeError\u001b[0m: can only concatenate list (not \"int\") to list"
     ]
    }
   ],
   "source": [
    "from functools import reduce\n",
    "list_a = [1,3,5,7,9]\n",
    "list_b = [2,4,6,8,10]\n",
    "con_add = lambda x,y: x+y\n",
    "value = reduce(lambda x,y: x+y, list_a, list_b)\n",
    "print(value)"
   ]
  },
  {
   "cell_type": "code",
   "execution_count": null,
   "id": "0333313e",
   "metadata": {},
   "outputs": [],
   "source": []
  }
 ],
 "metadata": {
  "kernelspec": {
   "display_name": "Python 3 (ipykernel)",
   "language": "python",
   "name": "python3"
  },
  "language_info": {
   "codemirror_mode": {
    "name": "ipython",
    "version": 3
   },
   "file_extension": ".py",
   "mimetype": "text/x-python",
   "name": "python",
   "nbconvert_exporter": "python",
   "pygments_lexer": "ipython3",
   "version": "3.9.13"
  }
 },
 "nbformat": 4,
 "nbformat_minor": 5
}
