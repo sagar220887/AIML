{
 "cells": [
  {
   "cell_type": "markdown",
   "id": "90e6fd5d",
   "metadata": {},
   "source": [
    "A classic problem in the field of pattern recognition is that of handwritten digit recognition. Suppose that you have images of handwritten digits ranging from 0-9 written by various people in boxes of a specific size - similar to the application forms in banks and universities.\n",
    "\n",
    " \n",
    "\n",
    "The goal is to develop a model that can correctly identify the digit (between 0-9) written in an image. "
   ]
  },
  {
   "cell_type": "markdown",
   "id": "4c7fea99",
   "metadata": {},
   "source": [
    "## Objective\n",
    "You are required to develop a model using Support Vector Machine which should correctly classify the handwritten digits from 0-9 based on the pixel values given as features. Thus, this is a 10-class classification problem. "
   ]
  },
  {
   "cell_type": "code",
   "execution_count": null,
   "id": "b26185ea",
   "metadata": {},
   "outputs": [],
   "source": []
  }
 ],
 "metadata": {
  "kernelspec": {
   "display_name": "Python 3 (ipykernel)",
   "language": "python",
   "name": "python3"
  },
  "language_info": {
   "codemirror_mode": {
    "name": "ipython",
    "version": 3
   },
   "file_extension": ".py",
   "mimetype": "text/x-python",
   "name": "python",
   "nbconvert_exporter": "python",
   "pygments_lexer": "ipython3",
   "version": "3.11.0"
  }
 },
 "nbformat": 4,
 "nbformat_minor": 5
}
