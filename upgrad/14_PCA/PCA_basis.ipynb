{
 "cells": [
  {
   "cell_type": "code",
   "execution_count": 1,
   "id": "a9e58531",
   "metadata": {},
   "outputs": [],
   "source": [
    "import numpy as np"
   ]
  },
  {
   "cell_type": "code",
   "execution_count": 2,
   "id": "d7574fde",
   "metadata": {},
   "outputs": [],
   "source": [
    "A = np.array([[1,2], [2,3]])\n",
    "B = np.array([[4,5], [6,9]])"
   ]
  },
  {
   "cell_type": "code",
   "execution_count": 3,
   "id": "8a106218",
   "metadata": {},
   "outputs": [
    {
     "data": {
      "text/plain": [
       "array([[1, 2],\n",
       "       [2, 3]])"
      ]
     },
     "execution_count": 3,
     "metadata": {},
     "output_type": "execute_result"
    }
   ],
   "source": [
    "A"
   ]
  },
  {
   "cell_type": "code",
   "execution_count": 4,
   "id": "5d47b8e9",
   "metadata": {},
   "outputs": [
    {
     "data": {
      "text/plain": [
       "array([[4, 5],\n",
       "       [6, 9]])"
      ]
     },
     "execution_count": 4,
     "metadata": {},
     "output_type": "execute_result"
    }
   ],
   "source": [
    "B"
   ]
  },
  {
   "cell_type": "code",
   "execution_count": 5,
   "id": "9415928d",
   "metadata": {},
   "outputs": [],
   "source": [
    "## Matrix multiplication\n",
    "\n",
    "C = A @ B"
   ]
  },
  {
   "cell_type": "code",
   "execution_count": 6,
   "id": "71ec15b2",
   "metadata": {},
   "outputs": [
    {
     "data": {
      "text/plain": [
       "array([[16, 23],\n",
       "       [26, 37]])"
      ]
     },
     "execution_count": 6,
     "metadata": {},
     "output_type": "execute_result"
    }
   ],
   "source": [
    "C"
   ]
  },
  {
   "cell_type": "code",
   "execution_count": 7,
   "id": "919c6861",
   "metadata": {},
   "outputs": [
    {
     "data": {
      "text/plain": [
       "array([[-3.,  2.],\n",
       "       [ 2., -1.]])"
      ]
     },
     "execution_count": 7,
     "metadata": {},
     "output_type": "execute_result"
    }
   ],
   "source": [
    "## Matrix Inverse\n",
    "\n",
    "A = np.array([[1,2], [2,3]])\n",
    "B = np.linalg.inv(A)\n",
    "B"
   ]
  },
  {
   "cell_type": "code",
   "execution_count": 8,
   "id": "13c40f23",
   "metadata": {},
   "outputs": [
    {
     "data": {
      "text/plain": [
       "array([[1., 2.],\n",
       "       [2., 3.]])"
      ]
     },
     "execution_count": 8,
     "metadata": {},
     "output_type": "execute_result"
    }
   ],
   "source": [
    "C = np.linalg.inv(B)\n",
    "C"
   ]
  },
  {
   "cell_type": "markdown",
   "id": "951c476d",
   "metadata": {},
   "source": [
    "Q."
   ]
  },
  {
   "cell_type": "code",
   "execution_count": 9,
   "id": "ecaba7ec",
   "metadata": {},
   "outputs": [
    {
     "data": {
      "text/plain": [
       "array([[[ 3., -1., -1.],\n",
       "        [-4.,  2.,  1.],\n",
       "        [-1.,  0.,  1.]]])"
      ]
     },
     "execution_count": 9,
     "metadata": {},
     "output_type": "execute_result"
    }
   ],
   "source": [
    "M = [[[2,1,1],[3,2,1],[2,1,2]]]\n",
    "N = np.linalg.inv(M)\n",
    "N"
   ]
  },
  {
   "cell_type": "markdown",
   "id": "98bea565",
   "metadata": {},
   "source": [
    "### Q"
   ]
  },
  {
   "cell_type": "code",
   "execution_count": 11,
   "id": "d73c6959",
   "metadata": {},
   "outputs": [
    {
     "data": {
      "text/plain": [
       "array([[1., 0.],\n",
       "       [0., 1.]])"
      ]
     },
     "execution_count": 11,
     "metadata": {},
     "output_type": "execute_result"
    }
   ],
   "source": [
    "B2 = np.array([[1,0],[0,1]])\n",
    "B2_inv = np.linalg.inv(B2)\n",
    "\n",
    "B2_inv"
   ]
  },
  {
   "cell_type": "markdown",
   "id": "39947298",
   "metadata": {},
   "source": [
    "## Q."
   ]
  },
  {
   "cell_type": "code",
   "execution_count": 12,
   "id": "7b0f841f",
   "metadata": {},
   "outputs": [
    {
     "data": {
      "text/plain": [
       "array([[ 0.25,  0.5 ],\n",
       "       [-0.25,  0.5 ]])"
      ]
     },
     "execution_count": 12,
     "metadata": {},
     "output_type": "execute_result"
    }
   ],
   "source": [
    "B2 = np.array([[2,-2],[1,1]])\n",
    "B2_inv = np.linalg.inv(B2)\n",
    "\n",
    "B2_inv"
   ]
  },
  {
   "cell_type": "markdown",
   "id": "61fec8fe",
   "metadata": {},
   "source": [
    "## Q."
   ]
  },
  {
   "cell_type": "code",
   "execution_count": 13,
   "id": "b6ec473c",
   "metadata": {},
   "outputs": [
    {
     "data": {
      "text/plain": [
       "array([[ 0.33333333, -0.33333333],\n",
       "       [ 0.66666667,  0.33333333]])"
      ]
     },
     "execution_count": 13,
     "metadata": {},
     "output_type": "execute_result"
    }
   ],
   "source": [
    "b2 = np.array([[1,1],[-2,1]])\n",
    "b2_inv = np.linalg.inv(b2)\n",
    "\n",
    "b2_inv"
   ]
  },
  {
   "cell_type": "code",
   "execution_count": 15,
   "id": "9ce35dce",
   "metadata": {},
   "outputs": [
    {
     "data": {
      "text/plain": [
       "array([[25],\n",
       "       [28]])"
      ]
     },
     "execution_count": 15,
     "metadata": {},
     "output_type": "execute_result"
    }
   ],
   "source": [
    "v1 = np.array([[25],[28]])\n",
    "v1"
   ]
  },
  {
   "cell_type": "code",
   "execution_count": 16,
   "id": "5300b799",
   "metadata": {},
   "outputs": [
    {
     "data": {
      "text/plain": [
       "array([[-1.],\n",
       "       [26.]])"
      ]
     },
     "execution_count": 16,
     "metadata": {},
     "output_type": "execute_result"
    }
   ],
   "source": [
    "\n",
    "v2 = b2_inv @ v1\n",
    "v2"
   ]
  },
  {
   "cell_type": "markdown",
   "id": "b299c880",
   "metadata": {},
   "source": [
    "## GRADED QUESTIONS"
   ]
  },
  {
   "cell_type": "code",
   "execution_count": 17,
   "id": "98df3567",
   "metadata": {},
   "outputs": [
    {
     "data": {
      "text/plain": [
       "array([[ 1.66666667, -1.        ],\n",
       "       [ 1.33333333, -1.        ]])"
      ]
     },
     "execution_count": 17,
     "metadata": {},
     "output_type": "execute_result"
    }
   ],
   "source": [
    "b2 = np.array([[3,-3], [4, -5]])\n",
    "M = np.linalg.inv(b2)\n",
    "M"
   ]
  },
  {
   "cell_type": "code",
   "execution_count": 26,
   "id": "af5b6607",
   "metadata": {},
   "outputs": [
    {
     "data": {
      "text/plain": [
       "array([[3],\n",
       "       [2]])"
      ]
     },
     "execution_count": 26,
     "metadata": {},
     "output_type": "execute_result"
    }
   ],
   "source": [
    "v1 = np.array([[3],[2]])\n",
    "v1"
   ]
  },
  {
   "cell_type": "code",
   "execution_count": 28,
   "id": "85e10eb0",
   "metadata": {},
   "outputs": [
    {
     "data": {
      "text/plain": [
       "array([[3.],\n",
       "       [2.]])"
      ]
     },
     "execution_count": 28,
     "metadata": {},
     "output_type": "execute_result"
    }
   ],
   "source": [
    "v2 = M @ v1\n",
    "v2"
   ]
  },
  {
   "cell_type": "code",
   "execution_count": null,
   "id": "c80c963c",
   "metadata": {},
   "outputs": [],
   "source": []
  }
 ],
 "metadata": {
  "kernelspec": {
   "display_name": "Python 3 (ipykernel)",
   "language": "python",
   "name": "python3"
  },
  "language_info": {
   "codemirror_mode": {
    "name": "ipython",
    "version": 3
   },
   "file_extension": ".py",
   "mimetype": "text/x-python",
   "name": "python",
   "nbconvert_exporter": "python",
   "pygments_lexer": "ipython3",
   "version": "3.11.0"
  }
 },
 "nbformat": 4,
 "nbformat_minor": 5
}
