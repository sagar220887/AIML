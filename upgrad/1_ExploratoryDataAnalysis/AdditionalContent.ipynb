{
 "cells": [
  {
   "cell_type": "markdown",
   "id": "02b6a5a0",
   "metadata": {},
   "source": [
    "## Mean, median, mode"
   ]
  },
  {
   "cell_type": "markdown",
   "id": "94267c95",
   "metadata": {},
   "source": [
    "Median \n",
    "- first we order the numbers\n",
    "- Get the middle number\n",
    "    - if 2 middle, take the average of two numbers"
   ]
  },
  {
   "cell_type": "markdown",
   "id": "61e4c84f",
   "metadata": {},
   "source": [
    "Mode\n",
    "- the number that shows up the most"
   ]
  },
  {
   "cell_type": "code",
   "execution_count": null,
   "id": "fe1dfdbc",
   "metadata": {},
   "outputs": [],
   "source": []
  },
  {
   "cell_type": "code",
   "execution_count": null,
   "id": "39970980",
   "metadata": {},
   "outputs": [],
   "source": []
  },
  {
   "cell_type": "code",
   "execution_count": null,
   "id": "672d1299",
   "metadata": {},
   "outputs": [],
   "source": []
  },
  {
   "cell_type": "code",
   "execution_count": null,
   "id": "5cb74fc8",
   "metadata": {},
   "outputs": [],
   "source": []
  },
  {
   "cell_type": "code",
   "execution_count": null,
   "id": "71e03444",
   "metadata": {},
   "outputs": [],
   "source": []
  },
  {
   "cell_type": "code",
   "execution_count": null,
   "id": "be6e7204",
   "metadata": {},
   "outputs": [],
   "source": []
  },
  {
   "cell_type": "code",
   "execution_count": null,
   "id": "94694f98",
   "metadata": {},
   "outputs": [],
   "source": []
  },
  {
   "cell_type": "code",
   "execution_count": null,
   "id": "d870f696",
   "metadata": {},
   "outputs": [],
   "source": []
  },
  {
   "cell_type": "code",
   "execution_count": null,
   "id": "6da21ad3",
   "metadata": {},
   "outputs": [],
   "source": []
  }
 ],
 "metadata": {
  "kernelspec": {
   "display_name": "Python 3 (ipykernel)",
   "language": "python",
   "name": "python3"
  },
  "language_info": {
   "codemirror_mode": {
    "name": "ipython",
    "version": 3
   },
   "file_extension": ".py",
   "mimetype": "text/x-python",
   "name": "python",
   "nbconvert_exporter": "python",
   "pygments_lexer": "ipython3",
   "version": "3.11.0"
  }
 },
 "nbformat": 4,
 "nbformat_minor": 5
}
