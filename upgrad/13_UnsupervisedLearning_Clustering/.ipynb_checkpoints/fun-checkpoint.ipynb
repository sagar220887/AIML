{
 "cells": [
  {
   "cell_type": "code",
   "execution_count": 15,
   "id": "2992f5da",
   "metadata": {},
   "outputs": [],
   "source": [
    "import numpy as np\n",
    "import pandas as pd\n",
    "import matplotlib.pyplot as plt\n",
    "import warnings\n",
    "warnings.filterwarnings('ignore')\n",
    "import seaborn as sns\n",
    "\n",
    "from sklearn.cluster import KMeans\n",
    "from sklearn.metrics import silhouette_score"
   ]
  },
  {
   "cell_type": "code",
   "execution_count": 3,
   "id": "1a94120f",
   "metadata": {},
   "outputs": [
    {
     "data": {
      "text/html": [
       "<div>\n",
       "<style scoped>\n",
       "    .dataframe tbody tr th:only-of-type {\n",
       "        vertical-align: middle;\n",
       "    }\n",
       "\n",
       "    .dataframe tbody tr th {\n",
       "        vertical-align: top;\n",
       "    }\n",
       "\n",
       "    .dataframe thead th {\n",
       "        text-align: right;\n",
       "    }\n",
       "</style>\n",
       "<table border=\"1\" class=\"dataframe\">\n",
       "  <thead>\n",
       "    <tr style=\"text-align: right;\">\n",
       "      <th></th>\n",
       "      <th>Area Name</th>\n",
       "      <th>Illiterate</th>\n",
       "      <th>Graduate &amp; above</th>\n",
       "      <th>Total - Population</th>\n",
       "      <th>Percentage Illiterate</th>\n",
       "      <th>Percentage Graduate &amp; above</th>\n",
       "    </tr>\n",
       "  </thead>\n",
       "  <tbody>\n",
       "    <tr>\n",
       "      <th>0</th>\n",
       "      <td>State - JAMMU &amp; KASHMIR</td>\n",
       "      <td>3378518</td>\n",
       "      <td>385463</td>\n",
       "      <td>12541302</td>\n",
       "      <td>26.939133</td>\n",
       "      <td>3.073549</td>\n",
       "    </tr>\n",
       "    <tr>\n",
       "      <th>1</th>\n",
       "      <td>State - HIMACHAL PRADESH</td>\n",
       "      <td>963742</td>\n",
       "      <td>267936</td>\n",
       "      <td>6864602</td>\n",
       "      <td>14.039299</td>\n",
       "      <td>3.903154</td>\n",
       "    </tr>\n",
       "    <tr>\n",
       "      <th>2</th>\n",
       "      <td>State - PUNJAB</td>\n",
       "      <td>4886265</td>\n",
       "      <td>979525</td>\n",
       "      <td>27743338</td>\n",
       "      <td>17.612390</td>\n",
       "      <td>3.530667</td>\n",
       "    </tr>\n",
       "    <tr>\n",
       "      <th>3</th>\n",
       "      <td>State - CHANDIGARH</td>\n",
       "      <td>175200</td>\n",
       "      <td>91276</td>\n",
       "      <td>1055450</td>\n",
       "      <td>16.599555</td>\n",
       "      <td>8.648065</td>\n",
       "    </tr>\n",
       "    <tr>\n",
       "      <th>4</th>\n",
       "      <td>State - UTTARAKHAND</td>\n",
       "      <td>1929236</td>\n",
       "      <td>525301</td>\n",
       "      <td>10086292</td>\n",
       "      <td>19.127307</td>\n",
       "      <td>5.208069</td>\n",
       "    </tr>\n",
       "  </tbody>\n",
       "</table>\n",
       "</div>"
      ],
      "text/plain": [
       "                  Area Name  Illiterate  Graduate & above  Total - Population  \\\n",
       "0   State - JAMMU & KASHMIR     3378518            385463            12541302   \n",
       "1  State - HIMACHAL PRADESH      963742            267936             6864602   \n",
       "2            State - PUNJAB     4886265            979525            27743338   \n",
       "3        State - CHANDIGARH      175200             91276             1055450   \n",
       "4       State - UTTARAKHAND     1929236            525301            10086292   \n",
       "\n",
       "   Percentage Illiterate  Percentage Graduate & above  \n",
       "0              26.939133                     3.073549  \n",
       "1              14.039299                     3.903154  \n",
       "2              17.612390                     3.530667  \n",
       "3              16.599555                     8.648065  \n",
       "4              19.127307                     5.208069  "
      ]
     },
     "execution_count": 3,
     "metadata": {},
     "output_type": "execute_result"
    }
   ],
   "source": [
    "df = pd.read_csv('Main.csv')\n",
    "df.head()"
   ]
  },
  {
   "cell_type": "code",
   "execution_count": 4,
   "id": "1402a452",
   "metadata": {},
   "outputs": [
    {
     "data": {
      "text/plain": [
       "(35, 6)"
      ]
     },
     "execution_count": 4,
     "metadata": {},
     "output_type": "execute_result"
    }
   ],
   "source": [
    "df.shape"
   ]
  },
  {
   "cell_type": "code",
   "execution_count": 5,
   "id": "29469cf7",
   "metadata": {},
   "outputs": [
    {
     "data": {
      "text/plain": [
       "Area Name                      0\n",
       "Illiterate                     0\n",
       "Graduate & above               0\n",
       "Total - Population             0\n",
       "Percentage Illiterate          0\n",
       "Percentage Graduate & above    0\n",
       "dtype: int64"
      ]
     },
     "execution_count": 5,
     "metadata": {},
     "output_type": "execute_result"
    }
   ],
   "source": [
    "df.isnull().sum()"
   ]
  },
  {
   "cell_type": "code",
   "execution_count": 6,
   "id": "2718c333",
   "metadata": {},
   "outputs": [
    {
     "name": "stdout",
     "output_type": "stream",
     "text": [
      "<class 'pandas.core.frame.DataFrame'>\n",
      "RangeIndex: 35 entries, 0 to 34\n",
      "Data columns (total 6 columns):\n",
      " #   Column                       Non-Null Count  Dtype  \n",
      "---  ------                       --------------  -----  \n",
      " 0   Area Name                    35 non-null     object \n",
      " 1   Illiterate                   35 non-null     int64  \n",
      " 2   Graduate & above             35 non-null     int64  \n",
      " 3   Total - Population           35 non-null     int64  \n",
      " 4   Percentage Illiterate        35 non-null     float64\n",
      " 5   Percentage Graduate & above  35 non-null     float64\n",
      "dtypes: float64(2), int64(3), object(1)\n",
      "memory usage: 1.8+ KB\n"
     ]
    }
   ],
   "source": [
    "df.info()"
   ]
  },
  {
   "cell_type": "code",
   "execution_count": 7,
   "id": "8312f513",
   "metadata": {},
   "outputs": [
    {
     "data": {
      "text/html": [
       "<div>\n",
       "<style scoped>\n",
       "    .dataframe tbody tr th:only-of-type {\n",
       "        vertical-align: middle;\n",
       "    }\n",
       "\n",
       "    .dataframe tbody tr th {\n",
       "        vertical-align: top;\n",
       "    }\n",
       "\n",
       "    .dataframe thead th {\n",
       "        text-align: right;\n",
       "    }\n",
       "</style>\n",
       "<table border=\"1\" class=\"dataframe\">\n",
       "  <thead>\n",
       "    <tr style=\"text-align: right;\">\n",
       "      <th></th>\n",
       "      <th>Area Name</th>\n",
       "      <th>Illiterate</th>\n",
       "      <th>Graduate &amp; above</th>\n",
       "      <th>Total - Population</th>\n",
       "      <th>Percentage Illiterate</th>\n",
       "      <th>Percentage Graduate &amp; above</th>\n",
       "    </tr>\n",
       "  </thead>\n",
       "  <tbody>\n",
       "    <tr>\n",
       "      <th>0</th>\n",
       "      <td>State - JAMMU &amp; KASHMIR</td>\n",
       "      <td>3378518</td>\n",
       "      <td>385463</td>\n",
       "      <td>12541302</td>\n",
       "      <td>26.939133</td>\n",
       "      <td>3.073549</td>\n",
       "    </tr>\n",
       "    <tr>\n",
       "      <th>1</th>\n",
       "      <td>State - HIMACHAL PRADESH</td>\n",
       "      <td>963742</td>\n",
       "      <td>267936</td>\n",
       "      <td>6864602</td>\n",
       "      <td>14.039299</td>\n",
       "      <td>3.903154</td>\n",
       "    </tr>\n",
       "    <tr>\n",
       "      <th>2</th>\n",
       "      <td>State - PUNJAB</td>\n",
       "      <td>4886265</td>\n",
       "      <td>979525</td>\n",
       "      <td>27743338</td>\n",
       "      <td>17.612390</td>\n",
       "      <td>3.530667</td>\n",
       "    </tr>\n",
       "    <tr>\n",
       "      <th>3</th>\n",
       "      <td>State - CHANDIGARH</td>\n",
       "      <td>175200</td>\n",
       "      <td>91276</td>\n",
       "      <td>1055450</td>\n",
       "      <td>16.599555</td>\n",
       "      <td>8.648065</td>\n",
       "    </tr>\n",
       "    <tr>\n",
       "      <th>4</th>\n",
       "      <td>State - UTTARAKHAND</td>\n",
       "      <td>1929236</td>\n",
       "      <td>525301</td>\n",
       "      <td>10086292</td>\n",
       "      <td>19.127307</td>\n",
       "      <td>5.208069</td>\n",
       "    </tr>\n",
       "  </tbody>\n",
       "</table>\n",
       "</div>"
      ],
      "text/plain": [
       "                  Area Name  Illiterate  Graduate & above  Total - Population  \\\n",
       "0   State - JAMMU & KASHMIR     3378518            385463            12541302   \n",
       "1  State - HIMACHAL PRADESH      963742            267936             6864602   \n",
       "2            State - PUNJAB     4886265            979525            27743338   \n",
       "3        State - CHANDIGARH      175200             91276             1055450   \n",
       "4       State - UTTARAKHAND     1929236            525301            10086292   \n",
       "\n",
       "   Percentage Illiterate  Percentage Graduate & above  \n",
       "0              26.939133                     3.073549  \n",
       "1              14.039299                     3.903154  \n",
       "2              17.612390                     3.530667  \n",
       "3              16.599555                     8.648065  \n",
       "4              19.127307                     5.208069  "
      ]
     },
     "execution_count": 7,
     "metadata": {},
     "output_type": "execute_result"
    }
   ],
   "source": [
    "df.head()"
   ]
  },
  {
   "cell_type": "code",
   "execution_count": 8,
   "id": "4bfa6b6d",
   "metadata": {},
   "outputs": [
    {
     "data": {
      "text/html": [
       "<div>\n",
       "<style scoped>\n",
       "    .dataframe tbody tr th:only-of-type {\n",
       "        vertical-align: middle;\n",
       "    }\n",
       "\n",
       "    .dataframe tbody tr th {\n",
       "        vertical-align: top;\n",
       "    }\n",
       "\n",
       "    .dataframe thead th {\n",
       "        text-align: right;\n",
       "    }\n",
       "</style>\n",
       "<table border=\"1\" class=\"dataframe\">\n",
       "  <thead>\n",
       "    <tr style=\"text-align: right;\">\n",
       "      <th></th>\n",
       "      <th>Illiterate</th>\n",
       "      <th>Graduate &amp; above</th>\n",
       "      <th>Total - Population</th>\n",
       "    </tr>\n",
       "  </thead>\n",
       "  <tbody>\n",
       "    <tr>\n",
       "      <th>0</th>\n",
       "      <td>3378518</td>\n",
       "      <td>385463</td>\n",
       "      <td>12541302</td>\n",
       "    </tr>\n",
       "    <tr>\n",
       "      <th>1</th>\n",
       "      <td>963742</td>\n",
       "      <td>267936</td>\n",
       "      <td>6864602</td>\n",
       "    </tr>\n",
       "    <tr>\n",
       "      <th>2</th>\n",
       "      <td>4886265</td>\n",
       "      <td>979525</td>\n",
       "      <td>27743338</td>\n",
       "    </tr>\n",
       "    <tr>\n",
       "      <th>3</th>\n",
       "      <td>175200</td>\n",
       "      <td>91276</td>\n",
       "      <td>1055450</td>\n",
       "    </tr>\n",
       "    <tr>\n",
       "      <th>4</th>\n",
       "      <td>1929236</td>\n",
       "      <td>525301</td>\n",
       "      <td>10086292</td>\n",
       "    </tr>\n",
       "  </tbody>\n",
       "</table>\n",
       "</div>"
      ],
      "text/plain": [
       "   Illiterate  Graduate & above  Total - Population\n",
       "0     3378518            385463            12541302\n",
       "1      963742            267936             6864602\n",
       "2     4886265            979525            27743338\n",
       "3      175200             91276             1055450\n",
       "4     1929236            525301            10086292"
      ]
     },
     "execution_count": 8,
     "metadata": {},
     "output_type": "execute_result"
    }
   ],
   "source": [
    "df_new = df[['Illiterate', 'Graduate & above', 'Total - Population']]\n",
    "df_new.head()"
   ]
  },
  {
   "cell_type": "markdown",
   "id": "94634a70",
   "metadata": {},
   "source": [
    "## Model without scaling"
   ]
  },
  {
   "cell_type": "code",
   "execution_count": 12,
   "id": "dffa9b3c",
   "metadata": {},
   "outputs": [
    {
     "name": "stdout",
     "output_type": "stream",
     "text": [
      "[2.181577510938726e+16, 7834324839283269.0, 3845927347271821.0, 1541317850108221.8, 1050675316406559.0, 711030018846697.1, 536320722144584.4, 383802926583511.6]\n"
     ]
    },
    {
     "data": {
      "text/plain": [
       "[<matplotlib.lines.Line2D at 0x15d193e24d0>]"
      ]
     },
     "execution_count": 12,
     "metadata": {},
     "output_type": "execute_result"
    },
    {
     "data": {
      "image/png": "[encoded data removed]",
      "text/plain": [
       "<Figure size 640x480 with 1 Axes>"
      ]
     },
     "metadata": {},
     "output_type": "display_data"
    }
   ],
   "source": [
    "num_clusters = [2,3,4,5,6,7,8,9]\n",
    "ssd = []\n",
    "\n",
    "for num in num_clusters:\n",
    "    kmeans = KMeans(n_clusters=num, max_iter=50)\n",
    "    kmeans.fit(df_new)\n",
    "    \n",
    "    ssd.append(kmeans.inertia_)\n",
    "    \n",
    "## plot the ssd\n",
    "print(ssd)\n",
    "plt.plot(ssd)"
   ]
  },
  {
   "cell_type": "code",
   "execution_count": 13,
   "id": "ce4d4723",
   "metadata": {},
   "outputs": [
    {
     "data": {
      "text/plain": [
       "array([1, 1, 1, 1, 1, 1, 1, 0, 2, 0, 1, 1, 1, 1, 1, 1, 1, 1, 0, 1, 1, 1,\n",
       "       0, 0, 1, 1, 0, 0, 0, 1, 1, 1, 0, 1, 1])"
      ]
     },
     "execution_count": 13,
     "metadata": {},
     "output_type": "execute_result"
    }
   ],
   "source": [
    "kmeans = KMeans(n_clusters=3, max_iter=50)\n",
    "kmeans.fit(df_new)\n",
    "\n",
    "kmeans.labels_"
   ]
  },
  {
   "cell_type": "code",
   "execution_count": 14,
   "id": "1a5aa07a",
   "metadata": {},
   "outputs": [
    {
     "data": {
      "text/html": [
       "<div>\n",
       "<style scoped>\n",
       "    .dataframe tbody tr th:only-of-type {\n",
       "        vertical-align: middle;\n",
       "    }\n",
       "\n",
       "    .dataframe tbody tr th {\n",
       "        vertical-align: top;\n",
       "    }\n",
       "\n",
       "    .dataframe thead th {\n",
       "        text-align: right;\n",
       "    }\n",
       "</style>\n",
       "<table border=\"1\" class=\"dataframe\">\n",
       "  <thead>\n",
       "    <tr style=\"text-align: right;\">\n",
       "      <th></th>\n",
       "      <th>Illiterate</th>\n",
       "      <th>Graduate &amp; above</th>\n",
       "      <th>Total - Population</th>\n",
       "      <th>cluster_id</th>\n",
       "    </tr>\n",
       "  </thead>\n",
       "  <tbody>\n",
       "    <tr>\n",
       "      <th>0</th>\n",
       "      <td>3378518</td>\n",
       "      <td>385463</td>\n",
       "      <td>12541302</td>\n",
       "      <td>1</td>\n",
       "    </tr>\n",
       "    <tr>\n",
       "      <th>1</th>\n",
       "      <td>963742</td>\n",
       "      <td>267936</td>\n",
       "      <td>6864602</td>\n",
       "      <td>1</td>\n",
       "    </tr>\n",
       "    <tr>\n",
       "      <th>2</th>\n",
       "      <td>4886265</td>\n",
       "      <td>979525</td>\n",
       "      <td>27743338</td>\n",
       "      <td>1</td>\n",
       "    </tr>\n",
       "    <tr>\n",
       "      <th>3</th>\n",
       "      <td>175200</td>\n",
       "      <td>91276</td>\n",
       "      <td>1055450</td>\n",
       "      <td>1</td>\n",
       "    </tr>\n",
       "    <tr>\n",
       "      <th>4</th>\n",
       "      <td>1929236</td>\n",
       "      <td>525301</td>\n",
       "      <td>10086292</td>\n",
       "      <td>1</td>\n",
       "    </tr>\n",
       "  </tbody>\n",
       "</table>\n",
       "</div>"
      ],
      "text/plain": [
       "   Illiterate  Graduate & above  Total - Population  cluster_id\n",
       "0     3378518            385463            12541302           1\n",
       "1      963742            267936             6864602           1\n",
       "2     4886265            979525            27743338           1\n",
       "3      175200             91276             1055450           1\n",
       "4     1929236            525301            10086292           1"
      ]
     },
     "execution_count": 14,
     "metadata": {},
     "output_type": "execute_result"
    }
   ],
   "source": [
    "df_new['cluster_id'] = kmeans.labels_\n",
    "df_new.head()"
   ]
  },
  {
   "cell_type": "code",
   "execution_count": null,
   "id": "0dc78e15",
   "metadata": {},
   "outputs": [],
   "source": []
  },
  {
   "cell_type": "code",
   "execution_count": 16,
   "id": "1bca5f1d",
   "metadata": {},
   "outputs": [
    {
     "data": {
      "text/plain": [
       "<AxesSubplot: xlabel='cluster_id', ylabel='Illiterate'>"
      ]
     },
     "execution_count": 16,
     "metadata": {},
     "output_type": "execute_result"
    },
    {
     "data": {
      "image/png": "[encoded data removed]",
      "text/plain": [
       "<Figure size 640x480 with 1 Axes>"
      ]
     },
     "metadata": {},
     "output_type": "display_data"
    }
   ],
   "source": [
    "sns.boxplot(data=df_new, x='cluster_id', y='Illiterate')"
   ]
  },
  {
   "cell_type": "code",
   "execution_count": null,
   "id": "530cbd39",
   "metadata": {},
   "outputs": [],
   "source": [
    "sns.boxplot(data=df_new, x='cluster_id', y='Graduate & above')"
   ]
  },
  {
   "cell_type": "code",
   "execution_count": null,
   "id": "436bb9fd",
   "metadata": {},
   "outputs": [],
   "source": []
  },
  {
   "cell_type": "markdown",
   "id": "5693008e",
   "metadata": {},
   "source": [
    "## scaling "
   ]
  },
  {
   "cell_type": "code",
   "execution_count": 18,
   "id": "aec51c40",
   "metadata": {},
   "outputs": [],
   "source": [
    "df_new.drop('cluster_id', axis=1, inplace=True)"
   ]
  },
  {
   "cell_type": "code",
   "execution_count": 19,
   "id": "90856977",
   "metadata": {},
   "outputs": [
    {
     "data": {
      "text/html": [
       "<div>\n",
       "<style scoped>\n",
       "    .dataframe tbody tr th:only-of-type {\n",
       "        vertical-align: middle;\n",
       "    }\n",
       "\n",
       "    .dataframe tbody tr th {\n",
       "        vertical-align: top;\n",
       "    }\n",
       "\n",
       "    .dataframe thead th {\n",
       "        text-align: right;\n",
       "    }\n",
       "</style>\n",
       "<table border=\"1\" class=\"dataframe\">\n",
       "  <thead>\n",
       "    <tr style=\"text-align: right;\">\n",
       "      <th></th>\n",
       "      <th>Illiterate</th>\n",
       "      <th>Graduate &amp; above</th>\n",
       "      <th>Total - Population</th>\n",
       "    </tr>\n",
       "  </thead>\n",
       "  <tbody>\n",
       "    <tr>\n",
       "      <th>0</th>\n",
       "      <td>3378518</td>\n",
       "      <td>385463</td>\n",
       "      <td>12541302</td>\n",
       "    </tr>\n",
       "    <tr>\n",
       "      <th>1</th>\n",
       "      <td>963742</td>\n",
       "      <td>267936</td>\n",
       "      <td>6864602</td>\n",
       "    </tr>\n",
       "    <tr>\n",
       "      <th>2</th>\n",
       "      <td>4886265</td>\n",
       "      <td>979525</td>\n",
       "      <td>27743338</td>\n",
       "    </tr>\n",
       "    <tr>\n",
       "      <th>3</th>\n",
       "      <td>175200</td>\n",
       "      <td>91276</td>\n",
       "      <td>1055450</td>\n",
       "    </tr>\n",
       "    <tr>\n",
       "      <th>4</th>\n",
       "      <td>1929236</td>\n",
       "      <td>525301</td>\n",
       "      <td>10086292</td>\n",
       "    </tr>\n",
       "  </tbody>\n",
       "</table>\n",
       "</div>"
      ],
      "text/plain": [
       "   Illiterate  Graduate & above  Total - Population\n",
       "0     3378518            385463            12541302\n",
       "1      963742            267936             6864602\n",
       "2     4886265            979525            27743338\n",
       "3      175200             91276             1055450\n",
       "4     1929236            525301            10086292"
      ]
     },
     "execution_count": 19,
     "metadata": {},
     "output_type": "execute_result"
    }
   ],
   "source": [
    "df_new.head()"
   ]
  },
  {
   "cell_type": "code",
   "execution_count": 20,
   "id": "1069fd2d",
   "metadata": {},
   "outputs": [],
   "source": [
    "from sklearn.preprocessing import StandardScaler"
   ]
  },
  {
   "cell_type": "code",
   "execution_count": 22,
   "id": "7aa25459",
   "metadata": {},
   "outputs": [],
   "source": [
    "## instantiate\n",
    "scaler = StandardScaler()\n",
    "\n",
    "## fit_transforabsm\n",
    "df_scaled = scaler.fit_transform(df_new)\n"
   ]
  },
  {
   "cell_type": "code",
   "execution_count": 23,
   "id": "b4c3d01c",
   "metadata": {},
   "outputs": [
    {
     "data": {
      "text/plain": [
       "Index(['Illiterate', 'Graduate & above', 'Total - Population'], dtype='object')"
      ]
     },
     "execution_count": 23,
     "metadata": {},
     "output_type": "execute_result"
    }
   ],
   "source": [
    "df_new.columns"
   ]
  },
  {
   "cell_type": "code",
   "execution_count": 24,
   "id": "deb20212",
   "metadata": {},
   "outputs": [],
   "source": [
    "df_scaled = pd.DataFrame(df_scaled)\n",
    "df_scaled.columns = ['Illiterate', 'Graduate & above', 'Total - Population']"
   ]
  },
  {
   "cell_type": "code",
   "execution_count": 25,
   "id": "6fa67f03",
   "metadata": {},
   "outputs": [
    {
     "data": {
      "text/html": [
       "<div>\n",
       "<style scoped>\n",
       "    .dataframe tbody tr th:only-of-type {\n",
       "        vertical-align: middle;\n",
       "    }\n",
       "\n",
       "    .dataframe tbody tr th {\n",
       "        vertical-align: top;\n",
       "    }\n",
       "\n",
       "    .dataframe thead th {\n",
       "        text-align: right;\n",
       "    }\n",
       "</style>\n",
       "<table border=\"1\" class=\"dataframe\">\n",
       "  <thead>\n",
       "    <tr style=\"text-align: right;\">\n",
       "      <th></th>\n",
       "      <th>Illiterate</th>\n",
       "      <th>Graduate &amp; above</th>\n",
       "      <th>Total - Population</th>\n",
       "    </tr>\n",
       "  </thead>\n",
       "  <tbody>\n",
       "    <tr>\n",
       "      <th>0</th>\n",
       "      <td>-0.384782</td>\n",
       "      <td>-0.500111</td>\n",
       "      <td>-0.503383</td>\n",
       "    </tr>\n",
       "    <tr>\n",
       "      <th>1</th>\n",
       "      <td>-0.600888</td>\n",
       "      <td>-0.585328</td>\n",
       "      <td>-0.632950</td>\n",
       "    </tr>\n",
       "    <tr>\n",
       "      <th>2</th>\n",
       "      <td>-0.249850</td>\n",
       "      <td>-0.069368</td>\n",
       "      <td>-0.156405</td>\n",
       "    </tr>\n",
       "    <tr>\n",
       "      <th>3</th>\n",
       "      <td>-0.671456</td>\n",
       "      <td>-0.713421</td>\n",
       "      <td>-0.765541</td>\n",
       "    </tr>\n",
       "    <tr>\n",
       "      <th>4</th>\n",
       "      <td>-0.514483</td>\n",
       "      <td>-0.398717</td>\n",
       "      <td>-0.559417</td>\n",
       "    </tr>\n",
       "  </tbody>\n",
       "</table>\n",
       "</div>"
      ],
      "text/plain": [
       "   Illiterate  Graduate & above  Total - Population\n",
       "0   -0.384782         -0.500111           -0.503383\n",
       "1   -0.600888         -0.585328           -0.632950\n",
       "2   -0.249850         -0.069368           -0.156405\n",
       "3   -0.671456         -0.713421           -0.765541\n",
       "4   -0.514483         -0.398717           -0.559417"
      ]
     },
     "execution_count": 25,
     "metadata": {},
     "output_type": "execute_result"
    }
   ],
   "source": [
    "df_scaled.head()"
   ]
  },
  {
   "cell_type": "code",
   "execution_count": null,
   "id": "4a8a97f9",
   "metadata": {},
   "outputs": [],
   "source": [
    "kmeans = KMeans(n_clusters=3, max_iter=50)\n",
    "kmeans.fit(df_scaled)\n",
    "\n",
    "kmeans.labels_"
   ]
  },
  {
   "cell_type": "code",
   "execution_count": null,
   "id": "8e1a55c0",
   "metadata": {},
   "outputs": [],
   "source": [
    "df_scaled['cluster_id'] = kmeans.labels_\n",
    "df_scaled.head()"
   ]
  },
  {
   "cell_type": "code",
   "execution_count": null,
   "id": "9ca26099",
   "metadata": {},
   "outputs": [],
   "source": [
    "sns.boxplot(data=df_scaled, x='cluster_id', y='Illiterate')"
   ]
  },
  {
   "cell_type": "code",
   "execution_count": null,
   "id": "50911c0c",
   "metadata": {},
   "outputs": [],
   "source": []
  },
  {
   "cell_type": "code",
   "execution_count": null,
   "id": "a0f50ea0",
   "metadata": {},
   "outputs": [],
   "source": []
  }
 ],
 "metadata": {
  "kernelspec": {
   "display_name": "Python 3 (ipykernel)",
   "language": "python",
   "name": "python3"
  },
  "language_info": {
   "codemirror_mode": {
    "name": "ipython",
    "version": 3
   },
   "file_extension": ".py",
   "mimetype": "text/x-python",
   "name": "python",
   "nbconvert_exporter": "python",
   "pygments_lexer": "ipython3",
   "version": "3.11.0"
  }
 },
 "nbformat": 4,
 "nbformat_minor": 5
}
