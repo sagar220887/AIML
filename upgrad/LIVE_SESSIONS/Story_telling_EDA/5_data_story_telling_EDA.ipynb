{
 "cells": [
  {
   "cell_type": "markdown",
   "id": "4e527b65",
   "metadata": {},
   "source": [
    "- Data\n",
    "- Visuals\n",
    "- Narrative"
   ]
  },
  {
   "cell_type": "code",
   "execution_count": null,
   "id": "a61b3f1b",
   "metadata": {},
   "outputs": [],
   "source": []
  }
 ],
 "metadata": {
  "kernelspec": {
   "display_name": "Python 3 (ipykernel)",
   "language": "python",
   "name": "python3"
  },
  "language_info": {
   "codemirror_mode": {
    "name": "ipython",
    "version": 3
   },
   "file_extension": ".py",
   "mimetype": "text/x-python",
   "name": "python",
   "nbconvert_exporter": "python",
   "pygments_lexer": "ipython3",
   "version": "3.11.0"
  }
 },
 "nbformat": 4,
 "nbformat_minor": 5
}
