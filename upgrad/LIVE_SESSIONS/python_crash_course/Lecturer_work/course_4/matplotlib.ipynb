{
 "cells": [
  {
   "cell_type": "markdown",
   "id": "07227fc9",
   "metadata": {
    "papermill": {
     "duration": 0.066098,
     "end_time": "2022-03-10T22:31:25.479649",
     "exception": false,
     "start_time": "2022-03-10T22:31:25.413551",
     "status": "completed"
    },
    "tags": []
   },
   "source": [
    "<div id=\"introdution\"\n",
    "     style=\"display:fill;\n",
    "            background-color: #369;\n",
    "            font-size:160%;\n",
    "            font-family: 'Clear Sans', 'Helvetica Neue', Arial, sans-serif;\n",
    "            letter-spacing: 0.5px;\n",
    "            padding: 6px;\n",
    "            color: #FFF;\n",
    "            border-style: solid;\n",
    "            border-color: #369;\n",
    "            text-align:center;\">\n",
    "<b>Introduction</b>\n",
    "</div>\n",
    "\n",
    "Matplotlib is a comprehensive library for creating data visualizations in Python. This notebook is a compilation of examples showing how to make the most common types of charts in Matplotlib. See [Matplotlib: Visualization with Python](https://matplotlib.org/) for many more examples, tutorials, and the official documentation."
   ]
  },
  {
   "cell_type": "code",
   "execution_count": 1,
   "id": "2b40a80b",
   "metadata": {
    "_cell_guid": "b1076dfc-b9ad-4769-8c92-a6c4dae69d19",
    "_kg_hide-input": true,
    "_uuid": "8f2839f25d086af736a60e9eeb907d3b93b6e0e5",
    "execution": {
     "iopub.execute_input": "2022-03-10T22:31:25.203312Z",
     "iopub.status.busy": "2022-03-10T22:31:25.202570Z",
     "iopub.status.idle": "2022-03-10T22:31:25.211321Z",
     "shell.execute_reply": "2022-03-10T22:31:25.210190Z",
     "shell.execute_reply.started": "2022-03-10T22:29:51.197897Z"
    },
    "papermill": {
     "duration": 0.094022,
     "end_time": "2022-03-10T22:31:25.211823",
     "exception": false,
     "start_time": "2022-03-10T22:31:25.117801",
     "status": "completed"
    },
    "tags": []
   },
   "outputs": [],
   "source": [
    "import numpy as np # linear algebra\n",
    "import pandas as pd # data processing, CSV file I/O (e.g. pd.read_csv)"
   ]
  },
  {
   "cell_type": "markdown",
   "id": "9e8afff9",
   "metadata": {
    "papermill": {
     "duration": 0.064779,
     "end_time": "2022-03-10T22:31:25.609887",
     "exception": false,
     "start_time": "2022-03-10T22:31:25.545108",
     "status": "completed"
    },
    "tags": []
   },
   "source": [
    "<div id=\"importing-matplotlib\"\n",
    "     style=\"display:fill;\n",
    "            background-color: #369;\n",
    "            font-size:160%;\n",
    "            font-family: 'Clear Sans', 'Helvetica Neue', Arial, sans-serif;\n",
    "            letter-spacing: 0.5px;\n",
    "            padding: 6px;\n",
    "            color: #FFF;\n",
    "            border-style: solid;\n",
    "            border-color: #369;\n",
    "            text-align:center;\">\n",
    "<b>Importing Matplotlib</b>\n",
    "</div>"
   ]
  },
  {
   "cell_type": "code",
   "execution_count": 2,
   "id": "c4bd7485",
   "metadata": {
    "execution": {
     "iopub.execute_input": "2022-03-10T22:31:25.747325Z",
     "iopub.status.busy": "2022-03-10T22:31:25.746585Z",
     "iopub.status.idle": "2022-03-10T22:31:25.749408Z",
     "shell.execute_reply": "2022-03-10T22:31:25.749888Z",
     "shell.execute_reply.started": "2022-03-10T22:29:51.230792Z"
    },
    "papermill": {
     "duration": 0.072935,
     "end_time": "2022-03-10T22:31:25.750069",
     "exception": false,
     "start_time": "2022-03-10T22:31:25.677134",
     "status": "completed"
    },
    "tags": []
   },
   "outputs": [
    {
     "name": "stdout",
     "output_type": "stream",
     "text": [
      "Matplotlib version: 3.3.4\n"
     ]
    }
   ],
   "source": [
    "import matplotlib\n",
    "import matplotlib.pyplot as plt\n",
    "%matplotlib inline\n",
    "print(\"Matplotlib version:\", matplotlib.__version__)"
   ]
  },
  {
   "cell_type": "markdown",
   "id": "98892914",
   "metadata": {
    "papermill": {
     "duration": 0.066991,
     "end_time": "2022-03-10T22:31:25.882703",
     "exception": false,
     "start_time": "2022-03-10T22:31:25.815712",
     "status": "completed"
    },
    "tags": []
   },
   "source": [
    "<div id=\"basic-plots\"\n",
    "     style=\"display:fill;\n",
    "            background-color: #369;\n",
    "            font-size:160%;\n",
    "            font-family: 'Clear Sans', 'Helvetica Neue', Arial, sans-serif;\n",
    "            letter-spacing: 0.5px;\n",
    "            padding: 6px;\n",
    "            color: #FFF;\n",
    "            border-style: solid;\n",
    "            border-color: #369;\n",
    "            text-align:center;\">\n",
    "<b>Basic plots with Python lists and NumPy arrays</b>\n",
    "</div>\n",
    "\n",
    "The most basic type of plot you can make is a line chart with data defined as either Python lists or NumPy arrays. As we'll see, the parameters can be any array-like or scalar value."
   ]
  },
  {
   "cell_type": "code",
   "execution_count": 4,
   "id": "68cc0960",
   "metadata": {
    "execution": {
     "iopub.execute_input": "2022-03-10T22:31:26.025870Z",
     "iopub.status.busy": "2022-03-10T22:31:26.025068Z",
     "iopub.status.idle": "2022-03-10T22:31:26.224225Z",
     "shell.execute_reply": "2022-03-10T22:31:26.223665Z",
     "shell.execute_reply.started": "2022-03-10T22:29:51.237663Z"
    },
    "papermill": {
     "duration": 0.274277,
     "end_time": "2022-03-10T22:31:26.224379",
     "exception": false,
     "start_time": "2022-03-10T22:31:25.950102",
     "status": "completed"
    },
    "tags": []
   },
   "outputs": [
    {
     "data": {
      "image/png": "[encoded data removed]",
      "text/plain": [
       "<Figure size 432x288 with 1 Axes>"
      ]
     },
     "metadata": {
      "needs_background": "light"
     },
     "output_type": "display_data"
    }
   ],
   "source": [
    "x = [1, 2, 3, 4, 5, 6, 7]\n",
    "y = [7, 6, 5, 4, 3, 2, 1]\n",
    "\n",
    "plt.plot(x, y);"
   ]
  },
  {
   "cell_type": "markdown",
   "id": "c6976dbb",
   "metadata": {
    "papermill": {
     "duration": 0.067386,
     "end_time": "2022-03-10T22:31:26.360600",
     "exception": false,
     "start_time": "2022-03-10T22:31:26.293214",
     "status": "completed"
    },
    "tags": []
   },
   "source": [
    "This gives us a very plain line chart with x and y axis scales but no labels. The size and color of the plot line use Matplotlib's default values. Change the color by setting a `color` attribute."
   ]
  },
  {
   "cell_type": "code",
   "execution_count": 5,
   "id": "e9583e47",
   "metadata": {
    "execution": {
     "iopub.execute_input": "2022-03-10T22:31:26.509826Z",
     "iopub.status.busy": "2022-03-10T22:31:26.509084Z",
     "iopub.status.idle": "2022-03-10T22:31:26.763411Z",
     "shell.execute_reply": "2022-03-10T22:31:26.762737Z",
     "shell.execute_reply.started": "2022-03-10T22:29:51.433883Z"
    },
    "papermill": {
     "duration": 0.332378,
     "end_time": "2022-03-10T22:31:26.763552",
     "exception": false,
     "start_time": "2022-03-10T22:31:26.431174",
     "status": "completed"
    },
    "tags": []
   },
   "outputs": [
    {
     "data": {
      "image/png": "[encoded data removed]",
      "text/plain": [
       "<Figure size 432x288 with 1 Axes>"
      ]
     },
     "metadata": {
      "needs_background": "light"
     },
     "output_type": "display_data"
    }
   ],
   "source": [
    "x = np.array([1, 2, 3, 4, 5, 6, 7])\n",
    "y = np.array([1, 1, 2, 3, 5, 8, 13])\n",
    "\n",
    "plt.plot(x, y, color='red');"
   ]
  },
  {
   "cell_type": "markdown",
   "id": "be2fc284",
   "metadata": {
    "papermill": {
     "duration": 0.073992,
     "end_time": "2022-03-10T22:31:26.905622",
     "exception": false,
     "start_time": "2022-03-10T22:31:26.831630",
     "status": "completed"
    },
    "tags": []
   },
   "source": [
    "<div id=\"plot-fundamentals\"\n",
    "     style=\"display:fill;\n",
    "            background-color: #369;\n",
    "            font-size:160%;\n",
    "            font-family: 'Clear Sans', 'Helvetica Neue', Arial, sans-serif;\n",
    "            letter-spacing: 0.5px;\n",
    "            padding: 6px;\n",
    "            color: #FFF;\n",
    "            border-style: solid;\n",
    "            border-color: #369;\n",
    "            text-align:center;\">\n",
    "<b>Plot Fundamentals</b>\n",
    "</div>\n",
    "\n",
    "\n",
    "<div id=\"lines\"\n",
    "     style=\"display:fill;\n",
    "            background-color: #999;\n",
    "            font-size:140%;\n",
    "            font-family: 'Clear Sans', 'Helvetica Neue', Arial, sans-serif;\n",
    "            letter-spacing: 0.5px;\n",
    "            padding: 5px;\n",
    "            color: #FFF;\n",
    "            border-style: solid;\n",
    "            border-color: #999;\n",
    "            text-align:center;\">\n",
    "<b>Lines</b>\n",
    "</div>\n",
    "\n",
    "Matplotlib makes it very easy to display plots with different line styles."
   ]
  },
  {
   "cell_type": "code",
   "execution_count": 7,
   "id": "b47eb752",
   "metadata": {
    "execution": {
     "iopub.execute_input": "2022-03-10T22:31:27.051863Z",
     "iopub.status.busy": "2022-03-10T22:31:27.051116Z",
     "iopub.status.idle": "2022-03-10T22:31:27.232637Z",
     "shell.execute_reply": "2022-03-10T22:31:27.233260Z",
     "shell.execute_reply.started": "2022-03-10T22:29:51.623614Z"
    },
    "papermill": {
     "duration": 0.258794,
     "end_time": "2022-03-10T22:31:27.233455",
     "exception": false,
     "start_time": "2022-03-10T22:31:26.974661",
     "status": "completed"
    },
    "tags": []
   },
   "outputs": [
    {
     "data": {
      "image/png": "[encoded data removed]",
      "text/plain": [
       "<Figure size 432x288 with 1 Axes>"
      ]
     },
     "metadata": {
      "needs_background": "light"
     },
     "output_type": "display_data"
    }
   ],
   "source": [
    "y = [2, 5, 9, 13, 18]\n",
    "\n",
    "plt.plot(y, linestyle='dotted', color='red');"
   ]
  },
  {
   "cell_type": "markdown",
   "id": "3ce2c682",
   "metadata": {
    "papermill": {
     "duration": 0.070933,
     "end_time": "2022-03-10T22:31:27.373270",
     "exception": false,
     "start_time": "2022-03-10T22:31:27.302337",
     "status": "completed"
    },
    "tags": []
   },
   "source": [
    "Note that we only provided y values and Matplotlib filled in a set of default values for the x-axis.\n",
    "\n",
    "There are many different line styles available. For example, you can display a combination of dashes and dots by specifying the line style of `'-.'`. We can also change the line width."
   ]
  },
  {
   "cell_type": "code",
   "execution_count": 16,
   "id": "976bb707",
   "metadata": {
    "execution": {
     "iopub.execute_input": "2022-03-10T22:31:27.516824Z",
     "iopub.status.busy": "2022-03-10T22:31:27.516114Z",
     "iopub.status.idle": "2022-03-10T22:31:27.691483Z",
     "shell.execute_reply": "2022-03-10T22:31:27.692037Z",
     "shell.execute_reply.started": "2022-03-10T22:29:51.933797Z"
    },
    "papermill": {
     "duration": 0.247412,
     "end_time": "2022-03-10T22:31:27.692215",
     "exception": false,
     "start_time": "2022-03-10T22:31:27.444803",
     "status": "completed"
    },
    "tags": []
   },
   "outputs": [
    {
     "data": {
      "image/png": "[encoded data removed]",
      "text/plain": [
       "<Figure size 432x288 with 1 Axes>"
      ]
     },
     "metadata": {
      "needs_background": "light"
     },
     "output_type": "display_data"
    }
   ],
   "source": [
    "plt.plot(y, linestyle='-.', linewidth=2);"
   ]
  },
  {
   "cell_type": "markdown",
   "id": "3f2e1436",
   "metadata": {
    "papermill": {
     "duration": 0.068331,
     "end_time": "2022-03-10T22:31:27.829394",
     "exception": false,
     "start_time": "2022-03-10T22:31:27.761063",
     "status": "completed"
    },
    "tags": []
   },
   "source": [
    "You can view `matplotlib.lines.lineStyles` to see what line styles are available."
   ]
  },
  {
   "cell_type": "code",
   "execution_count": 13,
   "id": "d321eaef",
   "metadata": {
    "execution": {
     "iopub.execute_input": "2022-03-10T22:31:27.972100Z",
     "iopub.status.busy": "2022-03-10T22:31:27.971305Z",
     "iopub.status.idle": "2022-03-10T22:31:27.976788Z",
     "shell.execute_reply": "2022-03-10T22:31:27.977320Z",
     "shell.execute_reply.started": "2022-03-10T22:29:52.143076Z"
    },
    "papermill": {
     "duration": 0.079172,
     "end_time": "2022-03-10T22:31:27.977494",
     "exception": false,
     "start_time": "2022-03-10T22:31:27.898322",
     "status": "completed"
    },
    "tags": []
   },
   "outputs": [
    {
     "data": {
      "text/plain": [
       "{'-': '_draw_solid',\n",
       " '--': '_draw_dashed',\n",
       " '-.': '_draw_dash_dot',\n",
       " ':': '_draw_dotted',\n",
       " 'None': '_draw_nothing',\n",
       " ' ': '_draw_nothing',\n",
       " '': '_draw_nothing'}"
      ]
     },
     "execution_count": 13,
     "metadata": {},
     "output_type": "execute_result"
    }
   ],
   "source": [
    "matplotlib.lines.lineStyles"
   ]
  },
  {
   "cell_type": "markdown",
   "id": "4195c431",
   "metadata": {
    "papermill": {
     "duration": 0.079921,
     "end_time": "2022-03-10T22:31:28.138112",
     "exception": false,
     "start_time": "2022-03-10T22:31:28.058191",
     "status": "completed"
    },
    "tags": []
   },
   "source": [
    "<div id=\"multiple-plots\"\n",
    "     style=\"display:fill;\n",
    "            background-color: #999;\n",
    "            font-size:140%;\n",
    "            font-family: 'Clear Sans', 'Helvetica Neue', Arial, sans-serif;\n",
    "            letter-spacing: 0.5px;\n",
    "            padding: 5px;\n",
    "            color: #FFF;\n",
    "            border-style: solid;\n",
    "            border-color: #999;\n",
    "            text-align:center;\">\n",
    "<b>Multiple plots</b>\n",
    "</div>\n",
    "\n",
    "You can display multiple lines on the same plot by calling the `plot` function multiple times."
   ]
  },
  {
   "cell_type": "code",
   "execution_count": 22,
   "id": "1024b708",
   "metadata": {
    "execution": {
     "iopub.execute_input": "2022-03-10T22:31:28.305989Z",
     "iopub.status.busy": "2022-03-10T22:31:28.304933Z",
     "iopub.status.idle": "2022-03-10T22:31:28.488573Z",
     "shell.execute_reply": "2022-03-10T22:31:28.487975Z",
     "shell.execute_reply.started": "2022-03-10T22:29:52.150651Z"
    },
    "papermill": {
     "duration": 0.269315,
     "end_time": "2022-03-10T22:31:28.488736",
     "exception": false,
     "start_time": "2022-03-10T22:31:28.219421",
     "status": "completed"
    },
    "tags": []
   },
   "outputs": [
    {
     "data": {
      "text/plain": [
       "[<matplotlib.lines.Line2D at 0x1bc18816be0>]"
      ]
     },
     "execution_count": 22,
     "metadata": {},
     "output_type": "execute_result"
    },
    {
     "data": {
      "image/png": "[encoded data removed]",
      "text/plain": [
       "<Figure size 432x288 with 1 Axes>"
      ]
     },
     "metadata": {
      "needs_background": "light"
     },
     "output_type": "display_data"
    }
   ],
   "source": [
    "y1 = [1, 2, 3, 4, 5]\n",
    "y2 = [2, 5, 9, 13, 18]\n",
    "\n",
    "plt.plot(y1, color='blue', linestyle='--')\n",
    "plt.plot(y2, color='red')"
   ]
  },
  {
   "cell_type": "markdown",
   "id": "87378775",
   "metadata": {
    "papermill": {
     "duration": 0.070102,
     "end_time": "2022-03-10T22:31:28.631692",
     "exception": false,
     "start_time": "2022-03-10T22:31:28.561590",
     "status": "completed"
    },
    "tags": []
   },
   "source": [
    "You can also pass multiple sets of x and y data points to the `plot` function at once."
   ]
  },
  {
   "cell_type": "code",
   "execution_count": 23,
   "id": "565e94d3",
   "metadata": {
    "execution": {
     "iopub.execute_input": "2022-03-10T22:31:28.812028Z",
     "iopub.status.busy": "2022-03-10T22:31:28.796189Z",
     "iopub.status.idle": "2022-03-10T22:31:28.959221Z",
     "shell.execute_reply": "2022-03-10T22:31:28.958491Z",
     "shell.execute_reply.started": "2022-03-10T22:29:52.361741Z"
    },
    "papermill": {
     "duration": 0.247941,
     "end_time": "2022-03-10T22:31:28.959377",
     "exception": false,
     "start_time": "2022-03-10T22:31:28.711436",
     "status": "completed"
    },
    "tags": []
   },
   "outputs": [
    {
     "data": {
      "image/png": "[encoded data removed]",
      "text/plain": [
       "<Figure size 432x288 with 1 Axes>"
      ]
     },
     "metadata": {
      "needs_background": "light"
     },
     "output_type": "display_data"
    }
   ],
   "source": [
    "x1 = [1, 2, 3, 4, 5]\n",
    "y1 = [1, 2, 3, 4, 5]\n",
    "x2 = [1, 2, 3, 4, 5]\n",
    "y2 = [2, 5, 9, 13, 18]\n",
    "x3 = [1, 2, 3, 4, 5]\n",
    "y3 = [2, 4, 6, 8, 10]\n",
    "\n",
    "plt.plot(x1, y1, x2, y2, x3, y3);"
   ]
  },
  {
   "cell_type": "code",
   "execution_count": 24,
   "id": "53825f03",
   "metadata": {},
   "outputs": [
    {
     "data": {
      "text/plain": [
       "[<matplotlib.lines.Line2D at 0x1bc185f60f0>,\n",
       " <matplotlib.lines.Line2D at 0x1bc185f6550>]"
      ]
     },
     "execution_count": 24,
     "metadata": {},
     "output_type": "execute_result"
    },
    {
     "data": {
      "image/png": "[encoded data removed]",
      "text/plain": [
       "<Figure size 432x288 with 1 Axes>"
      ]
     },
     "metadata": {
      "needs_background": "light"
     },
     "output_type": "display_data"
    }
   ],
   "source": [
    "plt.plot(y1, y2, y3)"
   ]
  },
  {
   "cell_type": "markdown",
   "id": "a3d1e92a",
   "metadata": {
    "papermill": {
     "duration": 0.070323,
     "end_time": "2022-03-10T22:31:29.102413",
     "exception": false,
     "start_time": "2022-03-10T22:31:29.032090",
     "status": "completed"
    },
    "tags": []
   },
   "source": [
    "<div id=\"markers\"\n",
    "     style=\"display:fill;\n",
    "            background-color: #999;\n",
    "            font-size:140%;\n",
    "            font-family: 'Clear Sans', 'Helvetica Neue', Arial, sans-serif;\n",
    "            letter-spacing: 0.5px;\n",
    "            padding: 5px;\n",
    "            color: #FFF;\n",
    "            border-style: solid;\n",
    "            border-color: #999;\n",
    "            text-align:center;\">\n",
    "<b>Markers</b>\n",
    "</div>\n",
    "\n",
    "You can also control the markers used to plot each data point."
   ]
  },
  {
   "cell_type": "code",
   "execution_count": 29,
   "id": "4ff4cfe4",
   "metadata": {
    "execution": {
     "iopub.execute_input": "2022-03-10T22:31:29.261655Z",
     "iopub.status.busy": "2022-03-10T22:31:29.259887Z",
     "iopub.status.idle": "2022-03-10T22:31:29.471326Z",
     "shell.execute_reply": "2022-03-10T22:31:29.470730Z",
     "shell.execute_reply.started": "2022-03-10T22:29:52.572764Z"
    },
    "papermill": {
     "duration": 0.2993,
     "end_time": "2022-03-10T22:31:29.471475",
     "exception": false,
     "start_time": "2022-03-10T22:31:29.172175",
     "status": "completed"
    },
    "tags": []
   },
   "outputs": [
    {
     "data": {
      "image/png": "[encoded data removed]",
      "text/plain": [
       "<Figure size 432x288 with 1 Axes>"
      ]
     },
     "metadata": {
      "needs_background": "light"
     },
     "output_type": "display_data"
    }
   ],
   "source": [
    "y = [2, 5, 9, 13, 18]\n",
    "\n",
    "plt.plot(y, marker='o');  # That's the lowercase letter 'o'"
   ]
  },
  {
   "cell_type": "markdown",
   "id": "a420d91d",
   "metadata": {
    "papermill": {
     "duration": 0.071401,
     "end_time": "2022-03-10T22:31:29.615887",
     "exception": false,
     "start_time": "2022-03-10T22:31:29.544486",
     "status": "completed"
    },
    "tags": []
   },
   "source": [
    "There are a lot of different markers to choose from."
   ]
  },
  {
   "cell_type": "code",
   "execution_count": 30,
   "id": "5104bfe9",
   "metadata": {
    "execution": {
     "iopub.execute_input": "2022-03-10T22:31:29.795683Z",
     "iopub.status.busy": "2022-03-10T22:31:29.789470Z",
     "iopub.status.idle": "2022-03-10T22:31:29.985254Z",
     "shell.execute_reply": "2022-03-10T22:31:29.984565Z",
     "shell.execute_reply.started": "2022-03-10T22:29:52.784828Z"
    },
    "papermill": {
     "duration": 0.297382,
     "end_time": "2022-03-10T22:31:29.985400",
     "exception": false,
     "start_time": "2022-03-10T22:31:29.688018",
     "status": "completed"
    },
    "tags": []
   },
   "outputs": [
    {
     "data": {
      "image/png": "[encoded data removed]",
      "text/plain": [
       "<Figure size 432x288 with 1 Axes>"
      ]
     },
     "metadata": {
      "needs_background": "light"
     },
     "output_type": "display_data"
    }
   ],
   "source": [
    "y1 = [1, 2, 3, 4, 5]\n",
    "y2 = [2, 5, 9, 13, 18]\n",
    "\n",
    "plt.plot(y1, marker='s')  # square marker\n",
    "plt.plot(y2, marker='D'); # diamond marker"
   ]
  },
  {
   "cell_type": "markdown",
   "id": "2c3df6be",
   "metadata": {
    "papermill": {
     "duration": 0.07536,
     "end_time": "2022-03-10T22:31:30.137469",
     "exception": false,
     "start_time": "2022-03-10T22:31:30.062109",
     "status": "completed"
    },
    "tags": []
   },
   "source": [
    "You can also change the marker size."
   ]
  },
  {
   "cell_type": "code",
   "execution_count": 33,
   "id": "425ec170",
   "metadata": {
    "execution": {
     "iopub.execute_input": "2022-03-10T22:31:30.311730Z",
     "iopub.status.busy": "2022-03-10T22:31:30.306370Z",
     "iopub.status.idle": "2022-03-10T22:31:30.517199Z",
     "shell.execute_reply": "2022-03-10T22:31:30.517880Z",
     "shell.execute_reply.started": "2022-03-10T22:29:52.999066Z"
    },
    "papermill": {
     "duration": 0.306414,
     "end_time": "2022-03-10T22:31:30.518097",
     "exception": false,
     "start_time": "2022-03-10T22:31:30.211683",
     "status": "completed"
    },
    "tags": []
   },
   "outputs": [
    {
     "data": {
      "image/png": "[encoded data removed]",
      "text/plain": [
       "<Figure size 432x288 with 1 Axes>"
      ]
     },
     "metadata": {
      "needs_background": "light"
     },
     "output_type": "display_data"
    }
   ],
   "source": [
    "y = [2, 5, 9, 13, 18]\n",
    "\n",
    "plt.plot(y, marker='o', markersize=8);"
   ]
  },
  {
   "cell_type": "markdown",
   "id": "969d3cb7",
   "metadata": {
    "papermill": {
     "duration": 0.072185,
     "end_time": "2022-03-10T22:31:30.664270",
     "exception": false,
     "start_time": "2022-03-10T22:31:30.592085",
     "status": "completed"
    },
    "tags": []
   },
   "source": [
    "We can also change the marker edge color and face color."
   ]
  },
  {
   "cell_type": "code",
   "execution_count": 34,
   "id": "168c7f3c",
   "metadata": {
    "execution": {
     "iopub.execute_input": "2022-03-10T22:31:30.834956Z",
     "iopub.status.busy": "2022-03-10T22:31:30.834125Z",
     "iopub.status.idle": "2022-03-10T22:31:31.039482Z",
     "shell.execute_reply": "2022-03-10T22:31:31.038791Z",
     "shell.execute_reply.started": "2022-03-10T22:29:53.208158Z"
    },
    "papermill": {
     "duration": 0.300853,
     "end_time": "2022-03-10T22:31:31.039652",
     "exception": false,
     "start_time": "2022-03-10T22:31:30.738799",
     "status": "completed"
    },
    "tags": []
   },
   "outputs": [
    {
     "data": {
      "image/png": "[encoded data removed]",
      "text/plain": [
       "<Figure size 432x288 with 1 Axes>"
      ]
     },
     "metadata": {
      "needs_background": "light"
     },
     "output_type": "display_data"
    }
   ],
   "source": [
    "plt.plot(y, marker='o', markersize=10, markeredgecolor='red', markerfacecolor='yellow');"
   ]
  },
  {
   "cell_type": "code",
   "execution_count": 35,
   "id": "b314461f",
   "metadata": {
    "scrolled": true
   },
   "outputs": [
    {
     "data": {
      "text/plain": [
       "{'.': 'point',\n",
       " ',': 'pixel',\n",
       " 'o': 'circle',\n",
       " 'v': 'triangle_down',\n",
       " '^': 'triangle_up',\n",
       " '<': 'triangle_left',\n",
       " '>': 'triangle_right',\n",
       " '1': 'tri_down',\n",
       " '2': 'tri_up',\n",
       " '3': 'tri_left',\n",
       " '4': 'tri_right',\n",
       " '8': 'octagon',\n",
       " 's': 'square',\n",
       " 'p': 'pentagon',\n",
       " '*': 'star',\n",
       " 'h': 'hexagon1',\n",
       " 'H': 'hexagon2',\n",
       " '+': 'plus',\n",
       " 'x': 'x',\n",
       " 'D': 'diamond',\n",
       " 'd': 'thin_diamond',\n",
       " '|': 'vline',\n",
       " '_': 'hline',\n",
       " 'P': 'plus_filled',\n",
       " 'X': 'x_filled',\n",
       " 0: 'tickleft',\n",
       " 1: 'tickright',\n",
       " 2: 'tickup',\n",
       " 3: 'tickdown',\n",
       " 4: 'caretleft',\n",
       " 5: 'caretright',\n",
       " 6: 'caretup',\n",
       " 7: 'caretdown',\n",
       " 8: 'caretleftbase',\n",
       " 9: 'caretrightbase',\n",
       " 10: 'caretupbase',\n",
       " 11: 'caretdownbase',\n",
       " 'None': 'nothing',\n",
       " None: 'nothing',\n",
       " ' ': 'nothing',\n",
       " '': 'nothing'}"
      ]
     },
     "execution_count": 35,
     "metadata": {},
     "output_type": "execute_result"
    }
   ],
   "source": [
    "matplotlib.markers.MarkerStyle.markers"
   ]
  },
  {
   "cell_type": "markdown",
   "id": "51c6f7fe",
   "metadata": {
    "papermill": {
     "duration": 0.073026,
     "end_time": "2022-03-10T22:31:31.186288",
     "exception": false,
     "start_time": "2022-03-10T22:31:31.113262",
     "status": "completed"
    },
    "tags": []
   },
   "source": [
    "You can see all of the different marker styles using `matplotlib.markers.MarkerStyle.markers`, or view all the symbols available at [matplotlib.markers](https://matplotlib.org/stable/api/markers_api.html)."
   ]
  },
  {
   "cell_type": "markdown",
   "id": "4283c35a",
   "metadata": {
    "papermill": {
     "duration": 0.074175,
     "end_time": "2022-03-10T22:31:31.334028",
     "exception": false,
     "start_time": "2022-03-10T22:31:31.259853",
     "status": "completed"
    },
    "tags": []
   },
   "source": [
    "<div id=\"plotting-functions\"\n",
    "     style=\"display:fill;\n",
    "            background-color: #999;\n",
    "            font-size:140%;\n",
    "            font-family: 'Clear Sans', 'Helvetica Neue', Arial, sans-serif;\n",
    "            letter-spacing: 0.5px;\n",
    "            padding: 5px;\n",
    "            color: #FFF;\n",
    "            border-style: solid;\n",
    "            border-color: #999;\n",
    "            text-align:center;\">\n",
    "<b>Plotting functions</b>\n",
    "</div>\n",
    "\n",
    "Since Matplotlib takes any array-like or scalar value as its data parameters, we can use it to plot continuous functions (if we just give it enough data points to plot)."
   ]
  },
  {
   "cell_type": "code",
   "execution_count": 36,
   "id": "5dc449c3",
   "metadata": {
    "execution": {
     "iopub.execute_input": "2022-03-10T22:31:31.506408Z",
     "iopub.status.busy": "2022-03-10T22:31:31.505263Z",
     "iopub.status.idle": "2022-03-10T22:31:31.712454Z",
     "shell.execute_reply": "2022-03-10T22:31:31.711703Z",
     "shell.execute_reply.started": "2022-03-10T22:29:53.414948Z"
    },
    "papermill": {
     "duration": 0.304906,
     "end_time": "2022-03-10T22:31:31.712625",
     "exception": false,
     "start_time": "2022-03-10T22:31:31.407719",
     "status": "completed"
    },
    "tags": []
   },
   "outputs": [
    {
     "data": {
      "image/png": "[encoded data removed]",
      "text/plain": [
       "<Figure size 432x288 with 1 Axes>"
      ]
     },
     "metadata": {
      "needs_background": "light"
     },
     "output_type": "display_data"
    }
   ],
   "source": [
    "x = np.linspace(start=-np.pi, stop=np.pi, num=256)\n",
    "y = np.sin(2*x)\n",
    "\n",
    "plt.plot(x, y);"
   ]
  },
  {
   "cell_type": "markdown",
   "id": "c1b4bfe3",
   "metadata": {
    "papermill": {
     "duration": 0.076012,
     "end_time": "2022-03-10T22:31:31.866589",
     "exception": false,
     "start_time": "2022-03-10T22:31:31.790577",
     "status": "completed"
    },
    "tags": []
   },
   "source": [
    "We can also fill colors between two lines on the same plot. In the plot below, notice that the second set of y values is a scalar. This tells Matplotlib to fill the area between the first function and the 0 y-coordinate."
   ]
  },
  {
   "cell_type": "code",
   "execution_count": 37,
   "id": "4e0cb39f",
   "metadata": {
    "execution": {
     "iopub.execute_input": "2022-03-10T22:31:32.051221Z",
     "iopub.status.busy": "2022-03-10T22:31:32.050280Z",
     "iopub.status.idle": "2022-03-10T22:31:32.233934Z",
     "shell.execute_reply": "2022-03-10T22:31:32.233342Z",
     "shell.execute_reply.started": "2022-03-10T22:29:53.637234Z"
    },
    "papermill": {
     "duration": 0.289726,
     "end_time": "2022-03-10T22:31:32.234101",
     "exception": false,
     "start_time": "2022-03-10T22:31:31.944375",
     "status": "completed"
    },
    "tags": []
   },
   "outputs": [
    {
     "data": {
      "image/png": "[encoded data removed]",
      "text/plain": [
       "<Figure size 432x288 with 1 Axes>"
      ]
     },
     "metadata": {
      "needs_background": "light"
     },
     "output_type": "display_data"
    }
   ],
   "source": [
    "plt.plot(x, y)\n",
    "plt.fill_between(x, y1=y, y2=0, alpha=0.1);"
   ]
  },
  {
   "cell_type": "markdown",
   "id": "e75eb21b",
   "metadata": {
    "papermill": {
     "duration": 0.085874,
     "end_time": "2022-03-10T22:31:32.396487",
     "exception": false,
     "start_time": "2022-03-10T22:31:32.310613",
     "status": "completed"
    },
    "tags": []
   },
   "source": [
    "<div id=\"axis-labels\"\n",
    "     style=\"display:fill;\n",
    "            background-color: #999;\n",
    "            font-size:140%;\n",
    "            font-family: 'Clear Sans', 'Helvetica Neue', Arial, sans-serif;\n",
    "            letter-spacing: 0.5px;\n",
    "            padding: 5px;\n",
    "            color: #FFF;\n",
    "            border-style: solid;\n",
    "            border-color: #999;\n",
    "            text-align:center;\">\n",
    "<b>Axis Labels</b>\n",
    "</div>\n",
    "\n",
    "We can add axis labels to a chart using the `xlabel` and `ylabel` functions. Let's change our data to plot month abbreviations on the x-axis and some made up sales figures on the y-axis."
   ]
  },
  {
   "cell_type": "code",
   "execution_count": 38,
   "id": "1770b426",
   "metadata": {
    "execution": {
     "iopub.execute_input": "2022-03-10T22:31:32.576773Z",
     "iopub.status.busy": "2022-03-10T22:31:32.576062Z",
     "iopub.status.idle": "2022-03-10T22:31:32.725569Z",
     "shell.execute_reply": "2022-03-10T22:31:32.726497Z",
     "shell.execute_reply.started": "2022-03-10T22:29:53.870782Z"
    },
    "papermill": {
     "duration": 0.246603,
     "end_time": "2022-03-10T22:31:32.726811",
     "exception": false,
     "start_time": "2022-03-10T22:31:32.480208",
     "status": "completed"
    },
    "tags": []
   },
   "outputs": [
    {
     "data": {
      "image/png": "[encoded data removed]",
      "text/plain": [
       "<Figure size 432x288 with 1 Axes>"
      ]
     },
     "metadata": {
      "needs_background": "light"
     },
     "output_type": "display_data"
    }
   ],
   "source": [
    "x = ['Jan', 'Feb', 'March', 'Apr', 'May']\n",
    "y1 = [1, 2, 3, 4, 5]\n",
    "y2 = [2, 5, 9, 13, 18]\n",
    "y3 = [2, 4, 6, 8, 10]\n",
    "\n",
    "plt.plot(x, y1, x, y2, x, y3)\n",
    "plt.xlabel('Month')\n",
    "plt.ylabel('Sales');"
   ]
  },
  {
   "cell_type": "markdown",
   "id": "2f65d4a1",
   "metadata": {
    "papermill": {
     "duration": 0.090392,
     "end_time": "2022-03-10T22:31:32.899962",
     "exception": false,
     "start_time": "2022-03-10T22:31:32.809570",
     "status": "completed"
    },
    "tags": []
   },
   "source": [
    "<div id=\"adding-titles\"\n",
    "     style=\"display:fill;\n",
    "            background-color: #999;\n",
    "            font-size:140%;\n",
    "            font-family: 'Clear Sans', 'Helvetica Neue', Arial, sans-serif;\n",
    "            letter-spacing: 0.5px;\n",
    "            padding: 5px;\n",
    "            color: #FFF;\n",
    "            border-style: solid;\n",
    "            border-color: #999;\n",
    "            text-align:center;\">\n",
    "<b>Adding a Title</b>\n",
    "</div>\n",
    "\n",
    "There's also a function to add a title to the whole chart."
   ]
  },
  {
   "cell_type": "code",
   "execution_count": 39,
   "id": "0845c051",
   "metadata": {
    "execution": {
     "iopub.execute_input": "2022-03-10T22:31:33.109099Z",
     "iopub.status.busy": "2022-03-10T22:31:33.073088Z",
     "iopub.status.idle": "2022-03-10T22:31:33.310661Z",
     "shell.execute_reply": "2022-03-10T22:31:33.310043Z",
     "shell.execute_reply.started": "2022-03-10T22:29:54.077422Z"
    },
    "papermill": {
     "duration": 0.32713,
     "end_time": "2022-03-10T22:31:33.310822",
     "exception": false,
     "start_time": "2022-03-10T22:31:32.983692",
     "status": "completed"
    },
    "tags": []
   },
   "outputs": [
    {
     "data": {
      "image/png": "[encoded data removed]",
      "text/plain": [
       "<Figure size 432x288 with 1 Axes>"
      ]
     },
     "metadata": {
      "needs_background": "light"
     },
     "output_type": "display_data"
    }
   ],
   "source": [
    "x = ['Jan', 'Feb', 'March', 'Apr', 'May']\n",
    "y1 = [1, 2, 3, 4, 5]\n",
    "y2 = [2, 5, 9, 13, 18]\n",
    "y3 = [2, 4, 6, 8, 10]\n",
    "\n",
    "plt.plot(x, y1, x, y2, x, y3)\n",
    "plt.xlabel('Month')\n",
    "plt.ylabel('Sales')\n",
    "plt.title('Monthly Sales');"
   ]
  },
  {
   "cell_type": "markdown",
   "id": "5ad0364b",
   "metadata": {
    "papermill": {
     "duration": 0.081048,
     "end_time": "2022-03-10T22:31:33.473143",
     "exception": false,
     "start_time": "2022-03-10T22:31:33.392095",
     "status": "completed"
    },
    "tags": []
   },
   "source": [
    "<div id=\"displaying-legends\"\n",
    "     style=\"display:fill;\n",
    "            background-color: #999;\n",
    "            font-size:140%;\n",
    "            font-family: 'Clear Sans', 'Helvetica Neue', Arial, sans-serif;\n",
    "            letter-spacing: 0.5px;\n",
    "            padding: 5px;\n",
    "            color: #FFF;\n",
    "            border-style: solid;\n",
    "            border-color: #999;\n",
    "            text-align:center;\">\n",
    "<b>Displaying a Legend</b>\n",
    "</div>\n",
    "\n",
    "Since we have multiple lines on one chart, we should also add a legend. The `legend` function takes a list of labels, and we can also provide a location to control where the legend appears on the chart."
   ]
  },
  {
   "cell_type": "code",
   "execution_count": 46,
   "id": "4b92d1d1",
   "metadata": {
    "execution": {
     "iopub.execute_input": "2022-03-10T22:31:33.669013Z",
     "iopub.status.busy": "2022-03-10T22:31:33.667966Z",
     "iopub.status.idle": "2022-03-10T22:31:33.873444Z",
     "shell.execute_reply": "2022-03-10T22:31:33.874028Z",
     "shell.execute_reply.started": "2022-03-10T22:29:54.285781Z"
    },
    "papermill": {
     "duration": 0.31911,
     "end_time": "2022-03-10T22:31:33.874209",
     "exception": false,
     "start_time": "2022-03-10T22:31:33.555099",
     "status": "completed"
    },
    "tags": []
   },
   "outputs": [
    {
     "data": {
      "text/plain": [
       "<matplotlib.legend.Legend at 0x1bc18603518>"
      ]
     },
     "execution_count": 46,
     "metadata": {},
     "output_type": "execute_result"
    },
    {
     "data": {
      "image/png": "[encoded data removed]",
      "text/plain": [
       "<Figure size 432x288 with 1 Axes>"
      ]
     },
     "metadata": {
      "needs_background": "light"
     },
     "output_type": "display_data"
    }
   ],
   "source": [
    "x = ['Jan', 'Feb', 'March', 'Apr', 'May']\n",
    "y1 = [1, 2, 3, 4, 5]\n",
    "y2 = [2, 5, 9, 13, 18]\n",
    "y3 = [2, 4, 6, 8, 10]\n",
    "\n",
    "plt.plot(x, y1, x, y2, x, y3)\n",
    "plt.xlabel('Month')\n",
    "plt.ylabel('Sales')\n",
    "plt.title('Monthly Sales')\n",
    "plt.legend(labels=['Alice', 'Bob', 'Carol'], loc='upper left')"
   ]
  },
  {
   "cell_type": "markdown",
   "id": "18d48c58",
   "metadata": {
    "papermill": {
     "duration": 0.07892,
     "end_time": "2022-03-10T22:31:34.033669",
     "exception": false,
     "start_time": "2022-03-10T22:31:33.954749",
     "status": "completed"
    },
    "tags": []
   },
   "source": [
    "<div id=\"displaying-grid-lines\"\n",
    "     style=\"display:fill;\n",
    "            background-color: #999;\n",
    "            font-size:140%;\n",
    "            font-family: 'Clear Sans', 'Helvetica Neue', Arial, sans-serif;\n",
    "            letter-spacing: 0.5px;\n",
    "            padding: 5px;\n",
    "            color: #FFF;\n",
    "            border-style: solid;\n",
    "            border-color: #999;\n",
    "            text-align:center;\">\n",
    "<b>Adding Grid Lines</b>\n",
    "</div>\n",
    "\n",
    "If you look at the plot above, it can be difficult to estimae the values of the data points on each plot line. Let's add markers and grid lines to make this easier. For this first example, I'll just call `grid(True)` to display grid lines with the default settings."
   ]
  },
  {
   "cell_type": "code",
   "execution_count": 47,
   "id": "471d284f",
   "metadata": {
    "execution": {
     "iopub.execute_input": "2022-03-10T22:31:34.194263Z",
     "iopub.status.busy": "2022-03-10T22:31:34.193534Z",
     "iopub.status.idle": "2022-03-10T22:31:34.421082Z",
     "shell.execute_reply": "2022-03-10T22:31:34.421616Z",
     "shell.execute_reply.started": "2022-03-10T22:29:54.499232Z"
    },
    "papermill": {
     "duration": 0.309705,
     "end_time": "2022-03-10T22:31:34.421818",
     "exception": false,
     "start_time": "2022-03-10T22:31:34.112113",
     "status": "completed"
    },
    "tags": []
   },
   "outputs": [
    {
     "data": {
      "image/png": "[encoded data removed]",
      "text/plain": [
       "<Figure size 432x288 with 1 Axes>"
      ]
     },
     "metadata": {
      "needs_background": "light"
     },
     "output_type": "display_data"
    }
   ],
   "source": [
    "x = ['Jan', 'Feb', 'March', 'Apr', 'May']\n",
    "y1 = [1, 2, 3, 4, 5]\n",
    "y2 = [2, 5, 9, 13, 18]\n",
    "y3 = [2, 4, 6, 8, 10]\n",
    "\n",
    "plt.plot(x, y1, x, y2, x, y3, marker='o')\n",
    "plt.xlabel('Month')\n",
    "plt.ylabel('Sales')\n",
    "plt.title('Monthly Sales')\n",
    "plt.legend(labels=['Alice', 'Bob', 'Carol'], loc='upper left')\n",
    "plt.grid(True);"
   ]
  },
  {
   "cell_type": "markdown",
   "id": "8b012637",
   "metadata": {
    "papermill": {
     "duration": 0.079017,
     "end_time": "2022-03-10T22:31:34.582098",
     "exception": false,
     "start_time": "2022-03-10T22:31:34.503081",
     "status": "completed"
    },
    "tags": []
   },
   "source": [
    "Refer to the documentation at [`matplotlib.pyplot.grid`](https://matplotlib.org/stable/api/_as_gen/matplotlib.pyplot.grid.html) to see all of the optional parameters you can pass to control the style of the grid lines. Just to get an idea of what's possible, let's change the color and line thickness, but also the alpha to make the gridlines more transparent."
   ]
  },
  {
   "cell_type": "code",
   "execution_count": 50,
   "id": "58bf641c",
   "metadata": {
    "execution": {
     "iopub.execute_input": "2022-03-10T22:31:34.751485Z",
     "iopub.status.busy": "2022-03-10T22:31:34.750797Z",
     "iopub.status.idle": "2022-03-10T22:31:34.980062Z",
     "shell.execute_reply": "2022-03-10T22:31:34.980543Z",
     "shell.execute_reply.started": "2022-03-10T22:29:54.722364Z"
    },
    "papermill": {
     "duration": 0.318381,
     "end_time": "2022-03-10T22:31:34.980709",
     "exception": false,
     "start_time": "2022-03-10T22:31:34.662328",
     "status": "completed"
    },
    "tags": []
   },
   "outputs": [
    {
     "data": {
      "image/png": "[encoded data removed]",
      "text/plain": [
       "<Figure size 432x288 with 1 Axes>"
      ]
     },
     "metadata": {
      "needs_background": "light"
     },
     "output_type": "display_data"
    }
   ],
   "source": [
    "x = ['Jan', 'Feb', 'March', 'Apr', 'May']\n",
    "y1 = [1, 2, 3, 4, 5]\n",
    "y2 = [2, 5, 9, 13, 18]\n",
    "y3 = [2, 4, 6, 8, 10]\n",
    "\n",
    "plt.plot(x, y1, x, y2, x, y3, marker='o')\n",
    "plt.xlabel('Month')\n",
    "plt.ylabel('Sales')\n",
    "plt.title('Monthly Sales')\n",
    "plt.legend(labels=['Alice', 'Bob', 'Carol'], loc='upper left')\n",
    "plt.grid(color='blue', alpha=0.1, linewidth=3);"
   ]
  },
  {
   "cell_type": "markdown",
   "id": "6eaf42cf",
   "metadata": {
    "papermill": {
     "duration": 0.08038,
     "end_time": "2022-03-10T22:31:35.142828",
     "exception": false,
     "start_time": "2022-03-10T22:31:35.062448",
     "status": "completed"
    },
    "tags": []
   },
   "source": [
    "<div id=\"figure-size\"\n",
    "     style=\"display:fill;\n",
    "            background-color: #999;\n",
    "            font-size:140%;\n",
    "            font-family: 'Clear Sans', 'Helvetica Neue', Arial, sans-serif;\n",
    "            letter-spacing: 0.5px;\n",
    "            padding: 5px;\n",
    "            color: #FFF;\n",
    "            border-style: solid;\n",
    "            border-color: #999;\n",
    "            text-align:center;\">\n",
    "<b>Figure size</b>\n",
    "</div>\n",
    "\n",
    "Up until now all of our charts have been the same default size, but another good way to make your chart more readable is to simply make it bigger. We do that in Matplotlib using the `pyplot.figure` function."
   ]
  },
  {
   "cell_type": "code",
   "execution_count": 52,
   "id": "04621104",
   "metadata": {
    "execution": {
     "iopub.execute_input": "2022-03-10T22:31:35.327529Z",
     "iopub.status.busy": "2022-03-10T22:31:35.326267Z",
     "iopub.status.idle": "2022-03-10T22:31:35.557213Z",
     "shell.execute_reply": "2022-03-10T22:31:35.556532Z",
     "shell.execute_reply.started": "2022-03-10T22:29:54.951887Z"
    },
    "papermill": {
     "duration": 0.333483,
     "end_time": "2022-03-10T22:31:35.557363",
     "exception": false,
     "start_time": "2022-03-10T22:31:35.223880",
     "status": "completed"
    },
    "scrolled": false,
    "tags": []
   },
   "outputs": [
    {
     "data": {
      "image/png": "[encoded data removed]",
      "text/plain": [
       "<Figure size 864x432 with 1 Axes>"
      ]
     },
     "metadata": {
      "needs_background": "light"
     },
     "output_type": "display_data"
    }
   ],
   "source": [
    "plt.figure(figsize=(12, 6))\n",
    "\n",
    "plt.plot(x, y1, x, y2, x, y3, marker='o')\n",
    "plt.xlabel('Month')\n",
    "plt.ylabel('Sales')\n",
    "plt.title('Monthly Sales')\n",
    "plt.legend(labels=['Alice', 'Bob', 'Carol'], loc='upper left')\n",
    "plt.grid(True);"
   ]
  },
  {
   "cell_type": "code",
   "execution_count": 53,
   "id": "0f4784a1",
   "metadata": {},
   "outputs": [
    {
     "data": {
      "text/html": [
       "<div>\n",
       "<style scoped>\n",
       "    .dataframe tbody tr th:only-of-type {\n",
       "        vertical-align: middle;\n",
       "    }\n",
       "\n",
       "    .dataframe tbody tr th {\n",
       "        vertical-align: top;\n",
       "    }\n",
       "\n",
       "    .dataframe thead th {\n",
       "        text-align: right;\n",
       "    }\n",
       "</style>\n",
       "<table border=\"1\" class=\"dataframe\">\n",
       "  <thead>\n",
       "    <tr style=\"text-align: right;\">\n",
       "      <th></th>\n",
       "      <th>PassengerId</th>\n",
       "      <th>Survived</th>\n",
       "      <th>Pclass</th>\n",
       "      <th>Name</th>\n",
       "      <th>Sex</th>\n",
       "      <th>Age</th>\n",
       "      <th>SibSp</th>\n",
       "      <th>Parch</th>\n",
       "      <th>Ticket</th>\n",
       "      <th>Fare</th>\n",
       "      <th>Cabin</th>\n",
       "      <th>Embarked</th>\n",
       "    </tr>\n",
       "  </thead>\n",
       "  <tbody>\n",
       "    <tr>\n",
       "      <th>0</th>\n",
       "      <td>1</td>\n",
       "      <td>0</td>\n",
       "      <td>3</td>\n",
       "      <td>Braund, Mr. Owen Harris</td>\n",
       "      <td>male</td>\n",
       "      <td>22.0</td>\n",
       "      <td>1</td>\n",
       "      <td>0</td>\n",
       "      <td>A/5 21171</td>\n",
       "      <td>7.2500</td>\n",
       "      <td>NaN</td>\n",
       "      <td>S</td>\n",
       "    </tr>\n",
       "    <tr>\n",
       "      <th>1</th>\n",
       "      <td>2</td>\n",
       "      <td>1</td>\n",
       "      <td>1</td>\n",
       "      <td>Cumings, Mrs. John Bradley (Florence Briggs Th...</td>\n",
       "      <td>female</td>\n",
       "      <td>38.0</td>\n",
       "      <td>1</td>\n",
       "      <td>0</td>\n",
       "      <td>PC 17599</td>\n",
       "      <td>71.2833</td>\n",
       "      <td>C85</td>\n",
       "      <td>C</td>\n",
       "    </tr>\n",
       "    <tr>\n",
       "      <th>2</th>\n",
       "      <td>3</td>\n",
       "      <td>1</td>\n",
       "      <td>3</td>\n",
       "      <td>Heikkinen, Miss. Laina</td>\n",
       "      <td>female</td>\n",
       "      <td>26.0</td>\n",
       "      <td>0</td>\n",
       "      <td>0</td>\n",
       "      <td>STON/O2. 3101282</td>\n",
       "      <td>7.9250</td>\n",
       "      <td>NaN</td>\n",
       "      <td>S</td>\n",
       "    </tr>\n",
       "    <tr>\n",
       "      <th>3</th>\n",
       "      <td>4</td>\n",
       "      <td>1</td>\n",
       "      <td>1</td>\n",
       "      <td>Futrelle, Mrs. Jacques Heath (Lily May Peel)</td>\n",
       "      <td>female</td>\n",
       "      <td>35.0</td>\n",
       "      <td>1</td>\n",
       "      <td>0</td>\n",
       "      <td>113803</td>\n",
       "      <td>53.1000</td>\n",
       "      <td>C123</td>\n",
       "      <td>S</td>\n",
       "    </tr>\n",
       "    <tr>\n",
       "      <th>4</th>\n",
       "      <td>5</td>\n",
       "      <td>0</td>\n",
       "      <td>3</td>\n",
       "      <td>Allen, Mr. William Henry</td>\n",
       "      <td>male</td>\n",
       "      <td>35.0</td>\n",
       "      <td>0</td>\n",
       "      <td>0</td>\n",
       "      <td>373450</td>\n",
       "      <td>8.0500</td>\n",
       "      <td>NaN</td>\n",
       "      <td>S</td>\n",
       "    </tr>\n",
       "  </tbody>\n",
       "</table>\n",
       "</div>"
      ],
      "text/plain": [
       "   PassengerId  Survived  Pclass  \\\n",
       "0            1         0       3   \n",
       "1            2         1       1   \n",
       "2            3         1       3   \n",
       "3            4         1       1   \n",
       "4            5         0       3   \n",
       "\n",
       "                                                Name     Sex   Age  SibSp  \\\n",
       "0                            Braund, Mr. Owen Harris    male  22.0      1   \n",
       "1  Cumings, Mrs. John Bradley (Florence Briggs Th...  female  38.0      1   \n",
       "2                             Heikkinen, Miss. Laina  female  26.0      0   \n",
       "3       Futrelle, Mrs. Jacques Heath (Lily May Peel)  female  35.0      1   \n",
       "4                           Allen, Mr. William Henry    male  35.0      0   \n",
       "\n",
       "   Parch            Ticket     Fare Cabin Embarked  \n",
       "0      0         A/5 21171   7.2500   NaN        S  \n",
       "1      0          PC 17599  71.2833   C85        C  \n",
       "2      0  STON/O2. 3101282   7.9250   NaN        S  \n",
       "3      0            113803  53.1000  C123        S  \n",
       "4      0            373450   8.0500   NaN        S  "
      ]
     },
     "execution_count": 53,
     "metadata": {},
     "output_type": "execute_result"
    }
   ],
   "source": [
    "df = pd.read_csv('./data/titanic_train.csv')\n",
    "df.head()"
   ]
  },
  {
   "cell_type": "markdown",
   "id": "3ca1ed74",
   "metadata": {},
   "source": [
    "### Bar Plot"
   ]
  },
  {
   "cell_type": "code",
   "execution_count": 59,
   "id": "dc8ad776",
   "metadata": {},
   "outputs": [
    {
     "data": {
      "text/plain": [
       "S    644\n",
       "C    168\n",
       "Q     77\n",
       "Name: Embarked, dtype: int64"
      ]
     },
     "execution_count": 59,
     "metadata": {},
     "output_type": "execute_result"
    }
   ],
   "source": [
    "df['Embarked'].value_counts()"
   ]
  },
  {
   "cell_type": "code",
   "execution_count": 57,
   "id": "826a0365",
   "metadata": {},
   "outputs": [],
   "source": [
    "embarked = df['Embarked'].value_counts()"
   ]
  },
  {
   "cell_type": "code",
   "execution_count": 60,
   "id": "534ca337",
   "metadata": {},
   "outputs": [
    {
     "data": {
      "text/plain": [
       "Index(['S', 'C', 'Q'], dtype='object')"
      ]
     },
     "execution_count": 60,
     "metadata": {},
     "output_type": "execute_result"
    }
   ],
   "source": [
    "embarked.index"
   ]
  },
  {
   "cell_type": "code",
   "execution_count": 61,
   "id": "bcd4c335",
   "metadata": {},
   "outputs": [
    {
     "data": {
      "text/plain": [
       "array([644, 168,  77], dtype=int64)"
      ]
     },
     "execution_count": 61,
     "metadata": {},
     "output_type": "execute_result"
    }
   ],
   "source": [
    "embarked.values"
   ]
  },
  {
   "cell_type": "code",
   "execution_count": 62,
   "id": "6503081e",
   "metadata": {},
   "outputs": [
    {
     "data": {
      "text/plain": [
       "<BarContainer object of 3 artists>"
      ]
     },
     "execution_count": 62,
     "metadata": {},
     "output_type": "execute_result"
    },
    {
     "data": {
      "image/png": "[encoded data removed]",
      "text/plain": [
       "<Figure size 432x288 with 1 Axes>"
      ]
     },
     "metadata": {
      "needs_background": "light"
     },
     "output_type": "display_data"
    }
   ],
   "source": [
    "plt.bar(x=embarked.index, height=embarked.values)"
   ]
  },
  {
   "cell_type": "code",
   "execution_count": 63,
   "id": "396e105d",
   "metadata": {},
   "outputs": [
    {
     "data": {
      "text/plain": [
       "<BarContainer object of 3 artists>"
      ]
     },
     "execution_count": 63,
     "metadata": {},
     "output_type": "execute_result"
    },
    {
     "data": {
      "image/png": "[encoded data removed]",
      "text/plain": [
       "<Figure size 432x288 with 1 Axes>"
      ]
     },
     "metadata": {
      "needs_background": "light"
     },
     "output_type": "display_data"
    }
   ],
   "source": [
    "plt.bar(x=embarked.index, height=embarked.values, color=['blue', 'red', 'green'])"
   ]
  },
  {
   "cell_type": "code",
   "execution_count": 65,
   "id": "01d4b668",
   "metadata": {},
   "outputs": [
    {
     "data": {
      "text/plain": [
       "<BarContainer object of 3 artists>"
      ]
     },
     "execution_count": 65,
     "metadata": {},
     "output_type": "execute_result"
    },
    {
     "data": {
      "image/png": "[encoded data removed]",
      "text/plain": [
       "<Figure size 432x288 with 1 Axes>"
      ]
     },
     "metadata": {
      "needs_background": "light"
     },
     "output_type": "display_data"
    }
   ],
   "source": [
    "plt.barh(y=embarked.index, width=embarked.values, color=['blue', 'red', 'green'])"
   ]
  },
  {
   "cell_type": "code",
   "execution_count": 66,
   "id": "46e1ac3e",
   "metadata": {},
   "outputs": [
    {
     "data": {
      "text/html": [
       "<div>\n",
       "<style scoped>\n",
       "    .dataframe tbody tr th:only-of-type {\n",
       "        vertical-align: middle;\n",
       "    }\n",
       "\n",
       "    .dataframe tbody tr th {\n",
       "        vertical-align: top;\n",
       "    }\n",
       "\n",
       "    .dataframe thead th {\n",
       "        text-align: right;\n",
       "    }\n",
       "</style>\n",
       "<table border=\"1\" class=\"dataframe\">\n",
       "  <thead>\n",
       "    <tr style=\"text-align: right;\">\n",
       "      <th></th>\n",
       "      <th>PassengerId</th>\n",
       "      <th>Survived</th>\n",
       "      <th>Pclass</th>\n",
       "      <th>Name</th>\n",
       "      <th>Sex</th>\n",
       "      <th>Age</th>\n",
       "      <th>SibSp</th>\n",
       "      <th>Parch</th>\n",
       "      <th>Ticket</th>\n",
       "      <th>Fare</th>\n",
       "      <th>Cabin</th>\n",
       "      <th>Embarked</th>\n",
       "    </tr>\n",
       "  </thead>\n",
       "  <tbody>\n",
       "    <tr>\n",
       "      <th>0</th>\n",
       "      <td>1</td>\n",
       "      <td>0</td>\n",
       "      <td>3</td>\n",
       "      <td>Braund, Mr. Owen Harris</td>\n",
       "      <td>male</td>\n",
       "      <td>22.0</td>\n",
       "      <td>1</td>\n",
       "      <td>0</td>\n",
       "      <td>A/5 21171</td>\n",
       "      <td>7.2500</td>\n",
       "      <td>NaN</td>\n",
       "      <td>S</td>\n",
       "    </tr>\n",
       "    <tr>\n",
       "      <th>1</th>\n",
       "      <td>2</td>\n",
       "      <td>1</td>\n",
       "      <td>1</td>\n",
       "      <td>Cumings, Mrs. John Bradley (Florence Briggs Th...</td>\n",
       "      <td>female</td>\n",
       "      <td>38.0</td>\n",
       "      <td>1</td>\n",
       "      <td>0</td>\n",
       "      <td>PC 17599</td>\n",
       "      <td>71.2833</td>\n",
       "      <td>C85</td>\n",
       "      <td>C</td>\n",
       "    </tr>\n",
       "    <tr>\n",
       "      <th>2</th>\n",
       "      <td>3</td>\n",
       "      <td>1</td>\n",
       "      <td>3</td>\n",
       "      <td>Heikkinen, Miss. Laina</td>\n",
       "      <td>female</td>\n",
       "      <td>26.0</td>\n",
       "      <td>0</td>\n",
       "      <td>0</td>\n",
       "      <td>STON/O2. 3101282</td>\n",
       "      <td>7.9250</td>\n",
       "      <td>NaN</td>\n",
       "      <td>S</td>\n",
       "    </tr>\n",
       "    <tr>\n",
       "      <th>3</th>\n",
       "      <td>4</td>\n",
       "      <td>1</td>\n",
       "      <td>1</td>\n",
       "      <td>Futrelle, Mrs. Jacques Heath (Lily May Peel)</td>\n",
       "      <td>female</td>\n",
       "      <td>35.0</td>\n",
       "      <td>1</td>\n",
       "      <td>0</td>\n",
       "      <td>113803</td>\n",
       "      <td>53.1000</td>\n",
       "      <td>C123</td>\n",
       "      <td>S</td>\n",
       "    </tr>\n",
       "    <tr>\n",
       "      <th>4</th>\n",
       "      <td>5</td>\n",
       "      <td>0</td>\n",
       "      <td>3</td>\n",
       "      <td>Allen, Mr. William Henry</td>\n",
       "      <td>male</td>\n",
       "      <td>35.0</td>\n",
       "      <td>0</td>\n",
       "      <td>0</td>\n",
       "      <td>373450</td>\n",
       "      <td>8.0500</td>\n",
       "      <td>NaN</td>\n",
       "      <td>S</td>\n",
       "    </tr>\n",
       "  </tbody>\n",
       "</table>\n",
       "</div>"
      ],
      "text/plain": [
       "   PassengerId  Survived  Pclass  \\\n",
       "0            1         0       3   \n",
       "1            2         1       1   \n",
       "2            3         1       3   \n",
       "3            4         1       1   \n",
       "4            5         0       3   \n",
       "\n",
       "                                                Name     Sex   Age  SibSp  \\\n",
       "0                            Braund, Mr. Owen Harris    male  22.0      1   \n",
       "1  Cumings, Mrs. John Bradley (Florence Briggs Th...  female  38.0      1   \n",
       "2                             Heikkinen, Miss. Laina  female  26.0      0   \n",
       "3       Futrelle, Mrs. Jacques Heath (Lily May Peel)  female  35.0      1   \n",
       "4                           Allen, Mr. William Henry    male  35.0      0   \n",
       "\n",
       "   Parch            Ticket     Fare Cabin Embarked  \n",
       "0      0         A/5 21171   7.2500   NaN        S  \n",
       "1      0          PC 17599  71.2833   C85        C  \n",
       "2      0  STON/O2. 3101282   7.9250   NaN        S  \n",
       "3      0            113803  53.1000  C123        S  \n",
       "4      0            373450   8.0500   NaN        S  "
      ]
     },
     "execution_count": 66,
     "metadata": {},
     "output_type": "execute_result"
    }
   ],
   "source": [
    "df.head()"
   ]
  },
  {
   "cell_type": "code",
   "execution_count": 68,
   "id": "141ba8f7",
   "metadata": {},
   "outputs": [],
   "source": [
    "embarked_m = df[df['Sex']=='male']['Embarked'].value_counts()\n",
    "embarked_f = df[df['Sex']=='female']['Embarked'].value_counts()"
   ]
  },
  {
   "cell_type": "code",
   "execution_count": 69,
   "id": "75892eb2",
   "metadata": {},
   "outputs": [
    {
     "name": "stdout",
     "output_type": "stream",
     "text": [
      "S    441\n",
      "C     95\n",
      "Q     41\n",
      "Name: Embarked, dtype: int64\n",
      "S    203\n",
      "C     73\n",
      "Q     36\n",
      "Name: Embarked, dtype: int64\n"
     ]
    }
   ],
   "source": [
    "print(embarked_m)\n",
    "print(embarked_f)"
   ]
  },
  {
   "cell_type": "code",
   "execution_count": 73,
   "id": "d65be0cf",
   "metadata": {},
   "outputs": [
    {
     "data": {
      "text/plain": [
       "<matplotlib.legend.Legend at 0x1bc19d5fb70>"
      ]
     },
     "execution_count": 73,
     "metadata": {},
     "output_type": "execute_result"
    },
    {
     "data": {
      "image/png": "[encoded data removed]",
      "text/plain": [
       "<Figure size 432x288 with 1 Axes>"
      ]
     },
     "metadata": {
      "needs_background": "light"
     },
     "output_type": "display_data"
    }
   ],
   "source": [
    "plt.bar(x=embarked_m.index, height=embarked_m.values, color='red')\n",
    "plt.bar(x=embarked_f.index, height=embarked_f.values, color='blue')\n",
    "plt.legend(labels=['male', 'female'])"
   ]
  },
  {
   "cell_type": "markdown",
   "id": "03d1d844",
   "metadata": {},
   "source": [
    "### Histogram"
   ]
  },
  {
   "cell_type": "code",
   "execution_count": 74,
   "id": "9d11340e",
   "metadata": {},
   "outputs": [
    {
     "data": {
      "text/html": [
       "<div>\n",
       "<style scoped>\n",
       "    .dataframe tbody tr th:only-of-type {\n",
       "        vertical-align: middle;\n",
       "    }\n",
       "\n",
       "    .dataframe tbody tr th {\n",
       "        vertical-align: top;\n",
       "    }\n",
       "\n",
       "    .dataframe thead th {\n",
       "        text-align: right;\n",
       "    }\n",
       "</style>\n",
       "<table border=\"1\" class=\"dataframe\">\n",
       "  <thead>\n",
       "    <tr style=\"text-align: right;\">\n",
       "      <th></th>\n",
       "      <th>PassengerId</th>\n",
       "      <th>Survived</th>\n",
       "      <th>Pclass</th>\n",
       "      <th>Name</th>\n",
       "      <th>Sex</th>\n",
       "      <th>Age</th>\n",
       "      <th>SibSp</th>\n",
       "      <th>Parch</th>\n",
       "      <th>Ticket</th>\n",
       "      <th>Fare</th>\n",
       "      <th>Cabin</th>\n",
       "      <th>Embarked</th>\n",
       "    </tr>\n",
       "  </thead>\n",
       "  <tbody>\n",
       "    <tr>\n",
       "      <th>0</th>\n",
       "      <td>1</td>\n",
       "      <td>0</td>\n",
       "      <td>3</td>\n",
       "      <td>Braund, Mr. Owen Harris</td>\n",
       "      <td>male</td>\n",
       "      <td>22.0</td>\n",
       "      <td>1</td>\n",
       "      <td>0</td>\n",
       "      <td>A/5 21171</td>\n",
       "      <td>7.2500</td>\n",
       "      <td>NaN</td>\n",
       "      <td>S</td>\n",
       "    </tr>\n",
       "    <tr>\n",
       "      <th>1</th>\n",
       "      <td>2</td>\n",
       "      <td>1</td>\n",
       "      <td>1</td>\n",
       "      <td>Cumings, Mrs. John Bradley (Florence Briggs Th...</td>\n",
       "      <td>female</td>\n",
       "      <td>38.0</td>\n",
       "      <td>1</td>\n",
       "      <td>0</td>\n",
       "      <td>PC 17599</td>\n",
       "      <td>71.2833</td>\n",
       "      <td>C85</td>\n",
       "      <td>C</td>\n",
       "    </tr>\n",
       "    <tr>\n",
       "      <th>2</th>\n",
       "      <td>3</td>\n",
       "      <td>1</td>\n",
       "      <td>3</td>\n",
       "      <td>Heikkinen, Miss. Laina</td>\n",
       "      <td>female</td>\n",
       "      <td>26.0</td>\n",
       "      <td>0</td>\n",
       "      <td>0</td>\n",
       "      <td>STON/O2. 3101282</td>\n",
       "      <td>7.9250</td>\n",
       "      <td>NaN</td>\n",
       "      <td>S</td>\n",
       "    </tr>\n",
       "    <tr>\n",
       "      <th>3</th>\n",
       "      <td>4</td>\n",
       "      <td>1</td>\n",
       "      <td>1</td>\n",
       "      <td>Futrelle, Mrs. Jacques Heath (Lily May Peel)</td>\n",
       "      <td>female</td>\n",
       "      <td>35.0</td>\n",
       "      <td>1</td>\n",
       "      <td>0</td>\n",
       "      <td>113803</td>\n",
       "      <td>53.1000</td>\n",
       "      <td>C123</td>\n",
       "      <td>S</td>\n",
       "    </tr>\n",
       "    <tr>\n",
       "      <th>4</th>\n",
       "      <td>5</td>\n",
       "      <td>0</td>\n",
       "      <td>3</td>\n",
       "      <td>Allen, Mr. William Henry</td>\n",
       "      <td>male</td>\n",
       "      <td>35.0</td>\n",
       "      <td>0</td>\n",
       "      <td>0</td>\n",
       "      <td>373450</td>\n",
       "      <td>8.0500</td>\n",
       "      <td>NaN</td>\n",
       "      <td>S</td>\n",
       "    </tr>\n",
       "  </tbody>\n",
       "</table>\n",
       "</div>"
      ],
      "text/plain": [
       "   PassengerId  Survived  Pclass  \\\n",
       "0            1         0       3   \n",
       "1            2         1       1   \n",
       "2            3         1       3   \n",
       "3            4         1       1   \n",
       "4            5         0       3   \n",
       "\n",
       "                                                Name     Sex   Age  SibSp  \\\n",
       "0                            Braund, Mr. Owen Harris    male  22.0      1   \n",
       "1  Cumings, Mrs. John Bradley (Florence Briggs Th...  female  38.0      1   \n",
       "2                             Heikkinen, Miss. Laina  female  26.0      0   \n",
       "3       Futrelle, Mrs. Jacques Heath (Lily May Peel)  female  35.0      1   \n",
       "4                           Allen, Mr. William Henry    male  35.0      0   \n",
       "\n",
       "   Parch            Ticket     Fare Cabin Embarked  \n",
       "0      0         A/5 21171   7.2500   NaN        S  \n",
       "1      0          PC 17599  71.2833   C85        C  \n",
       "2      0  STON/O2. 3101282   7.9250   NaN        S  \n",
       "3      0            113803  53.1000  C123        S  \n",
       "4      0            373450   8.0500   NaN        S  "
      ]
     },
     "execution_count": 74,
     "metadata": {},
     "output_type": "execute_result"
    }
   ],
   "source": [
    "df.head()"
   ]
  },
  {
   "cell_type": "code",
   "execution_count": 76,
   "id": "98564fde",
   "metadata": {},
   "outputs": [
    {
     "data": {
      "text/plain": [
       "(array([ 54.,  46., 177., 169., 118.,  70.,  45.,  24.,   9.,   2.]),\n",
       " array([ 0.42 ,  8.378, 16.336, 24.294, 32.252, 40.21 , 48.168, 56.126,\n",
       "        64.084, 72.042, 80.   ]),\n",
       " <BarContainer object of 10 artists>)"
      ]
     },
     "execution_count": 76,
     "metadata": {},
     "output_type": "execute_result"
    },
    {
     "data": {
      "image/png": "[encoded data removed]",
      "text/plain": [
       "<Figure size 432x288 with 1 Axes>"
      ]
     },
     "metadata": {
      "needs_background": "light"
     },
     "output_type": "display_data"
    }
   ],
   "source": [
    "ages = df['Age']\n",
    "\n",
    "plt.hist(ages)"
   ]
  },
  {
   "cell_type": "code",
   "execution_count": 85,
   "id": "da141236",
   "metadata": {},
   "outputs": [
    {
     "data": {
      "image/png": "[encoded data removed]",
      "text/plain": [
       "<Figure size 432x288 with 1 Axes>"
      ]
     },
     "metadata": {
      "needs_background": "light"
     },
     "output_type": "display_data"
    }
   ],
   "source": [
    "plt.hist(ages, bins=20)\n",
    "\n",
    "plt.xlabel('Age')\n",
    "plt.ylabel('Passengers')\n",
    "plt.title('Distribution of Passengers according to age')\n",
    "plt.grid(True)"
   ]
  },
  {
   "cell_type": "markdown",
   "id": "45036609",
   "metadata": {},
   "source": [
    "### Pie charts"
   ]
  },
  {
   "cell_type": "code",
   "execution_count": 87,
   "id": "6c9fb698",
   "metadata": {},
   "outputs": [
    {
     "data": {
      "text/plain": [
       "([<matplotlib.patches.Wedge at 0x1bc188d4a90>,\n",
       "  <matplotlib.patches.Wedge at 0x1bc19a7a160>],\n",
       " [Text(-0.4919454136803954, 0.9838646807152012, ''),\n",
       "  Text(0.4919455057964525, -0.9838646346559433, '')])"
      ]
     },
     "execution_count": 87,
     "metadata": {},
     "output_type": "execute_result"
    },
    {
     "data": {
      "image/png": "[encoded data removed]",
      "text/plain": [
       "<Figure size 432x288 with 1 Axes>"
      ]
     },
     "metadata": {},
     "output_type": "display_data"
    }
   ],
   "source": [
    "x = df['Sex'].value_counts()\n",
    "\n",
    "plt.pie(x)"
   ]
  },
  {
   "cell_type": "code",
   "execution_count": 89,
   "id": "8bd71105",
   "metadata": {},
   "outputs": [
    {
     "data": {
      "text/plain": [
       "([<matplotlib.patches.Wedge at 0x1bc19afea20>,\n",
       "  <matplotlib.patches.Wedge at 0x1bc19afeef0>],\n",
       " [Text(-0.9838646807152013, -0.4919454136803953, 'male'),\n",
       "  Text(0.9838646346559433, 0.4919455057964524, 'female')])"
      ]
     },
     "execution_count": 89,
     "metadata": {},
     "output_type": "execute_result"
    },
    {
     "data": {
      "image/png": "[encoded data removed]",
      "text/plain": [
       "<Figure size 432x288 with 1 Axes>"
      ]
     },
     "metadata": {},
     "output_type": "display_data"
    }
   ],
   "source": [
    "plt.pie(x, labels=['male', 'female'], startangle=90)"
   ]
  },
  {
   "cell_type": "code",
   "execution_count": 90,
   "id": "9fb12149",
   "metadata": {},
   "outputs": [
    {
     "data": {
      "text/plain": [
       "([<matplotlib.patches.Wedge at 0x1bc1898a4e0>,\n",
       "  <matplotlib.patches.Wedge at 0x1bc1898a9b0>],\n",
       " [Text(-1.0733069244165832, -0.5366677240149766, 'male'),\n",
       "  Text(0.9838646346559433, 0.4919455057964524, 'female')])"
      ]
     },
     "execution_count": 90,
     "metadata": {},
     "output_type": "execute_result"
    },
    {
     "data": {
      "image/png": "[encoded data removed]",
      "text/plain": [
       "<Figure size 432x288 with 1 Axes>"
      ]
     },
     "metadata": {},
     "output_type": "display_data"
    }
   ],
   "source": [
    "plt.pie(x, labels=['male', 'female'], startangle=90, explode=[0.1, 0])"
   ]
  },
  {
   "cell_type": "code",
   "execution_count": 92,
   "id": "2d3f581c",
   "metadata": {},
   "outputs": [
    {
     "data": {
      "text/plain": [
       "([<matplotlib.patches.Wedge at 0x1bc18b96438>,\n",
       "  <matplotlib.patches.Wedge at 0x1bc18b96b70>],\n",
       " [Text(-1.0733069244165832, -0.5366677240149766, 'male'),\n",
       "  Text(0.9838646346559433, 0.4919455057964524, 'female')],\n",
       " [Text(-0.6260957059096735, -0.3130561723420697, '64.76%'),\n",
       "  Text(0.53665343708506, 0.2683339122526104, '35.24%')])"
      ]
     },
     "execution_count": 92,
     "metadata": {},
     "output_type": "execute_result"
    },
    {
     "data": {
      "image/png": "[encoded data removed]",
      "text/plain": [
       "<Figure size 432x288 with 1 Axes>"
      ]
     },
     "metadata": {},
     "output_type": "display_data"
    }
   ],
   "source": [
    "plt.pie(x, labels=['male', 'female'], startangle=90, explode=[0.1, 0], autopct='%.2f%%')"
   ]
  },
  {
   "cell_type": "markdown",
   "id": "49f1aaac",
   "metadata": {},
   "source": [
    "### Scatter plot"
   ]
  },
  {
   "cell_type": "code",
   "execution_count": 93,
   "id": "60d6aa8d",
   "metadata": {},
   "outputs": [
    {
     "data": {
      "text/html": [
       "<div>\n",
       "<style scoped>\n",
       "    .dataframe tbody tr th:only-of-type {\n",
       "        vertical-align: middle;\n",
       "    }\n",
       "\n",
       "    .dataframe tbody tr th {\n",
       "        vertical-align: top;\n",
       "    }\n",
       "\n",
       "    .dataframe thead th {\n",
       "        text-align: right;\n",
       "    }\n",
       "</style>\n",
       "<table border=\"1\" class=\"dataframe\">\n",
       "  <thead>\n",
       "    <tr style=\"text-align: right;\">\n",
       "      <th></th>\n",
       "      <th>PassengerId</th>\n",
       "      <th>Survived</th>\n",
       "      <th>Pclass</th>\n",
       "      <th>Name</th>\n",
       "      <th>Sex</th>\n",
       "      <th>Age</th>\n",
       "      <th>SibSp</th>\n",
       "      <th>Parch</th>\n",
       "      <th>Ticket</th>\n",
       "      <th>Fare</th>\n",
       "      <th>Cabin</th>\n",
       "      <th>Embarked</th>\n",
       "    </tr>\n",
       "  </thead>\n",
       "  <tbody>\n",
       "    <tr>\n",
       "      <th>0</th>\n",
       "      <td>1</td>\n",
       "      <td>0</td>\n",
       "      <td>3</td>\n",
       "      <td>Braund, Mr. Owen Harris</td>\n",
       "      <td>male</td>\n",
       "      <td>22.0</td>\n",
       "      <td>1</td>\n",
       "      <td>0</td>\n",
       "      <td>A/5 21171</td>\n",
       "      <td>7.2500</td>\n",
       "      <td>NaN</td>\n",
       "      <td>S</td>\n",
       "    </tr>\n",
       "    <tr>\n",
       "      <th>1</th>\n",
       "      <td>2</td>\n",
       "      <td>1</td>\n",
       "      <td>1</td>\n",
       "      <td>Cumings, Mrs. John Bradley (Florence Briggs Th...</td>\n",
       "      <td>female</td>\n",
       "      <td>38.0</td>\n",
       "      <td>1</td>\n",
       "      <td>0</td>\n",
       "      <td>PC 17599</td>\n",
       "      <td>71.2833</td>\n",
       "      <td>C85</td>\n",
       "      <td>C</td>\n",
       "    </tr>\n",
       "    <tr>\n",
       "      <th>2</th>\n",
       "      <td>3</td>\n",
       "      <td>1</td>\n",
       "      <td>3</td>\n",
       "      <td>Heikkinen, Miss. Laina</td>\n",
       "      <td>female</td>\n",
       "      <td>26.0</td>\n",
       "      <td>0</td>\n",
       "      <td>0</td>\n",
       "      <td>STON/O2. 3101282</td>\n",
       "      <td>7.9250</td>\n",
       "      <td>NaN</td>\n",
       "      <td>S</td>\n",
       "    </tr>\n",
       "    <tr>\n",
       "      <th>3</th>\n",
       "      <td>4</td>\n",
       "      <td>1</td>\n",
       "      <td>1</td>\n",
       "      <td>Futrelle, Mrs. Jacques Heath (Lily May Peel)</td>\n",
       "      <td>female</td>\n",
       "      <td>35.0</td>\n",
       "      <td>1</td>\n",
       "      <td>0</td>\n",
       "      <td>113803</td>\n",
       "      <td>53.1000</td>\n",
       "      <td>C123</td>\n",
       "      <td>S</td>\n",
       "    </tr>\n",
       "    <tr>\n",
       "      <th>4</th>\n",
       "      <td>5</td>\n",
       "      <td>0</td>\n",
       "      <td>3</td>\n",
       "      <td>Allen, Mr. William Henry</td>\n",
       "      <td>male</td>\n",
       "      <td>35.0</td>\n",
       "      <td>0</td>\n",
       "      <td>0</td>\n",
       "      <td>373450</td>\n",
       "      <td>8.0500</td>\n",
       "      <td>NaN</td>\n",
       "      <td>S</td>\n",
       "    </tr>\n",
       "  </tbody>\n",
       "</table>\n",
       "</div>"
      ],
      "text/plain": [
       "   PassengerId  Survived  Pclass  \\\n",
       "0            1         0       3   \n",
       "1            2         1       1   \n",
       "2            3         1       3   \n",
       "3            4         1       1   \n",
       "4            5         0       3   \n",
       "\n",
       "                                                Name     Sex   Age  SibSp  \\\n",
       "0                            Braund, Mr. Owen Harris    male  22.0      1   \n",
       "1  Cumings, Mrs. John Bradley (Florence Briggs Th...  female  38.0      1   \n",
       "2                             Heikkinen, Miss. Laina  female  26.0      0   \n",
       "3       Futrelle, Mrs. Jacques Heath (Lily May Peel)  female  35.0      1   \n",
       "4                           Allen, Mr. William Henry    male  35.0      0   \n",
       "\n",
       "   Parch            Ticket     Fare Cabin Embarked  \n",
       "0      0         A/5 21171   7.2500   NaN        S  \n",
       "1      0          PC 17599  71.2833   C85        C  \n",
       "2      0  STON/O2. 3101282   7.9250   NaN        S  \n",
       "3      0            113803  53.1000  C123        S  \n",
       "4      0            373450   8.0500   NaN        S  "
      ]
     },
     "execution_count": 93,
     "metadata": {},
     "output_type": "execute_result"
    }
   ],
   "source": [
    "df.head()"
   ]
  },
  {
   "cell_type": "code",
   "execution_count": 94,
   "id": "6a745829",
   "metadata": {},
   "outputs": [
    {
     "data": {
      "text/plain": [
       "<matplotlib.collections.PathCollection at 0x1bc18bc75f8>"
      ]
     },
     "execution_count": 94,
     "metadata": {},
     "output_type": "execute_result"
    },
    {
     "data": {
      "image/png": "[encoded data removed]",
      "text/plain": [
       "<Figure size 432x288 with 1 Axes>"
      ]
     },
     "metadata": {
      "needs_background": "light"
     },
     "output_type": "display_data"
    }
   ],
   "source": [
    "age = df['Age']\n",
    "fare = df['Fare']\n",
    "\n",
    "plt.scatter(x=age, y=fare)"
   ]
  },
  {
   "cell_type": "code",
   "execution_count": 101,
   "id": "947632ac",
   "metadata": {},
   "outputs": [
    {
     "data": {
      "text/plain": [
       "<matplotlib.legend.Legend at 0x1bc1b8e9048>"
      ]
     },
     "execution_count": 101,
     "metadata": {},
     "output_type": "execute_result"
    },
    {
     "data": {
      "image/png": "[encoded data removed]",
      "text/plain": [
       "<Figure size 432x288 with 1 Axes>"
      ]
     },
     "metadata": {
      "needs_background": "light"
     },
     "output_type": "display_data"
    }
   ],
   "source": [
    "age_m = df[df['Sex']=='male']['Age']\n",
    "age_f = df[df['Sex']=='female']['Age']\n",
    "\n",
    "fare_m = df[df['Sex']=='male']['Fare']\n",
    "fare_f = df[df['Sex']=='female']['Fare']\n",
    "\n",
    "plt.scatter(x=age_m, y=fare_m, label='Male')\n",
    "plt.scatter(x=age_f, y=fare_f, label='Female')\n",
    "plt.legend()"
   ]
  },
  {
   "cell_type": "markdown",
   "id": "6818ff57",
   "metadata": {},
   "source": [
    "### Box Plot"
   ]
  },
  {
   "cell_type": "code",
   "execution_count": 108,
   "id": "d2bd3c0b",
   "metadata": {},
   "outputs": [
    {
     "data": {
      "image/png": "[encoded data removed]",
      "text/plain": [
       "<Figure size 864x576 with 1 Axes>"
      ]
     },
     "metadata": {
      "needs_background": "light"
     },
     "output_type": "display_data"
    }
   ],
   "source": [
    "age = df['Age'].dropna()\n",
    "\n",
    "plt.figure(figsize=(12,8))\n",
    "plt.boxplot(age, labels=['Age'])\n",
    "plt.grid(True)"
   ]
  },
  {
   "cell_type": "code",
   "execution_count": null,
   "id": "66567971",
   "metadata": {},
   "outputs": [],
   "source": []
  }
 ],
 "metadata": {
  "kernelspec": {
   "display_name": "Python 3 (ipykernel)",
   "language": "python",
   "name": "python3"
  },
  "language_info": {
   "codemirror_mode": {
    "name": "ipython",
    "version": 3
   },
   "file_extension": ".py",
   "mimetype": "text/x-python",
   "name": "python",
   "nbconvert_exporter": "python",
   "pygments_lexer": "ipython3",
   "version": "3.11.0"
  },
  "papermill": {
   "default_parameters": {},
   "duration": 39.664668,
   "end_time": "2022-03-10T22:31:53.324548",
   "environment_variables": {},
   "exception": null,
   "input_path": "__notebook__.ipynb",
   "output_path": "__notebook__.ipynb",
   "parameters": {},
   "start_time": "2022-03-10T22:31:13.659880",
   "version": "2.3.3"
  }
 },
 "nbformat": 4,
 "nbformat_minor": 5
}
