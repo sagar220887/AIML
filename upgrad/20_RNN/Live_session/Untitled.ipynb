{
 "cells": [
  {
   "cell_type": "code",
   "execution_count": 1,
   "id": "59ec44af",
   "metadata": {},
   "outputs": [],
   "source": [
    "import numpy as np\n",
    "import pandas as pd\n",
    "import matplotlib.pyplot as plt\n",
    "import seaborn as sns"
   ]
  },
  {
   "cell_type": "code",
   "execution_count": 2,
   "id": "d19835b6",
   "metadata": {},
   "outputs": [
    {
     "data": {
      "text/html": [
       "<div>\n",
       "<style scoped>\n",
       "    .dataframe tbody tr th:only-of-type {\n",
       "        vertical-align: middle;\n",
       "    }\n",
       "\n",
       "    .dataframe tbody tr th {\n",
       "        vertical-align: top;\n",
       "    }\n",
       "\n",
       "    .dataframe thead th {\n",
       "        text-align: right;\n",
       "    }\n",
       "</style>\n",
       "<table border=\"1\" class=\"dataframe\">\n",
       "  <thead>\n",
       "    <tr style=\"text-align: right;\">\n",
       "      <th></th>\n",
       "      <th>Date</th>\n",
       "      <th>Open</th>\n",
       "      <th>High</th>\n",
       "      <th>Low</th>\n",
       "      <th>Close</th>\n",
       "      <th>Volume</th>\n",
       "    </tr>\n",
       "  </thead>\n",
       "  <tbody>\n",
       "    <tr>\n",
       "      <th>0</th>\n",
       "      <td>1/3/2012</td>\n",
       "      <td>325.25</td>\n",
       "      <td>332.83</td>\n",
       "      <td>324.97</td>\n",
       "      <td>663.59</td>\n",
       "      <td>7,380,500</td>\n",
       "    </tr>\n",
       "    <tr>\n",
       "      <th>1</th>\n",
       "      <td>1/4/2012</td>\n",
       "      <td>331.27</td>\n",
       "      <td>333.87</td>\n",
       "      <td>329.08</td>\n",
       "      <td>666.45</td>\n",
       "      <td>5,749,400</td>\n",
       "    </tr>\n",
       "    <tr>\n",
       "      <th>2</th>\n",
       "      <td>1/5/2012</td>\n",
       "      <td>329.83</td>\n",
       "      <td>330.75</td>\n",
       "      <td>326.89</td>\n",
       "      <td>657.21</td>\n",
       "      <td>6,590,300</td>\n",
       "    </tr>\n",
       "    <tr>\n",
       "      <th>3</th>\n",
       "      <td>1/6/2012</td>\n",
       "      <td>328.34</td>\n",
       "      <td>328.77</td>\n",
       "      <td>323.68</td>\n",
       "      <td>648.24</td>\n",
       "      <td>5,405,900</td>\n",
       "    </tr>\n",
       "    <tr>\n",
       "      <th>4</th>\n",
       "      <td>1/9/2012</td>\n",
       "      <td>322.04</td>\n",
       "      <td>322.29</td>\n",
       "      <td>309.46</td>\n",
       "      <td>620.76</td>\n",
       "      <td>11,688,800</td>\n",
       "    </tr>\n",
       "  </tbody>\n",
       "</table>\n",
       "</div>"
      ],
      "text/plain": [
       "       Date    Open    High     Low   Close      Volume\n",
       "0  1/3/2012  325.25  332.83  324.97  663.59   7,380,500\n",
       "1  1/4/2012  331.27  333.87  329.08  666.45   5,749,400\n",
       "2  1/5/2012  329.83  330.75  326.89  657.21   6,590,300\n",
       "3  1/6/2012  328.34  328.77  323.68  648.24   5,405,900\n",
       "4  1/9/2012  322.04  322.29  309.46  620.76  11,688,800"
      ]
     },
     "execution_count": 2,
     "metadata": {},
     "output_type": "execute_result"
    }
   ],
   "source": [
    "data = pd.read_csv('Google_Stock_Price_Train.csv')\n",
    "data.head()"
   ]
  },
  {
   "cell_type": "code",
   "execution_count": 3,
   "id": "b3009abf",
   "metadata": {},
   "outputs": [
    {
     "name": "stdout",
     "output_type": "stream",
     "text": [
      "<class 'pandas.core.frame.DataFrame'>\n",
      "RangeIndex: 1258 entries, 0 to 1257\n",
      "Data columns (total 6 columns):\n",
      " #   Column  Non-Null Count  Dtype  \n",
      "---  ------  --------------  -----  \n",
      " 0   Date    1258 non-null   object \n",
      " 1   Open    1258 non-null   float64\n",
      " 2   High    1258 non-null   float64\n",
      " 3   Low     1258 non-null   float64\n",
      " 4   Close   1258 non-null   object \n",
      " 5   Volume  1258 non-null   object \n",
      "dtypes: float64(3), object(3)\n",
      "memory usage: 59.1+ KB\n"
     ]
    }
   ],
   "source": [
    "data.info()"
   ]
  },
  {
   "cell_type": "code",
   "execution_count": 4,
   "id": "f3fd3133",
   "metadata": {},
   "outputs": [
    {
     "data": {
      "text/plain": [
       "(1258, 6)"
      ]
     },
     "execution_count": 4,
     "metadata": {},
     "output_type": "execute_result"
    }
   ],
   "source": [
    "data.shape"
   ]
  },
  {
   "cell_type": "code",
   "execution_count": 6,
   "id": "8766b5c0",
   "metadata": {},
   "outputs": [
    {
     "data": {
      "text/html": [
       "<div>\n",
       "<style scoped>\n",
       "    .dataframe tbody tr th:only-of-type {\n",
       "        vertical-align: middle;\n",
       "    }\n",
       "\n",
       "    .dataframe tbody tr th {\n",
       "        vertical-align: top;\n",
       "    }\n",
       "\n",
       "    .dataframe thead th {\n",
       "        text-align: right;\n",
       "    }\n",
       "</style>\n",
       "<table border=\"1\" class=\"dataframe\">\n",
       "  <thead>\n",
       "    <tr style=\"text-align: right;\">\n",
       "      <th></th>\n",
       "      <th>Open</th>\n",
       "      <th>High</th>\n",
       "      <th>Low</th>\n",
       "    </tr>\n",
       "  </thead>\n",
       "  <tbody>\n",
       "    <tr>\n",
       "      <th>count</th>\n",
       "      <td>1258.000000</td>\n",
       "      <td>1258.000000</td>\n",
       "      <td>1258.000000</td>\n",
       "    </tr>\n",
       "    <tr>\n",
       "      <th>mean</th>\n",
       "      <td>533.709833</td>\n",
       "      <td>537.880223</td>\n",
       "      <td>529.007409</td>\n",
       "    </tr>\n",
       "    <tr>\n",
       "      <th>std</th>\n",
       "      <td>151.904442</td>\n",
       "      <td>153.008811</td>\n",
       "      <td>150.552807</td>\n",
       "    </tr>\n",
       "    <tr>\n",
       "      <th>min</th>\n",
       "      <td>279.120000</td>\n",
       "      <td>281.210000</td>\n",
       "      <td>277.220000</td>\n",
       "    </tr>\n",
       "    <tr>\n",
       "      <th>25%</th>\n",
       "      <td>404.115000</td>\n",
       "      <td>406.765000</td>\n",
       "      <td>401.765000</td>\n",
       "    </tr>\n",
       "    <tr>\n",
       "      <th>50%</th>\n",
       "      <td>537.470000</td>\n",
       "      <td>540.750000</td>\n",
       "      <td>532.990000</td>\n",
       "    </tr>\n",
       "    <tr>\n",
       "      <th>75%</th>\n",
       "      <td>654.922500</td>\n",
       "      <td>662.587500</td>\n",
       "      <td>644.800000</td>\n",
       "    </tr>\n",
       "    <tr>\n",
       "      <th>max</th>\n",
       "      <td>816.680000</td>\n",
       "      <td>816.680000</td>\n",
       "      <td>805.140000</td>\n",
       "    </tr>\n",
       "  </tbody>\n",
       "</table>\n",
       "</div>"
      ],
      "text/plain": [
       "              Open         High          Low\n",
       "count  1258.000000  1258.000000  1258.000000\n",
       "mean    533.709833   537.880223   529.007409\n",
       "std     151.904442   153.008811   150.552807\n",
       "min     279.120000   281.210000   277.220000\n",
       "25%     404.115000   406.765000   401.765000\n",
       "50%     537.470000   540.750000   532.990000\n",
       "75%     654.922500   662.587500   644.800000\n",
       "max     816.680000   816.680000   805.140000"
      ]
     },
     "execution_count": 6,
     "metadata": {},
     "output_type": "execute_result"
    }
   ],
   "source": [
    "data.describe()"
   ]
  },
  {
   "cell_type": "code",
   "execution_count": 7,
   "id": "785a4e1d",
   "metadata": {},
   "outputs": [
    {
     "name": "stderr",
     "output_type": "stream",
     "text": [
      "C:\\Users\\LENOVO\\AppData\\Local\\Temp\\ipykernel_11548\\2627137660.py:1: FutureWarning: The default value of numeric_only in DataFrame.corr is deprecated. In a future version, it will default to False. Select only valid columns or specify the value of numeric_only to silence this warning.\n",
      "  data.corr()\n"
     ]
    },
    {
     "data": {
      "text/html": [
       "<div>\n",
       "<style scoped>\n",
       "    .dataframe tbody tr th:only-of-type {\n",
       "        vertical-align: middle;\n",
       "    }\n",
       "\n",
       "    .dataframe tbody tr th {\n",
       "        vertical-align: top;\n",
       "    }\n",
       "\n",
       "    .dataframe thead th {\n",
       "        text-align: right;\n",
       "    }\n",
       "</style>\n",
       "<table border=\"1\" class=\"dataframe\">\n",
       "  <thead>\n",
       "    <tr style=\"text-align: right;\">\n",
       "      <th></th>\n",
       "      <th>Open</th>\n",
       "      <th>High</th>\n",
       "      <th>Low</th>\n",
       "    </tr>\n",
       "  </thead>\n",
       "  <tbody>\n",
       "    <tr>\n",
       "      <th>Open</th>\n",
       "      <td>1.000000</td>\n",
       "      <td>0.999692</td>\n",
       "      <td>0.999498</td>\n",
       "    </tr>\n",
       "    <tr>\n",
       "      <th>High</th>\n",
       "      <td>0.999692</td>\n",
       "      <td>1.000000</td>\n",
       "      <td>0.999480</td>\n",
       "    </tr>\n",
       "    <tr>\n",
       "      <th>Low</th>\n",
       "      <td>0.999498</td>\n",
       "      <td>0.999480</td>\n",
       "      <td>1.000000</td>\n",
       "    </tr>\n",
       "  </tbody>\n",
       "</table>\n",
       "</div>"
      ],
      "text/plain": [
       "          Open      High       Low\n",
       "Open  1.000000  0.999692  0.999498\n",
       "High  0.999692  1.000000  0.999480\n",
       "Low   0.999498  0.999480  1.000000"
      ]
     },
     "execution_count": 7,
     "metadata": {},
     "output_type": "execute_result"
    }
   ],
   "source": [
    "data.corr()"
   ]
  },
  {
   "cell_type": "code",
   "execution_count": 12,
   "id": "72c6b9b8",
   "metadata": {},
   "outputs": [
    {
     "name": "stderr",
     "output_type": "stream",
     "text": [
      "C:\\Users\\LENOVO\\AppData\\Local\\Temp\\ipykernel_11548\\985150681.py:2: FutureWarning: The default value of numeric_only in DataFrame.corr is deprecated. In a future version, it will default to False. Select only valid columns or specify the value of numeric_only to silence this warning.\n",
      "  sns.heatmap(data.corr(), annot=True, cmap='Greens')\n"
     ]
    },
    {
     "data": {
      "image/png": "[encoded data removed]",
      "text/plain": [
       "<Figure size 600x400 with 2 Axes>"
      ]
     },
     "metadata": {},
     "output_type": "display_data"
    }
   ],
   "source": [
    "plt.figure(figsize=(6,4))\n",
    "sns.heatmap(data.corr(), annot=True, cmap='Greens')\n",
    "plt.show()"
   ]
  },
  {
   "cell_type": "code",
   "execution_count": null,
   "id": "7fcd6dab",
   "metadata": {},
   "outputs": [],
   "source": []
  },
  {
   "cell_type": "markdown",
   "id": "140c1cc0",
   "metadata": {},
   "source": [
    "## Data Preparation"
   ]
  },
  {
   "cell_type": "code",
   "execution_count": 14,
   "id": "4ace10db",
   "metadata": {},
   "outputs": [
    {
     "data": {
      "text/plain": [
       "array([[325.25],\n",
       "       [331.27],\n",
       "       [329.83],\n",
       "       ...,\n",
       "       [793.7 ],\n",
       "       [783.33],\n",
       "       [782.75]])"
      ]
     },
     "execution_count": 14,
     "metadata": {},
     "output_type": "execute_result"
    }
   ],
   "source": [
    "data_set = data.loc[:, ['Open']].values\n",
    "data_set"
   ]
  },
  {
   "cell_type": "code",
   "execution_count": 20,
   "id": "29644039",
   "metadata": {},
   "outputs": [],
   "source": [
    "train = data_set[: len(data_set)-50]\n",
    "test = data_set[len(train):]"
   ]
  },
  {
   "cell_type": "code",
   "execution_count": 21,
   "id": "e3b483b0",
   "metadata": {},
   "outputs": [
    {
     "data": {
      "text/plain": [
       "(1208, 1)"
      ]
     },
     "execution_count": 21,
     "metadata": {},
     "output_type": "execute_result"
    }
   ],
   "source": [
    "train.shape"
   ]
  },
  {
   "cell_type": "code",
   "execution_count": 22,
   "id": "f1ef7834",
   "metadata": {},
   "outputs": [
    {
     "data": {
      "text/plain": [
       "(50, 1)"
      ]
     },
     "execution_count": 22,
     "metadata": {},
     "output_type": "execute_result"
    }
   ],
   "source": [
    "test.shape"
   ]
  },
  {
   "cell_type": "code",
   "execution_count": null,
   "id": "12419df1",
   "metadata": {},
   "outputs": [],
   "source": []
  },
  {
   "cell_type": "code",
   "execution_count": 27,
   "id": "0f4956cd",
   "metadata": {},
   "outputs": [
    {
     "data": {
      "text/plain": [
       "array([[0.08886192],\n",
       "       [0.10045847],\n",
       "       [0.09768454],\n",
       "       ...,\n",
       "       [0.96447835],\n",
       "       [0.97998536],\n",
       "       [1.        ]])"
      ]
     },
     "execution_count": 27,
     "metadata": {},
     "output_type": "execute_result"
    }
   ],
   "source": [
    "## Normaliation with minmaxscaler\n",
    "\n",
    "from sklearn.preprocessing import MinMaxScaler\n",
    "\n",
    "scaler = MinMaxScaler(feature_range=(0,1))\n",
    "train_scaler = scaler.fit_transform(train)\n",
    "train_scaler"
   ]
  },
  {
   "cell_type": "code",
   "execution_count": 28,
   "id": "9b5b0023",
   "metadata": {},
   "outputs": [
    {
     "data": {
      "text/plain": [
       "[<matplotlib.lines.Line2D at 0x2747a4882d0>]"
      ]
     },
     "execution_count": 28,
     "metadata": {},
     "output_type": "execute_result"
    },
    {
     "data": {
      "image/png": "[encoded data removed]",
      "text/plain": [
       "<Figure size 640x480 with 1 Axes>"
      ]
     },
     "metadata": {},
     "output_type": "display_data"
    }
   ],
   "source": [
    "\n",
    "plt.plot(train_scaler)"
   ]
  },
  {
   "cell_type": "code",
   "execution_count": null,
   "id": "a0e30a87",
   "metadata": {},
   "outputs": [],
   "source": []
  },
  {
   "cell_type": "markdown",
   "id": "fea48e60",
   "metadata": {},
   "source": [
    "## createting data structure with 50 timestamps and 1 output"
   ]
  },
  {
   "cell_type": "code",
   "execution_count": 36,
   "id": "45d499fa",
   "metadata": {},
   "outputs": [],
   "source": [
    "X_train = [] \n",
    "Y_train = [] \n",
    "timesteps = 50 \n",
    "\n",
    "for i in range(timesteps, len(train_scaler)): \n",
    "    X_train.append(train_scaler[i - timesteps:i, 0]) \n",
    "    Y_train.append(train_scaler[i,0]) \n",
    "    \n",
    "X_train, Y_train = np.array(X_train), np.array(Y_train) \n",
    "    \n",
    "# reshape \n",
    "X_train = np.reshape(X_train, (X_train.shape[0], X_train.shape[1], 1))"
   ]
  },
  {
   "cell_type": "code",
   "execution_count": 37,
   "id": "e0b8ba1c",
   "metadata": {},
   "outputs": [
    {
     "data": {
      "text/plain": [
       "(1158, 50, 1)"
      ]
     },
     "execution_count": 37,
     "metadata": {},
     "output_type": "execute_result"
    }
   ],
   "source": [
    "X_train.shape"
   ]
  },
  {
   "cell_type": "code",
   "execution_count": 38,
   "id": "8778af14",
   "metadata": {},
   "outputs": [
    {
     "data": {
      "text/plain": [
       "array([[[0.08886192],\n",
       "        [0.10045847],\n",
       "        [0.09768454],\n",
       "        ...,\n",
       "        [0.03806442],\n",
       "        [0.04646325],\n",
       "        [0.05245415]],\n",
       "\n",
       "       [[0.10045847],\n",
       "        [0.09768454],\n",
       "        [0.0948143 ],\n",
       "        ...,\n",
       "        [0.04646325],\n",
       "        [0.05245415],\n",
       "        [0.05399522]],\n",
       "\n",
       "       [[0.09768454],\n",
       "        [0.0948143 ],\n",
       "        [0.08267838],\n",
       "        ...,\n",
       "        [0.05245415],\n",
       "        [0.05399522],\n",
       "        [0.05811758]],\n",
       "\n",
       "       ...,\n",
       "\n",
       "       [[0.9528818 ],\n",
       "        [0.96871629],\n",
       "        [0.96698259],\n",
       "        ...,\n",
       "        [0.97210664],\n",
       "        [0.96721375],\n",
       "        [0.96804207]],\n",
       "\n",
       "       [[0.96871629],\n",
       "        [0.96698259],\n",
       "        [0.97208738],\n",
       "        ...,\n",
       "        [0.96721375],\n",
       "        [0.96804207],\n",
       "        [0.96447835]],\n",
       "\n",
       "       [[0.96698259],\n",
       "        [0.97208738],\n",
       "        [0.9744953 ],\n",
       "        ...,\n",
       "        [0.96804207],\n",
       "        [0.96447835],\n",
       "        [0.97998536]]])"
      ]
     },
     "execution_count": 38,
     "metadata": {},
     "output_type": "execute_result"
    }
   ],
   "source": [
    "X_train"
   ]
  },
  {
   "cell_type": "code",
   "execution_count": 39,
   "id": "6981e697",
   "metadata": {},
   "outputs": [
    {
     "data": {
      "text/plain": [
       "(1158,)"
      ]
     },
     "execution_count": 39,
     "metadata": {},
     "output_type": "execute_result"
    }
   ],
   "source": [
    "Y_train.shape"
   ]
  },
  {
   "cell_type": "code",
   "execution_count": 40,
   "id": "a3d68f65",
   "metadata": {},
   "outputs": [
    {
     "data": {
      "text/plain": [
       "array([0.05399522, 0.05811758, 0.06025582, ..., 0.96447835, 0.97998536,\n",
       "       1.        ])"
      ]
     },
     "execution_count": 40,
     "metadata": {},
     "output_type": "execute_result"
    }
   ],
   "source": [
    "Y_train"
   ]
  },
  {
   "cell_type": "code",
   "execution_count": null,
   "id": "43ea81c9",
   "metadata": {},
   "outputs": [],
   "source": []
  },
  {
   "cell_type": "code",
   "execution_count": 51,
   "id": "34f58248",
   "metadata": {},
   "outputs": [
    {
     "name": "stdout",
     "output_type": "stream",
     "text": [
      "Epoch 1/100\n",
      "37/37 [==============================] - 3s 27ms/step - loss: 0.6590\n",
      "Epoch 2/100\n",
      "37/37 [==============================] - 1s 27ms/step - loss: 0.3495\n",
      "Epoch 3/100\n",
      "37/37 [==============================] - 1s 27ms/step - loss: 0.2599\n",
      "Epoch 4/100\n",
      "37/37 [==============================] - 1s 27ms/step - loss: 0.2255\n",
      "Epoch 5/100\n",
      "37/37 [==============================] - 1s 28ms/step - loss: 0.1725\n",
      "Epoch 6/100\n",
      "37/37 [==============================] - 1s 27ms/step - loss: 0.1616\n",
      "Epoch 7/100\n",
      "37/37 [==============================] - 1s 27ms/step - loss: 0.1398\n",
      "Epoch 8/100\n",
      "37/37 [==============================] - 1s 27ms/step - loss: 0.1201\n",
      "Epoch 9/100\n",
      "37/37 [==============================] - 1s 27ms/step - loss: 0.0994\n",
      "Epoch 10/100\n",
      "37/37 [==============================] - 1s 27ms/step - loss: 0.0804\n",
      "Epoch 11/100\n",
      "37/37 [==============================] - 1s 27ms/step - loss: 0.0706\n",
      "Epoch 12/100\n",
      "37/37 [==============================] - 1s 27ms/step - loss: 0.0649\n",
      "Epoch 13/100\n",
      "37/37 [==============================] - 1s 27ms/step - loss: 0.0558\n",
      "Epoch 14/100\n",
      "37/37 [==============================] - 1s 27ms/step - loss: 0.0520\n",
      "Epoch 15/100\n",
      "37/37 [==============================] - 1s 27ms/step - loss: 0.0471\n",
      "Epoch 16/100\n",
      "37/37 [==============================] - 1s 28ms/step - loss: 0.0446\n",
      "Epoch 17/100\n",
      "37/37 [==============================] - 1s 27ms/step - loss: 0.0392\n",
      "Epoch 18/100\n",
      "37/37 [==============================] - 1s 28ms/step - loss: 0.0339\n",
      "Epoch 19/100\n",
      "37/37 [==============================] - 1s 28ms/step - loss: 0.0305\n",
      "Epoch 20/100\n",
      "37/37 [==============================] - 1s 28ms/step - loss: 0.0290\n",
      "Epoch 21/100\n",
      "37/37 [==============================] - 1s 27ms/step - loss: 0.0274\n",
      "Epoch 22/100\n",
      "37/37 [==============================] - 1s 28ms/step - loss: 0.0247\n",
      "Epoch 23/100\n",
      "37/37 [==============================] - 1s 27ms/step - loss: 0.0225\n",
      "Epoch 24/100\n",
      "37/37 [==============================] - 1s 27ms/step - loss: 0.0217\n",
      "Epoch 25/100\n",
      "37/37 [==============================] - 1s 27ms/step - loss: 0.0215\n",
      "Epoch 26/100\n",
      "37/37 [==============================] - 1s 28ms/step - loss: 0.0181\n",
      "Epoch 27/100\n",
      "37/37 [==============================] - 1s 28ms/step - loss: 0.0169\n",
      "Epoch 28/100\n",
      "37/37 [==============================] - 1s 28ms/step - loss: 0.0150\n",
      "Epoch 29/100\n",
      "37/37 [==============================] - 1s 28ms/step - loss: 0.0152\n",
      "Epoch 30/100\n",
      "37/37 [==============================] - 1s 28ms/step - loss: 0.0139\n",
      "Epoch 31/100\n",
      "37/37 [==============================] - 1s 27ms/step - loss: 0.0136\n",
      "Epoch 32/100\n",
      "37/37 [==============================] - 1s 27ms/step - loss: 0.0126\n",
      "Epoch 33/100\n",
      "37/37 [==============================] - 1s 27ms/step - loss: 0.0123\n",
      "Epoch 34/100\n",
      "37/37 [==============================] - 1s 27ms/step - loss: 0.0120\n",
      "Epoch 35/100\n",
      "37/37 [==============================] - 1s 27ms/step - loss: 0.0108\n",
      "Epoch 36/100\n",
      "37/37 [==============================] - 1s 27ms/step - loss: 0.0108\n",
      "Epoch 37/100\n",
      "37/37 [==============================] - 1s 27ms/step - loss: 0.0100\n",
      "Epoch 38/100\n",
      "37/37 [==============================] - 1s 27ms/step - loss: 0.0093\n",
      "Epoch 39/100\n",
      "37/37 [==============================] - 1s 28ms/step - loss: 0.0083\n",
      "Epoch 40/100\n",
      "37/37 [==============================] - 1s 27ms/step - loss: 0.0092\n",
      "Epoch 41/100\n",
      "37/37 [==============================] - 1s 27ms/step - loss: 0.0082\n",
      "Epoch 42/100\n",
      "37/37 [==============================] - 1s 27ms/step - loss: 0.0083\n",
      "Epoch 43/100\n",
      "37/37 [==============================] - 1s 28ms/step - loss: 0.0080\n",
      "Epoch 44/100\n",
      "37/37 [==============================] - 1s 27ms/step - loss: 0.0082\n",
      "Epoch 45/100\n",
      "37/37 [==============================] - 1s 27ms/step - loss: 0.0072\n",
      "Epoch 46/100\n",
      "37/37 [==============================] - 1s 27ms/step - loss: 0.0078\n",
      "Epoch 47/100\n",
      "37/37 [==============================] - 1s 28ms/step - loss: 0.0068\n",
      "Epoch 48/100\n",
      "37/37 [==============================] - 1s 29ms/step - loss: 0.0062\n",
      "Epoch 49/100\n",
      "37/37 [==============================] - 1s 28ms/step - loss: 0.0058\n",
      "Epoch 50/100\n",
      "37/37 [==============================] - 1s 28ms/step - loss: 0.0063\n",
      "Epoch 51/100\n",
      "37/37 [==============================] - 1s 28ms/step - loss: 0.0053\n",
      "Epoch 52/100\n",
      "37/37 [==============================] - 1s 28ms/step - loss: 0.0062\n",
      "Epoch 53/100\n",
      "37/37 [==============================] - 1s 28ms/step - loss: 0.0052\n",
      "Epoch 54/100\n",
      "37/37 [==============================] - 1s 28ms/step - loss: 0.0053\n",
      "Epoch 55/100\n",
      "37/37 [==============================] - 1s 28ms/step - loss: 0.0055\n",
      "Epoch 56/100\n",
      "37/37 [==============================] - 1s 28ms/step - loss: 0.0048\n",
      "Epoch 57/100\n",
      "37/37 [==============================] - 1s 28ms/step - loss: 0.0053\n",
      "Epoch 58/100\n",
      "37/37 [==============================] - 1s 28ms/step - loss: 0.0053\n",
      "Epoch 59/100\n",
      "37/37 [==============================] - 1s 28ms/step - loss: 0.0049\n",
      "Epoch 60/100\n",
      "37/37 [==============================] - 1s 28ms/step - loss: 0.0045\n",
      "Epoch 61/100\n",
      "37/37 [==============================] - 1s 27ms/step - loss: 0.0046\n",
      "Epoch 62/100\n",
      "37/37 [==============================] - 1s 28ms/step - loss: 0.0051\n",
      "Epoch 63/100\n",
      "37/37 [==============================] - 1s 28ms/step - loss: 0.0042\n",
      "Epoch 64/100\n",
      "37/37 [==============================] - 1s 28ms/step - loss: 0.0045\n",
      "Epoch 65/100\n",
      "37/37 [==============================] - 1s 28ms/step - loss: 0.0045\n",
      "Epoch 66/100\n",
      "37/37 [==============================] - 1s 28ms/step - loss: 0.0042\n",
      "Epoch 67/100\n",
      "37/37 [==============================] - 1s 27ms/step - loss: 0.0042\n",
      "Epoch 68/100\n",
      "37/37 [==============================] - 1s 28ms/step - loss: 0.0039\n",
      "Epoch 69/100\n",
      "37/37 [==============================] - 1s 28ms/step - loss: 0.0041\n",
      "Epoch 70/100\n",
      "37/37 [==============================] - 1s 27ms/step - loss: 0.0041\n",
      "Epoch 71/100\n",
      "37/37 [==============================] - 1s 28ms/step - loss: 0.0040\n",
      "Epoch 72/100\n",
      "37/37 [==============================] - 1s 28ms/step - loss: 0.0036\n",
      "Epoch 73/100\n",
      "37/37 [==============================] - 1s 27ms/step - loss: 0.0036\n",
      "Epoch 74/100\n",
      "37/37 [==============================] - 1s 28ms/step - loss: 0.0038\n",
      "Epoch 75/100\n",
      "37/37 [==============================] - 1s 28ms/step - loss: 0.0035\n",
      "Epoch 76/100\n",
      "37/37 [==============================] - 1s 28ms/step - loss: 0.0036\n",
      "Epoch 77/100\n",
      "37/37 [==============================] - 1s 28ms/step - loss: 0.0036\n",
      "Epoch 78/100\n",
      "37/37 [==============================] - 1s 27ms/step - loss: 0.0030\n",
      "Epoch 79/100\n",
      "37/37 [==============================] - 1s 28ms/step - loss: 0.0033\n",
      "Epoch 80/100\n",
      "37/37 [==============================] - 1s 28ms/step - loss: 0.0030\n",
      "Epoch 81/100\n",
      "37/37 [==============================] - 1s 28ms/step - loss: 0.0031\n",
      "Epoch 82/100\n",
      "37/37 [==============================] - 1s 28ms/step - loss: 0.0035\n",
      "Epoch 83/100\n",
      "37/37 [==============================] - 1s 28ms/step - loss: 0.0030\n",
      "Epoch 84/100\n",
      "37/37 [==============================] - 1s 28ms/step - loss: 0.0030\n",
      "Epoch 85/100\n",
      "37/37 [==============================] - 1s 28ms/step - loss: 0.0030\n",
      "Epoch 86/100\n",
      "37/37 [==============================] - 1s 27ms/step - loss: 0.0032\n",
      "Epoch 87/100\n",
      "37/37 [==============================] - 1s 28ms/step - loss: 0.0033\n",
      "Epoch 88/100\n",
      "37/37 [==============================] - 1s 28ms/step - loss: 0.0029\n",
      "Epoch 89/100\n",
      "37/37 [==============================] - 1s 28ms/step - loss: 0.0027\n",
      "Epoch 90/100\n",
      "37/37 [==============================] - 1s 28ms/step - loss: 0.0029\n",
      "Epoch 91/100\n",
      "37/37 [==============================] - 1s 28ms/step - loss: 0.0029\n",
      "Epoch 92/100\n",
      "37/37 [==============================] - 1s 28ms/step - loss: 0.0025\n",
      "Epoch 93/100\n",
      "37/37 [==============================] - 1s 28ms/step - loss: 0.0027\n",
      "Epoch 94/100\n",
      "37/37 [==============================] - 1s 28ms/step - loss: 0.0028\n",
      "Epoch 95/100\n",
      "37/37 [==============================] - 1s 28ms/step - loss: 0.0028\n",
      "Epoch 96/100\n",
      "37/37 [==============================] - 1s 28ms/step - loss: 0.0027\n",
      "Epoch 97/100\n",
      "37/37 [==============================] - 1s 28ms/step - loss: 0.0031\n",
      "Epoch 98/100\n",
      "37/37 [==============================] - 1s 28ms/step - loss: 0.0025\n",
      "Epoch 99/100\n",
      "37/37 [==============================] - 1s 28ms/step - loss: 0.0025\n",
      "Epoch 100/100\n",
      "37/37 [==============================] - 1s 28ms/step - loss: 0.0025\n"
     ]
    },
    {
     "data": {
      "text/plain": [
       "<keras.callbacks.History at 0x2740f30c710>"
      ]
     },
     "execution_count": 51,
     "metadata": {},
     "output_type": "execute_result"
    }
   ],
   "source": [
    "# Import Library\n",
    "from keras.models import Sequential\n",
    "from keras.layers import Dense, SimpleRNN, Dropout\n",
    "\n",
    "#Initialising the RNN\n",
    "regressor = Sequential()\n",
    "\n",
    "# Add the first RNN layer and some Dropout regularisation\n",
    "regressor.add(SimpleRNN(units=50, activation='tanh', return_sequences=True, input_shape = (X_train.shape[1], 1)))\n",
    "regressor.add(Dropout(0.2))\n",
    "\n",
    "# Add the second RNN layer and some Dropout regularisation\n",
    "regressor.add(SimpleRNN(units=50, activation='tanh', return_sequences=True))\n",
    "regressor.add(Dropout(0.2))\n",
    "\n",
    "# Add the Third RNN layer and some Dropout regularisation\n",
    "regressor.add(SimpleRNN(units=50, activation='tanh', return_sequences=True))\n",
    "regressor.add(Dropout(0.2))\n",
    "\n",
    "# Add the Fourth RNN layer and some Dropout regularisation\n",
    "regressor.add(SimpleRNN(units=50))\n",
    "regressor.add(Dropout(0.2))\n",
    "\n",
    "# Add the o/p layer\n",
    "regressor.add(Dense(units=1))\n",
    "\n",
    "# compiling the RNN\n",
    "regressor.compile(optimizer='adam', loss='mean_squared_error')\n",
    "\n",
    "# Fitting the RNN to the training set\n",
    "regressor.fit(X_train, Y_train, epochs=100, batch_size=32)\n"
   ]
  },
  {
   "cell_type": "code",
   "execution_count": 45,
   "id": "771b988a",
   "metadata": {},
   "outputs": [],
   "source": []
  },
  {
   "cell_type": "code",
   "execution_count": 55,
   "id": "41cbb6be",
   "metadata": {},
   "outputs": [],
   "source": [
    "inputs = data_set[len(data_set) - len(test) - timesteps:]\n",
    "inputs = scaler.transform(inputs)"
   ]
  },
  {
   "cell_type": "code",
   "execution_count": null,
   "id": "bd1aaea1",
   "metadata": {},
   "outputs": [],
   "source": []
  },
  {
   "cell_type": "code",
   "execution_count": 56,
   "id": "02768017",
   "metadata": {},
   "outputs": [
    {
     "name": "stdout",
     "output_type": "stream",
     "text": [
      "2/2 [==============================] - 0s 10ms/step\n"
     ]
    }
   ],
   "source": [
    "X_test = []\n",
    "\n",
    "for i in range(timesteps, inputs.shape[0]):\n",
    "    X_test.append(inputs[i-timesteps: i, 0])\n",
    "    \n",
    "X_test_rnn = np.array(X_test)\n",
    "X_test_rnn = np.reshape(X_test_rnn, (X_test_rnn.shape[0], X_test_rnn.shape[1], 1))\n",
    "\n",
    "predicted_stock_price = regressor.predict(X_test_rnn)\n",
    "predicted_stock_price = scaler.inverse_transform(predicted_stock_price)"
   ]
  },
  {
   "cell_type": "code",
   "execution_count": null,
   "id": "9b0b1100",
   "metadata": {},
   "outputs": [],
   "source": []
  },
  {
   "cell_type": "code",
   "execution_count": 58,
   "id": "b1800a57",
   "metadata": {},
   "outputs": [
    {
     "data": {
      "image/png": "[encoded data removed]",
      "text/plain": [
       "<Figure size 640x480 with 1 Axes>"
      ]
     },
     "metadata": {},
     "output_type": "display_data"
    }
   ],
   "source": [
    "plt.plot(test, color='red', label='Real Google Stock Price')\n",
    "plt.plot(predicted_stock_price, color='blue', label='Predicted Google Stock Price')\n",
    "\n",
    "plt.title('Google stock Prediction')\n",
    "plt.xlabel('time')\n",
    "plt.ylabel('Google stock price')\n",
    "\n",
    "plt.legend()\n",
    "plt.show()"
   ]
  },
  {
   "cell_type": "code",
   "execution_count": null,
   "id": "36c8d8b9",
   "metadata": {},
   "outputs": [],
   "source": []
  },
  {
   "cell_type": "markdown",
   "id": "7bb6c68e",
   "metadata": {},
   "source": [
    "## Predictions and Visualising "
   ]
  },
  {
   "cell_type": "code",
   "execution_count": null,
   "id": "7df577ea",
   "metadata": {},
   "outputs": [],
   "source": []
  },
  {
   "cell_type": "code",
   "execution_count": null,
   "id": "2e09204c",
   "metadata": {},
   "outputs": [],
   "source": []
  },
  {
   "cell_type": "code",
   "execution_count": null,
   "id": "266da11b",
   "metadata": {},
   "outputs": [],
   "source": []
  },
  {
   "cell_type": "code",
   "execution_count": null,
   "id": "9518f840",
   "metadata": {},
   "outputs": [],
   "source": []
  },
  {
   "cell_type": "code",
   "execution_count": null,
   "id": "3fdf976b",
   "metadata": {},
   "outputs": [],
   "source": []
  },
  {
   "cell_type": "code",
   "execution_count": null,
   "id": "30f3fb15",
   "metadata": {},
   "outputs": [],
   "source": []
  },
  {
   "cell_type": "code",
   "execution_count": null,
   "id": "4463750b",
   "metadata": {},
   "outputs": [],
   "source": []
  },
  {
   "cell_type": "code",
   "execution_count": null,
   "id": "f7587a85",
   "metadata": {},
   "outputs": [],
   "source": []
  },
  {
   "cell_type": "code",
   "execution_count": null,
   "id": "dc1359c0",
   "metadata": {},
   "outputs": [],
   "source": []
  }
 ],
 "metadata": {
  "kernelspec": {
   "display_name": "Python 3 (ipykernel)",
   "language": "python",
   "name": "python3"
  },
  "language_info": {
   "codemirror_mode": {
    "name": "ipython",
    "version": 3
   },
   "file_extension": ".py",
   "mimetype": "text/x-python",
   "name": "python",
   "nbconvert_exporter": "python",
   "pygments_lexer": "ipython3",
   "version": "3.11.0"
  }
 },
 "nbformat": 4,
 "nbformat_minor": 5
}
