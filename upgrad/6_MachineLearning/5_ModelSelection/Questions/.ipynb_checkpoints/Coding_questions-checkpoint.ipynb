{
 "cells": [
  {
   "cell_type": "code",
   "execution_count": 7,
   "id": "606f6ed3",
   "metadata": {},
   "outputs": [
    {
     "name": "stdout",
     "output_type": "stream",
     "text": [
      "[1, 2, 3]\n",
      "[4, 5, 6]\n",
      "[7, 8, 9]\n",
      "[1, 2, 3, 4, 5]\n"
     ]
    }
   ],
   "source": [
    "l = [1,2,3,4,5,6,7,8,9]\n",
    "k = 3\n",
    "\n",
    "for i in range(0, len(l), k):\n",
    "    val = l[i: i+k]\n",
    "    print(val)\n",
    "    "
   ]
  },
  {
   "cell_type": "code",
   "execution_count": 23,
   "id": "c719b83e",
   "metadata": {},
   "outputs": [
    {
     "name": "stdout",
     "output_type": "stream",
     "text": [
      "no\n"
     ]
    }
   ],
   "source": [
    "letter = 'ccwd'\n",
    "word = 'crossword'\n",
    "\n",
    "updated_word = word\n",
    "match = 'true'\n",
    "\n",
    "for i in letter:\n",
    "    try:\n",
    "        let_ind = updated_word.index(i)\n",
    "        updated_word = updated_word[let_ind+1:]\n",
    "    except:\n",
    "        print('no')\n",
    "        match = 'false'\n",
    "        break\n",
    "\n",
    "if match == 'true':\n",
    "    print('yes')"
   ]
  },
  {
   "cell_type": "code",
   "execution_count": 26,
   "id": "85e5b7bf",
   "metadata": {},
   "outputs": [
    {
     "name": "stdout",
     "output_type": "stream",
     "text": [
      "['January', 'February', 'March']\n"
     ]
    }
   ],
   "source": [
    "dateStart = [2017,1,1]\n",
    "dateEnd = [2017,3,4]\n",
    "\n",
    "count = 0\n",
    "y1 = dateStart[0]\n",
    "m1 = dateStart[1]\n",
    "d1 = dateStart[2]\n",
    "\n",
    "y2 = dateEnd[0]\n",
    "m2 = dateEnd[1]\n",
    "d2 = dateEnd[2]\n",
    "\n",
    "if y1 > y2:\n",
    "    raise Error(\"first date after second\")\n",
    "elif y1 == y2:\n",
    "    if m1 == m2:\n",
    "        count = 0\n",
    "    elif m2 > m1:\n",
    "        count = m2 - m1\n",
    "    else:\n",
    "        raise Error(\"first date after second\")\n",
    "else:\n",
    "    count = (12 + m2) - m1\n",
    "    if count > 12:\n",
    "        raise Error(\"more than 12 month difference\")\n",
    "    \n",
    "count += 1  # inclusive of the same month\n",
    "\n",
    "import datetime\n",
    "from dateutil.rrule import rrule, MONTHLY\n",
    "\n",
    "date_start = datetime.date(y1, m1, 1)\n",
    "months = [dt.strftime(\"%B\") for dt in rrule(MONTHLY, dtstart=date_start, count=count)]\n",
    "\n",
    "\n",
    "months_sorted = sorted(months, key=lambda m: dt.strptime(m, \"%B\"))\n",
    "print(months_sorted)"
   ]
  },
  {
   "cell_type": "code",
   "execution_count": null,
   "id": "b1d45738",
   "metadata": {},
   "outputs": [],
   "source": []
  },
  {
   "cell_type": "code",
   "execution_count": 24,
   "id": "a62aa146",
   "metadata": {},
   "outputs": [
    {
     "name": "stdout",
     "output_type": "stream",
     "text": [
      "[[1, 2, 3], [4, 5], [6, 7, 8]]\n"
     ]
    }
   ],
   "source": [
    "input_list = [[1,2,3],[],[4,5],[],[],[6,7,8]]\n",
    "new_list = []\n",
    "\n",
    "for i in input_list:\n",
    "    if(len(i) != 0):\n",
    "        new_list.append(i)\n",
    "        \n",
    "print(new_list)"
   ]
  },
  {
   "cell_type": "code",
   "execution_count": null,
   "id": "b5336665",
   "metadata": {},
   "outputs": [],
   "source": []
  },
  {
   "cell_type": "code",
   "execution_count": null,
   "id": "7e8e88b6",
   "metadata": {},
   "outputs": [],
   "source": []
  },
  {
   "cell_type": "code",
   "execution_count": null,
   "id": "da23e231",
   "metadata": {},
   "outputs": [],
   "source": [
    "import datetime\n",
    "import ast,sys\n",
    "input_str = sys.stdin.read()\n",
    "input_list = ast.literal_eval(input_str)\n",
    "dateStart=datetime.date(input_list[0],input_list[1],input_list[2])\n",
    "dateEnd=datetime.date(input_list[3],input_list[4],input_list[5])\n",
    "months = ['January', 'February', 'March', 'April', 'May', 'June', 'July', 'August', 'September', 'October', 'November', 'December']\n",
    "ans = set()\n",
    "while dateStart <= dateEnd:\n",
    "\tans.add(dateStart.month)\n",
    "\tdateStart += datetime.timedelta(1)\n",
    "print([months[x-1] for x in sorted(ans)])"
   ]
  },
  {
   "cell_type": "code",
   "execution_count": null,
   "id": "a60a0580",
   "metadata": {},
   "outputs": [],
   "source": []
  },
  {
   "cell_type": "code",
   "execution_count": null,
   "id": "0448996f",
   "metadata": {},
   "outputs": [],
   "source": []
  },
  {
   "cell_type": "code",
   "execution_count": null,
   "id": "3f46dcd4",
   "metadata": {},
   "outputs": [],
   "source": []
  },
  {
   "cell_type": "code",
   "execution_count": null,
   "id": "682679eb",
   "metadata": {},
   "outputs": [],
   "source": []
  }
 ],
 "metadata": {
  "kernelspec": {
   "display_name": "Python 3 (ipykernel)",
   "language": "python",
   "name": "python3"
  },
  "language_info": {
   "codemirror_mode": {
    "name": "ipython",
    "version": 3
   },
   "file_extension": ".py",
   "mimetype": "text/x-python",
   "name": "python",
   "nbconvert_exporter": "python",
   "pygments_lexer": "ipython3",
   "version": "3.11.0"
  }
 },
 "nbformat": 4,
 "nbformat_minor": 5
}
