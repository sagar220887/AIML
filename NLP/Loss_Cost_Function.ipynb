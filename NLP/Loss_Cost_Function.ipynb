{
 "cells": [
  {
   "cell_type": "markdown",
   "id": "db8c7f64",
   "metadata": {},
   "source": [
    "The `mean sqaure error` allow gradient descent to converge in a better way as compared to `mean absolute Error`"
   ]
  },
  {
   "cell_type": "markdown",
   "id": "de499e23",
   "metadata": {},
   "source": [
    "y = f(x) --> predictin function"
   ]
  },
  {
   "cell_type": "markdown",
   "id": "66e83021",
   "metadata": {},
   "source": [
    "`y = w1*x1 + w2*x2 + b`"
   ]
  },
  {
   "cell_type": "markdown",
   "id": "b5155971",
   "metadata": {},
   "source": [
    "    - start w1 and w2 with some random weights lets say 1\n",
    "    - lets take bias as 0"
   ]
  },
  {
   "cell_type": "markdown",
   "id": "403be9db",
   "metadata": {},
   "source": [
    "## 1. Mean Absolute Error\n",
    "    - taking the weights and bias above u calculate the predicted o/p\n",
    "    - Take the difference of the result y_predicted and y_actual\n",
    "    - Sum of all the errors for all data points\n",
    "    - Take the mean"
   ]
  },
  {
   "cell_type": "markdown",
   "id": "1521f1ec",
   "metadata": {},
   "source": [
    "1. Mean Absolute Error is called the `Cost Function`\n",
    "2. Each individual Loss is call `Loss Function`"
   ]
  },
  {
   "cell_type": "markdown",
   "id": "d06bc124",
   "metadata": {},
   "source": [
    "Single round of all data points - termed as forward pass is called `1 epoch`"
   ]
  },
  {
   "cell_type": "markdown",
   "id": "efef7d44",
   "metadata": {},
   "source": [
    "e1 = (y_actaul-y_predicted)<br>\n",
    "e2 = (y_actaul-y_predicted)\n",
    "\n",
    "MAE = (e1 + e2 + ---)/len(data)"
   ]
  },
  {
   "cell_type": "code",
   "execution_count": null,
   "id": "1339f07b",
   "metadata": {},
   "outputs": [],
   "source": []
  },
  {
   "cell_type": "code",
   "execution_count": 9,
   "id": "196e0e6e",
   "metadata": {},
   "outputs": [],
   "source": [
    "import numpy as np\n",
    "import math"
   ]
  },
  {
   "cell_type": "code",
   "execution_count": 3,
   "id": "82e7ab52",
   "metadata": {},
   "outputs": [],
   "source": [
    "y_predicted = np.array([1,1,0,0,1])\n",
    "y_true = np.array([0.3,0.7,1,0,0.5])"
   ]
  },
  {
   "cell_type": "markdown",
   "id": "360e8890",
   "metadata": {},
   "source": [
    "### Define the loss function - Mean Absolute Error - using PYTHON"
   ]
  },
  {
   "cell_type": "code",
   "execution_count": 20,
   "id": "a6ee6d5f",
   "metadata": {},
   "outputs": [],
   "source": [
    "## Using Python\n",
    "\n",
    "def mae(y_true, y_predicted):\n",
    "    total_error = 0\n",
    "    for yt,yp in zip(y_true, y_predicted):\n",
    "        total_error += abs(yt-yp)\n",
    "    print('total error - ', total_error)\n",
    "    mae = total_error/len(y_true)\n",
    "    print('mae - ', mae)\n",
    "    return mae"
   ]
  },
  {
   "cell_type": "code",
   "execution_count": 21,
   "id": "12c8d219",
   "metadata": {},
   "outputs": [
    {
     "name": "stdout",
     "output_type": "stream",
     "text": [
      "total error -  2.5\n",
      "mae -  0.5\n"
     ]
    },
    {
     "data": {
      "text/plain": [
       "0.5"
      ]
     },
     "execution_count": 21,
     "metadata": {},
     "output_type": "execute_result"
    }
   ],
   "source": [
    "mae(y_true,y_predicted)"
   ]
  },
  {
   "cell_type": "markdown",
   "id": "44566806",
   "metadata": {},
   "source": [
    "### Defining Mean Absolute Error using NUMPY"
   ]
  },
  {
   "cell_type": "code",
   "execution_count": 18,
   "id": "ec582fa8",
   "metadata": {},
   "outputs": [],
   "source": [
    "def np_mae(y_true,y_predicted):\n",
    "    mae = np.mean(np.abs(y_true-y_predicted))\n",
    "    print('mae - ', mae)\n",
    "    return mae"
   ]
  },
  {
   "cell_type": "code",
   "execution_count": 19,
   "id": "84fa4155",
   "metadata": {},
   "outputs": [
    {
     "name": "stdout",
     "output_type": "stream",
     "text": [
      "mae -  0.5\n"
     ]
    },
    {
     "data": {
      "text/plain": [
       "0.5"
      ]
     },
     "execution_count": 19,
     "metadata": {},
     "output_type": "execute_result"
    }
   ],
   "source": [
    "np_mae(y_true,y_predicted)"
   ]
  },
  {
   "cell_type": "code",
   "execution_count": null,
   "id": "7309faef",
   "metadata": {},
   "outputs": [],
   "source": []
  },
  {
   "cell_type": "markdown",
   "id": "f919834a",
   "metadata": {},
   "source": [
    "## 2. MEAN SQAURED ERROR"
   ]
  },
  {
   "cell_type": "code",
   "execution_count": 53,
   "id": "04f2658a",
   "metadata": {},
   "outputs": [],
   "source": [
    "# Using python\n",
    "\n",
    "def mse(y_true, y_predicted):\n",
    "    total_sq_error = 0\n",
    "    \n",
    "    for yt,yp in zip(y_true, y_predicted): \n",
    "        error = yt - yp\n",
    "        error_sq = error**2\n",
    "        total_sq_error += error_sq\n",
    "    print('total_sq_error - ', total_sq_error)\n",
    "    mse = total_sq_error/len(y_true)\n",
    "    print('mse - ', mse)\n",
    "    return mse"
   ]
  },
  {
   "cell_type": "code",
   "execution_count": 47,
   "id": "5b60a90a",
   "metadata": {},
   "outputs": [
    {
     "name": "stdout",
     "output_type": "stream",
     "text": [
      "total_sq_error -  1.83\n",
      "mse -  0.366\n"
     ]
    },
    {
     "data": {
      "text/plain": [
       "0.366"
      ]
     },
     "execution_count": 47,
     "metadata": {},
     "output_type": "execute_result"
    }
   ],
   "source": [
    "mse(y_true, y_predicted)"
   ]
  },
  {
   "cell_type": "code",
   "execution_count": 51,
   "id": "4b3dad99",
   "metadata": {},
   "outputs": [],
   "source": [
    "## using numpy\n",
    "\n",
    "def np_mse(y_true, y_predicted):\n",
    "    value = np.mean((y_true-y_predicted)**2)\n",
    "    print('mse - ', value)\n",
    "    return value\n",
    "    "
   ]
  },
  {
   "cell_type": "code",
   "execution_count": 52,
   "id": "fcf6154b",
   "metadata": {},
   "outputs": [
    {
     "name": "stdout",
     "output_type": "stream",
     "text": [
      "mse -  0.366\n"
     ]
    },
    {
     "data": {
      "text/plain": [
       "0.366"
      ]
     },
     "execution_count": 52,
     "metadata": {},
     "output_type": "execute_result"
    }
   ],
   "source": [
    "np_mse(y_true, y_predicted)"
   ]
  },
  {
   "cell_type": "markdown",
   "id": "fd317c8e",
   "metadata": {},
   "source": [
    "## 3. LogLoss/ BinaryCrossEntropy"
   ]
  },
  {
   "cell_type": "code",
   "execution_count": 22,
   "id": "2418ea29",
   "metadata": {},
   "outputs": [
    {
     "name": "stderr",
     "output_type": "stream",
     "text": [
      "C:\\Users\\LENOVO\\AppData\\Local\\Temp\\ipykernel_3944\\2933082444.py:1: RuntimeWarning: divide by zero encountered in log\n",
      "  np.log(0)\n"
     ]
    },
    {
     "data": {
      "text/plain": [
       "-inf"
      ]
     },
     "execution_count": 22,
     "metadata": {},
     "output_type": "execute_result"
    }
   ],
   "source": [
    "np.log(0) # if we take the log of 0 its infinite"
   ]
  },
  {
   "cell_type": "markdown",
   "id": "4b0510ca",
   "metadata": {},
   "source": [
    "  - if we take the log of 0 its infinite\n",
    "  - We need to convert the 0 values veru close to 0\n",
    "  - Also for the value 1-y_predicted, we need to handle the value 1\n",
    "  - Need to introduce `Epsilon`"
   ]
  },
  {
   "cell_type": "code",
   "execution_count": 23,
   "id": "362dfd5b",
   "metadata": {},
   "outputs": [],
   "source": [
    "epsilon = 1e-15"
   ]
  },
  {
   "cell_type": "code",
   "execution_count": 25,
   "id": "64bafa97",
   "metadata": {},
   "outputs": [
    {
     "data": {
      "text/plain": [
       "array([1, 1, 0, 0, 1])"
      ]
     },
     "execution_count": 25,
     "metadata": {},
     "output_type": "execute_result"
    }
   ],
   "source": [
    "y_predicted"
   ]
  },
  {
   "cell_type": "code",
   "execution_count": 27,
   "id": "4e5e92ce",
   "metadata": {},
   "outputs": [
    {
     "name": "stderr",
     "output_type": "stream",
     "text": [
      "C:\\Users\\LENOVO\\AppData\\Local\\Temp\\ipykernel_3944\\815880036.py:1: RuntimeWarning: divide by zero encountered in log\n",
      "  np.log(y_predicted)\n"
     ]
    },
    {
     "data": {
      "text/plain": [
       "array([  0.,   0., -inf, -inf,   0.])"
      ]
     },
     "execution_count": 27,
     "metadata": {},
     "output_type": "execute_result"
    }
   ],
   "source": [
    "np.log(y_predicted)"
   ]
  },
  {
   "cell_type": "code",
   "execution_count": 31,
   "id": "ea6fd23c",
   "metadata": {},
   "outputs": [
    {
     "data": {
      "text/plain": [
       "[1, 1, 1e-15, 1e-15, 1]"
      ]
     },
     "execution_count": 31,
     "metadata": {},
     "output_type": "execute_result"
    }
   ],
   "source": [
    "## Handling the values 0, log(0) is infinite\n",
    "\n",
    "\n",
    "y_predicted_new = [max(i,epsilon) for i in y_predicted] \n",
    "## if i=0 to avoid the infinite value , we took the max value between 0 and 1e-15, so that log(i) is not infinite\n",
    "\n",
    "y_predicted_new"
   ]
  },
  {
   "cell_type": "code",
   "execution_count": 32,
   "id": "6454f433",
   "metadata": {},
   "outputs": [
    {
     "data": {
      "text/plain": [
       "[0.999999999999999, 0.999999999999999, 1e-15, 1e-15, 0.999999999999999]"
      ]
     },
     "execution_count": 32,
     "metadata": {},
     "output_type": "execute_result"
    }
   ],
   "source": [
    "## Handling the values 1, log(1-1) is infinite\n",
    "\n",
    "y_predicted_new = [min(i,1-epsilon) for i in y_predicted_new] \n",
    "y_predicted_new"
   ]
  },
  {
   "cell_type": "code",
   "execution_count": 34,
   "id": "56f842f1",
   "metadata": {},
   "outputs": [
    {
     "name": "stderr",
     "output_type": "stream",
     "text": [
      "C:\\Users\\LENOVO\\AppData\\Local\\Temp\\ipykernel_3944\\815880036.py:1: RuntimeWarning: divide by zero encountered in log\n",
      "  np.log(y_predicted)\n"
     ]
    },
    {
     "data": {
      "text/plain": [
       "array([  0.,   0., -inf, -inf,   0.])"
      ]
     },
     "execution_count": 34,
     "metadata": {},
     "output_type": "execute_result"
    }
   ],
   "source": [
    "np.log(y_predicted)"
   ]
  },
  {
   "cell_type": "code",
   "execution_count": 33,
   "id": "b79f1ae6",
   "metadata": {},
   "outputs": [
    {
     "data": {
      "text/plain": [
       "array([-9.99200722e-16, -9.99200722e-16, -3.45387764e+01, -3.45387764e+01,\n",
       "       -9.99200722e-16])"
      ]
     },
     "execution_count": 33,
     "metadata": {},
     "output_type": "execute_result"
    }
   ],
   "source": [
    "np.log(y_predicted_new)"
   ]
  },
  {
   "cell_type": "markdown",
   "id": "f4434c62",
   "metadata": {},
   "source": [
    "### logloss = - (y_true*log(y_predicted)  + (1-y_true)* log(1-y_predicted) )/ len(array)"
   ]
  },
  {
   "cell_type": "code",
   "execution_count": 40,
   "id": "3ad3baa1",
   "metadata": {},
   "outputs": [],
   "source": [
    "y_predicted_new = np.array(y_predicted_new)"
   ]
  },
  {
   "cell_type": "code",
   "execution_count": 41,
   "id": "b4f4c3b9",
   "metadata": {},
   "outputs": [
    {
     "data": {
      "text/plain": [
       "array([9.99200722e-16, 9.99200722e-16, 1.00000000e+00, 1.00000000e+00,\n",
       "       9.99200722e-16])"
      ]
     },
     "execution_count": 41,
     "metadata": {},
     "output_type": "execute_result"
    }
   ],
   "source": [
    "1-y_predicted_new"
   ]
  },
  {
   "cell_type": "code",
   "execution_count": 43,
   "id": "c4f981b9",
   "metadata": {},
   "outputs": [
    {
     "data": {
      "text/plain": [
       "17.2696280766844"
      ]
     },
     "execution_count": 43,
     "metadata": {},
     "output_type": "execute_result"
    }
   ],
   "source": [
    "-(np.mean(y_true*np.log(y_predicted_new)  + (1-y_true)*np.log(1-y_predicted_new)))"
   ]
  },
  {
   "cell_type": "code",
   "execution_count": null,
   "id": "dbd9479f",
   "metadata": {},
   "outputs": [],
   "source": []
  },
  {
   "cell_type": "markdown",
   "id": "8868d5c5",
   "metadata": {},
   "source": [
    "### Creating a function"
   ]
  },
  {
   "cell_type": "code",
   "execution_count": 44,
   "id": "b99ef72e",
   "metadata": {},
   "outputs": [],
   "source": [
    "def log_loss(y_true, y_predicted):\n",
    "    y_predicted_new = [max(i, epsilon) for i in y_predicted]\n",
    "    y_predicted_new = [min(i, 1-epsilon) for i in y_predicted_new]\n",
    "    y_predicted_new = np.array(y_predicted_new)\n",
    "    loss_value = -(np.mean(y_true*np.log(y_predicted_new)  + (1-y_true)*np.log(1-y_predicted_new)))\n",
    "    return loss_value"
   ]
  },
  {
   "cell_type": "code",
   "execution_count": 45,
   "id": "011e634d",
   "metadata": {},
   "outputs": [
    {
     "data": {
      "text/plain": [
       "17.2696280766844"
      ]
     },
     "execution_count": 45,
     "metadata": {},
     "output_type": "execute_result"
    }
   ],
   "source": [
    "log_loss(y_true, y_predicted)"
   ]
  },
  {
   "cell_type": "code",
   "execution_count": null,
   "id": "3bf4e99b",
   "metadata": {},
   "outputs": [],
   "source": []
  }
 ],
 "metadata": {
  "kernelspec": {
   "display_name": "Python 3 (ipykernel)",
   "language": "python",
   "name": "python3"
  },
  "language_info": {
   "codemirror_mode": {
    "name": "ipython",
    "version": 3
   },
   "file_extension": ".py",
   "mimetype": "text/x-python",
   "name": "python",
   "nbconvert_exporter": "python",
   "pygments_lexer": "ipython3",
   "version": "3.11.0"
  }
 },
 "nbformat": 4,
 "nbformat_minor": 5
}
