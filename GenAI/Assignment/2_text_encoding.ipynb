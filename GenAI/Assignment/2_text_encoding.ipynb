{
 "cells": [
  {
   "cell_type": "code",
   "execution_count": 37,
   "id": "3587486c",
   "metadata": {},
   "outputs": [],
   "source": [
    "import sklearn\n",
    "from sklearn.feature_extraction.text import CountVectorizer\n",
    "import pandas as pd"
   ]
  },
  {
   "cell_type": "code",
   "execution_count": 38,
   "id": "26e93965",
   "metadata": {},
   "outputs": [],
   "source": [
    "from sklearn.feature_extraction.text import TfidfVectorizer"
   ]
  },
  {
   "cell_type": "markdown",
   "id": "b69f2b4a",
   "metadata": {},
   "source": [
    "## ENCODING\n",
    "\n",
    "- Frequency Based Encoding techniques\n",
    "1. OHE - One Hot Encoding\n",
    "2. BOW - Bag Of Words\n",
    "3. TF-IDF\n",
    "4. n-gram"
   ]
  },
  {
   "cell_type": "markdown",
   "id": "2ca04338",
   "metadata": {},
   "source": [
    "### Loading the clean dataset post text pre-processing"
   ]
  },
  {
   "cell_type": "code",
   "execution_count": 39,
   "id": "2caf20fb",
   "metadata": {},
   "outputs": [
    {
     "data": {
      "text/html": [
       "<div>\n",
       "<style scoped>\n",
       "    .dataframe tbody tr th:only-of-type {\n",
       "        vertical-align: middle;\n",
       "    }\n",
       "\n",
       "    .dataframe tbody tr th {\n",
       "        vertical-align: top;\n",
       "    }\n",
       "\n",
       "    .dataframe thead th {\n",
       "        text-align: right;\n",
       "    }\n",
       "</style>\n",
       "<table border=\"1\" class=\"dataframe\">\n",
       "  <thead>\n",
       "    <tr style=\"text-align: right;\">\n",
       "      <th></th>\n",
       "      <th>clean_review</th>\n",
       "      <th>sentiment</th>\n",
       "    </tr>\n",
       "  </thead>\n",
       "  <tbody>\n",
       "    <tr>\n",
       "      <th>0</th>\n",
       "      <td>one reviewer mention watch oz episode youll ho...</td>\n",
       "      <td>positive</td>\n",
       "    </tr>\n",
       "    <tr>\n",
       "      <th>1</th>\n",
       "      <td>wonderful little production br br film techniq...</td>\n",
       "      <td>positive</td>\n",
       "    </tr>\n",
       "    <tr>\n",
       "      <th>2</th>\n",
       "      <td>think wonderful way spend time hot summer week...</td>\n",
       "      <td>positive</td>\n",
       "    </tr>\n",
       "    <tr>\n",
       "      <th>3</th>\n",
       "      <td>basically there family little boy jake think t...</td>\n",
       "      <td>negative</td>\n",
       "    </tr>\n",
       "    <tr>\n",
       "      <th>4</th>\n",
       "      <td>petter matteis love time money visually stunni...</td>\n",
       "      <td>positive</td>\n",
       "    </tr>\n",
       "  </tbody>\n",
       "</table>\n",
       "</div>"
      ],
      "text/plain": [
       "                                        clean_review sentiment\n",
       "0  one reviewer mention watch oz episode youll ho...  positive\n",
       "1  wonderful little production br br film techniq...  positive\n",
       "2  think wonderful way spend time hot summer week...  positive\n",
       "3  basically there family little boy jake think t...  negative\n",
       "4  petter matteis love time money visually stunni...  positive"
      ]
     },
     "execution_count": 39,
     "metadata": {},
     "output_type": "execute_result"
    }
   ],
   "source": [
    "df_clean_reviews = pd.read_csv('clean_imdb_reviews.csv')\n",
    "df_clean_reviews.head()"
   ]
  },
  {
   "cell_type": "code",
   "execution_count": 40,
   "id": "08de2bd9",
   "metadata": {},
   "outputs": [
    {
     "data": {
      "text/html": [
       "<div>\n",
       "<style scoped>\n",
       "    .dataframe tbody tr th:only-of-type {\n",
       "        vertical-align: middle;\n",
       "    }\n",
       "\n",
       "    .dataframe tbody tr th {\n",
       "        vertical-align: top;\n",
       "    }\n",
       "\n",
       "    .dataframe thead th {\n",
       "        text-align: right;\n",
       "    }\n",
       "</style>\n",
       "<table border=\"1\" class=\"dataframe\">\n",
       "  <thead>\n",
       "    <tr style=\"text-align: right;\">\n",
       "      <th></th>\n",
       "      <th>clean_review</th>\n",
       "      <th>sentiment</th>\n",
       "    </tr>\n",
       "  </thead>\n",
       "  <tbody>\n",
       "    <tr>\n",
       "      <th>0</th>\n",
       "      <td>one reviewer mention watch oz episode youll ho...</td>\n",
       "      <td>positive</td>\n",
       "    </tr>\n",
       "    <tr>\n",
       "      <th>1</th>\n",
       "      <td>wonderful little production br br film techniq...</td>\n",
       "      <td>positive</td>\n",
       "    </tr>\n",
       "    <tr>\n",
       "      <th>2</th>\n",
       "      <td>think wonderful way spend time hot summer week...</td>\n",
       "      <td>positive</td>\n",
       "    </tr>\n",
       "    <tr>\n",
       "      <th>3</th>\n",
       "      <td>basically there family little boy jake think t...</td>\n",
       "      <td>negative</td>\n",
       "    </tr>\n",
       "    <tr>\n",
       "      <th>4</th>\n",
       "      <td>petter matteis love time money visually stunni...</td>\n",
       "      <td>positive</td>\n",
       "    </tr>\n",
       "    <tr>\n",
       "      <th>...</th>\n",
       "      <td>...</td>\n",
       "      <td>...</td>\n",
       "    </tr>\n",
       "    <tr>\n",
       "      <th>95</th>\n",
       "      <td>daniel daylewis versatile actor alive english ...</td>\n",
       "      <td>positive</td>\n",
       "    </tr>\n",
       "    <tr>\n",
       "      <th>96</th>\n",
       "      <td>guess would originally go least two part thus ...</td>\n",
       "      <td>negative</td>\n",
       "    </tr>\n",
       "    <tr>\n",
       "      <th>97</th>\n",
       "      <td>well like watch bad horror bmovies cause think...</td>\n",
       "      <td>negative</td>\n",
       "    </tr>\n",
       "    <tr>\n",
       "      <th>98</th>\n",
       "      <td>bad movie ever see well worst probably ever se...</td>\n",
       "      <td>negative</td>\n",
       "    </tr>\n",
       "    <tr>\n",
       "      <th>99</th>\n",
       "      <td>mario fan long remember fond memory play super...</td>\n",
       "      <td>positive</td>\n",
       "    </tr>\n",
       "  </tbody>\n",
       "</table>\n",
       "<p>100 rows × 2 columns</p>\n",
       "</div>"
      ],
      "text/plain": [
       "                                         clean_review sentiment\n",
       "0   one reviewer mention watch oz episode youll ho...  positive\n",
       "1   wonderful little production br br film techniq...  positive\n",
       "2   think wonderful way spend time hot summer week...  positive\n",
       "3   basically there family little boy jake think t...  negative\n",
       "4   petter matteis love time money visually stunni...  positive\n",
       "..                                                ...       ...\n",
       "95  daniel daylewis versatile actor alive english ...  positive\n",
       "96  guess would originally go least two part thus ...  negative\n",
       "97  well like watch bad horror bmovies cause think...  negative\n",
       "98  bad movie ever see well worst probably ever se...  negative\n",
       "99  mario fan long remember fond memory play super...  positive\n",
       "\n",
       "[100 rows x 2 columns]"
      ]
     },
     "execution_count": 40,
     "metadata": {},
     "output_type": "execute_result"
    }
   ],
   "source": [
    "## Creating a subset of dataset\n",
    "no_of_rows = 100\n",
    "df_review_subset = df_clean_reviews[:no_of_rows]\n",
    "df_review_subset"
   ]
  },
  {
   "cell_type": "markdown",
   "id": "a0033ab5",
   "metadata": {},
   "source": [
    "### 1. OHE - One Hot Encoding"
   ]
  },
  {
   "cell_type": "code",
   "execution_count": 41,
   "id": "d3e2ebb1",
   "metadata": {},
   "outputs": [],
   "source": [
    "df_ohe = pd.get_dummies(data=df_review_subset['sentiment'], prefix='sentiment')"
   ]
  },
  {
   "cell_type": "code",
   "execution_count": 42,
   "id": "87cc2620",
   "metadata": {},
   "outputs": [],
   "source": [
    "df_encoded = pd.concat([df_review_subset, df_ohe], axis=1)"
   ]
  },
  {
   "cell_type": "code",
   "execution_count": 43,
   "id": "ec4b3df6",
   "metadata": {},
   "outputs": [],
   "source": [
    "df_encoded.drop('sentiment', axis=1, inplace=True)"
   ]
  },
  {
   "cell_type": "code",
   "execution_count": 44,
   "id": "6f471d89",
   "metadata": {},
   "outputs": [
    {
     "data": {
      "text/html": [
       "<div>\n",
       "<style scoped>\n",
       "    .dataframe tbody tr th:only-of-type {\n",
       "        vertical-align: middle;\n",
       "    }\n",
       "\n",
       "    .dataframe tbody tr th {\n",
       "        vertical-align: top;\n",
       "    }\n",
       "\n",
       "    .dataframe thead th {\n",
       "        text-align: right;\n",
       "    }\n",
       "</style>\n",
       "<table border=\"1\" class=\"dataframe\">\n",
       "  <thead>\n",
       "    <tr style=\"text-align: right;\">\n",
       "      <th></th>\n",
       "      <th>clean_review</th>\n",
       "      <th>sentiment_negative</th>\n",
       "      <th>sentiment_positive</th>\n",
       "    </tr>\n",
       "  </thead>\n",
       "  <tbody>\n",
       "    <tr>\n",
       "      <th>0</th>\n",
       "      <td>one reviewer mention watch oz episode youll ho...</td>\n",
       "      <td>0</td>\n",
       "      <td>1</td>\n",
       "    </tr>\n",
       "    <tr>\n",
       "      <th>1</th>\n",
       "      <td>wonderful little production br br film techniq...</td>\n",
       "      <td>0</td>\n",
       "      <td>1</td>\n",
       "    </tr>\n",
       "    <tr>\n",
       "      <th>2</th>\n",
       "      <td>think wonderful way spend time hot summer week...</td>\n",
       "      <td>0</td>\n",
       "      <td>1</td>\n",
       "    </tr>\n",
       "    <tr>\n",
       "      <th>3</th>\n",
       "      <td>basically there family little boy jake think t...</td>\n",
       "      <td>1</td>\n",
       "      <td>0</td>\n",
       "    </tr>\n",
       "    <tr>\n",
       "      <th>4</th>\n",
       "      <td>petter matteis love time money visually stunni...</td>\n",
       "      <td>0</td>\n",
       "      <td>1</td>\n",
       "    </tr>\n",
       "  </tbody>\n",
       "</table>\n",
       "</div>"
      ],
      "text/plain": [
       "                                        clean_review  sentiment_negative  \\\n",
       "0  one reviewer mention watch oz episode youll ho...                   0   \n",
       "1  wonderful little production br br film techniq...                   0   \n",
       "2  think wonderful way spend time hot summer week...                   0   \n",
       "3  basically there family little boy jake think t...                   1   \n",
       "4  petter matteis love time money visually stunni...                   0   \n",
       "\n",
       "   sentiment_positive  \n",
       "0                   1  \n",
       "1                   1  \n",
       "2                   1  \n",
       "3                   0  \n",
       "4                   1  "
      ]
     },
     "execution_count": 44,
     "metadata": {},
     "output_type": "execute_result"
    }
   ],
   "source": [
    "df_encoded.head()"
   ]
  },
  {
   "cell_type": "code",
   "execution_count": null,
   "id": "4b3544f2",
   "metadata": {},
   "outputs": [],
   "source": []
  },
  {
   "cell_type": "markdown",
   "id": "bc207760",
   "metadata": {},
   "source": [
    "### 2. BOW - Bag Of Words"
   ]
  },
  {
   "cell_type": "code",
   "execution_count": 45,
   "id": "5da364f0",
   "metadata": {},
   "outputs": [],
   "source": [
    "# creating function to get BOW\n",
    "\n",
    "def perform_bow_encoding(df, column_name, n_gram=1):\n",
    "    BOW = CountVectorizer(ngram_range=(n_gram, n_gram))\n",
    "    document_matrix = BOW.fit_transform(df[column_name])\n",
    "    features = BOW.get_feature_names_out()\n",
    "    print('Features - \\n', features)\n",
    "    \n",
    "    # converting word frequency vectors into dataframe\n",
    "    word_freq_df = pd.DataFrame(document_matrix.toarray(), columns=features)\n",
    "    \n",
    "    # concatenate word frequency with dataframe\n",
    "    df_encoded = pd.concat([df, word_freq_df], axis=1)\n",
    "    \n",
    "    # drop the original column clean_review\n",
    "    df_encoded.drop(column_name, axis=1, inplace=True)\n",
    "    \n",
    "    return df_encoded\n",
    "    \n",
    "    "
   ]
  },
  {
   "cell_type": "code",
   "execution_count": 46,
   "id": "1bf2dac0",
   "metadata": {},
   "outputs": [
    {
     "name": "stdout",
     "output_type": "stream",
     "text": [
      "Features - \n",
      " ['abbot' 'abbreviated' 'abet' ... 'zoo' 'zoom' 'zwick']\n"
     ]
    }
   ],
   "source": [
    "df_bow = perform_bow_encoding(df_review_subset, 'clean_review')\n",
    "df_bow.head(1)"
   ]
  },
  {
   "cell_type": "code",
   "execution_count": null,
   "id": "08be52b7",
   "metadata": {},
   "outputs": [],
   "source": []
  },
  {
   "cell_type": "code",
   "execution_count": null,
   "id": "a2a82e78",
   "metadata": {},
   "outputs": [],
   "source": []
  },
  {
   "cell_type": "markdown",
   "id": "07c291be",
   "metadata": {},
   "source": [
    "### bi-gram"
   ]
  },
  {
   "cell_type": "code",
   "execution_count": 48,
   "id": "9f557099",
   "metadata": {},
   "outputs": [
    {
     "name": "stdout",
     "output_type": "stream",
     "text": [
      "Features - \n",
      " ['abbot impersonate' 'abbreviated storyline' 'abet superior' ...\n",
      " 'zoo nothing' 'zoom grainy' 'zwick shame']\n"
     ]
    },
    {
     "data": {
      "text/html": [
       "<div>\n",
       "<style scoped>\n",
       "    .dataframe tbody tr th:only-of-type {\n",
       "        vertical-align: middle;\n",
       "    }\n",
       "\n",
       "    .dataframe tbody tr th {\n",
       "        vertical-align: top;\n",
       "    }\n",
       "\n",
       "    .dataframe thead th {\n",
       "        text-align: right;\n",
       "    }\n",
       "</style>\n",
       "<table border=\"1\" class=\"dataframe\">\n",
       "  <thead>\n",
       "    <tr style=\"text-align: right;\">\n",
       "      <th></th>\n",
       "      <th>sentiment</th>\n",
       "      <th>abbot impersonate</th>\n",
       "      <th>abbreviated storyline</th>\n",
       "      <th>abet superior</th>\n",
       "      <th>abetted mother</th>\n",
       "      <th>abide citizen</th>\n",
       "      <th>abide inoffensive</th>\n",
       "      <th>ability shoot</th>\n",
       "      <th>able make</th>\n",
       "      <th>able stand</th>\n",
       "      <th>...</th>\n",
       "      <th>zellweger help</th>\n",
       "      <th>zerog monkeymidgetcrocodile</th>\n",
       "      <th>zeus follower</th>\n",
       "      <th>zeus hera</th>\n",
       "      <th>zombie closet</th>\n",
       "      <th>zombiebr br</th>\n",
       "      <th>zone gun</th>\n",
       "      <th>zoo nothing</th>\n",
       "      <th>zoom grainy</th>\n",
       "      <th>zwick shame</th>\n",
       "    </tr>\n",
       "  </thead>\n",
       "  <tbody>\n",
       "    <tr>\n",
       "      <th>0</th>\n",
       "      <td>positive</td>\n",
       "      <td>0</td>\n",
       "      <td>0</td>\n",
       "      <td>0</td>\n",
       "      <td>0</td>\n",
       "      <td>0</td>\n",
       "      <td>0</td>\n",
       "      <td>0</td>\n",
       "      <td>0</td>\n",
       "      <td>0</td>\n",
       "      <td>...</td>\n",
       "      <td>0</td>\n",
       "      <td>0</td>\n",
       "      <td>0</td>\n",
       "      <td>0</td>\n",
       "      <td>0</td>\n",
       "      <td>0</td>\n",
       "      <td>0</td>\n",
       "      <td>0</td>\n",
       "      <td>0</td>\n",
       "      <td>0</td>\n",
       "    </tr>\n",
       "    <tr>\n",
       "      <th>1</th>\n",
       "      <td>positive</td>\n",
       "      <td>0</td>\n",
       "      <td>0</td>\n",
       "      <td>0</td>\n",
       "      <td>0</td>\n",
       "      <td>0</td>\n",
       "      <td>0</td>\n",
       "      <td>0</td>\n",
       "      <td>0</td>\n",
       "      <td>0</td>\n",
       "      <td>...</td>\n",
       "      <td>0</td>\n",
       "      <td>0</td>\n",
       "      <td>0</td>\n",
       "      <td>0</td>\n",
       "      <td>0</td>\n",
       "      <td>0</td>\n",
       "      <td>0</td>\n",
       "      <td>0</td>\n",
       "      <td>0</td>\n",
       "      <td>0</td>\n",
       "    </tr>\n",
       "  </tbody>\n",
       "</table>\n",
       "<p>2 rows × 11422 columns</p>\n",
       "</div>"
      ],
      "text/plain": [
       "  sentiment  abbot impersonate  abbreviated storyline  abet superior  \\\n",
       "0  positive                  0                      0              0   \n",
       "1  positive                  0                      0              0   \n",
       "\n",
       "   abetted mother  abide citizen  abide inoffensive  ability shoot  able make  \\\n",
       "0               0              0                  0              0          0   \n",
       "1               0              0                  0              0          0   \n",
       "\n",
       "   able stand  ...  zellweger help  zerog monkeymidgetcrocodile  \\\n",
       "0           0  ...               0                            0   \n",
       "1           0  ...               0                            0   \n",
       "\n",
       "   zeus follower  zeus hera  zombie closet  zombiebr br  zone gun  \\\n",
       "0              0          0              0            0         0   \n",
       "1              0          0              0            0         0   \n",
       "\n",
       "   zoo nothing  zoom grainy  zwick shame  \n",
       "0            0            0            0  \n",
       "1            0            0            0  \n",
       "\n",
       "[2 rows x 11422 columns]"
      ]
     },
     "execution_count": 48,
     "metadata": {},
     "output_type": "execute_result"
    }
   ],
   "source": [
    "df_bow_bigram = perform_bow_encoding(df_review_subset, 'clean_review', 2)\n",
    "df_bow_bigram.head(2)"
   ]
  },
  {
   "cell_type": "code",
   "execution_count": null,
   "id": "50156c1e",
   "metadata": {},
   "outputs": [],
   "source": []
  },
  {
   "cell_type": "markdown",
   "id": "58aa9e91",
   "metadata": {},
   "source": [
    "### tri-gram"
   ]
  },
  {
   "cell_type": "code",
   "execution_count": 49,
   "id": "8c0d3d8e",
   "metadata": {},
   "outputs": [
    {
     "name": "stdout",
     "output_type": "stream",
     "text": [
      "Features - \n",
      " ['abbot impersonate disappointed' 'abbreviated storyline never'\n",
      " 'abet superior script' ... 'zoo nothing sit' 'zoom grainy black'\n",
      " 'zwick shame however']\n"
     ]
    },
    {
     "data": {
      "text/html": [
       "<div>\n",
       "<style scoped>\n",
       "    .dataframe tbody tr th:only-of-type {\n",
       "        vertical-align: middle;\n",
       "    }\n",
       "\n",
       "    .dataframe tbody tr th {\n",
       "        vertical-align: top;\n",
       "    }\n",
       "\n",
       "    .dataframe thead th {\n",
       "        text-align: right;\n",
       "    }\n",
       "</style>\n",
       "<table border=\"1\" class=\"dataframe\">\n",
       "  <thead>\n",
       "    <tr style=\"text-align: right;\">\n",
       "      <th></th>\n",
       "      <th>sentiment</th>\n",
       "      <th>abbot impersonate disappointed</th>\n",
       "      <th>abbreviated storyline never</th>\n",
       "      <th>abet superior script</th>\n",
       "      <th>abetted mother brady</th>\n",
       "      <th>abide citizen know</th>\n",
       "      <th>abide inoffensive insurance</th>\n",
       "      <th>ability shoot gun</th>\n",
       "      <th>able make fun</th>\n",
       "      <th>able stand wrong</th>\n",
       "      <th>...</th>\n",
       "      <th>zellweger help ada</th>\n",
       "      <th>zerog monkeymidgetcrocodile bloodshedbr</th>\n",
       "      <th>zeus follower believe</th>\n",
       "      <th>zeus hera war</th>\n",
       "      <th>zombie closet parent</th>\n",
       "      <th>zombiebr br ok</th>\n",
       "      <th>zone gun rifle</th>\n",
       "      <th>zoo nothing sit</th>\n",
       "      <th>zoom grainy black</th>\n",
       "      <th>zwick shame however</th>\n",
       "    </tr>\n",
       "  </thead>\n",
       "  <tbody>\n",
       "    <tr>\n",
       "      <th>0</th>\n",
       "      <td>positive</td>\n",
       "      <td>0</td>\n",
       "      <td>0</td>\n",
       "      <td>0</td>\n",
       "      <td>0</td>\n",
       "      <td>0</td>\n",
       "      <td>0</td>\n",
       "      <td>0</td>\n",
       "      <td>0</td>\n",
       "      <td>0</td>\n",
       "      <td>...</td>\n",
       "      <td>0</td>\n",
       "      <td>0</td>\n",
       "      <td>0</td>\n",
       "      <td>0</td>\n",
       "      <td>0</td>\n",
       "      <td>0</td>\n",
       "      <td>0</td>\n",
       "      <td>0</td>\n",
       "      <td>0</td>\n",
       "      <td>0</td>\n",
       "    </tr>\n",
       "    <tr>\n",
       "      <th>1</th>\n",
       "      <td>positive</td>\n",
       "      <td>0</td>\n",
       "      <td>0</td>\n",
       "      <td>0</td>\n",
       "      <td>0</td>\n",
       "      <td>0</td>\n",
       "      <td>0</td>\n",
       "      <td>0</td>\n",
       "      <td>0</td>\n",
       "      <td>0</td>\n",
       "      <td>...</td>\n",
       "      <td>0</td>\n",
       "      <td>0</td>\n",
       "      <td>0</td>\n",
       "      <td>0</td>\n",
       "      <td>0</td>\n",
       "      <td>0</td>\n",
       "      <td>0</td>\n",
       "      <td>0</td>\n",
       "      <td>0</td>\n",
       "      <td>0</td>\n",
       "    </tr>\n",
       "  </tbody>\n",
       "</table>\n",
       "<p>2 rows × 11991 columns</p>\n",
       "</div>"
      ],
      "text/plain": [
       "  sentiment  abbot impersonate disappointed  abbreviated storyline never  \\\n",
       "0  positive                               0                            0   \n",
       "1  positive                               0                            0   \n",
       "\n",
       "   abet superior script  abetted mother brady  abide citizen know  \\\n",
       "0                     0                     0                   0   \n",
       "1                     0                     0                   0   \n",
       "\n",
       "   abide inoffensive insurance  ability shoot gun  able make fun  \\\n",
       "0                            0                  0              0   \n",
       "1                            0                  0              0   \n",
       "\n",
       "   able stand wrong  ...  zellweger help ada  \\\n",
       "0                 0  ...                   0   \n",
       "1                 0  ...                   0   \n",
       "\n",
       "   zerog monkeymidgetcrocodile bloodshedbr  zeus follower believe  \\\n",
       "0                                        0                      0   \n",
       "1                                        0                      0   \n",
       "\n",
       "   zeus hera war  zombie closet parent  zombiebr br ok  zone gun rifle  \\\n",
       "0              0                     0               0               0   \n",
       "1              0                     0               0               0   \n",
       "\n",
       "   zoo nothing sit  zoom grainy black  zwick shame however  \n",
       "0                0                  0                    0  \n",
       "1                0                  0                    0  \n",
       "\n",
       "[2 rows x 11991 columns]"
      ]
     },
     "execution_count": 49,
     "metadata": {},
     "output_type": "execute_result"
    }
   ],
   "source": [
    "df_bow_trigram = perform_bow_encoding(df_review_subset, 'clean_review', 3)\n",
    "df_bow_trigram.head(2)"
   ]
  },
  {
   "cell_type": "markdown",
   "id": "3349bf69",
   "metadata": {},
   "source": [
    "### n-gram"
   ]
  },
  {
   "cell_type": "code",
   "execution_count": 50,
   "id": "db6a4567",
   "metadata": {},
   "outputs": [
    {
     "name": "stdout",
     "output_type": "stream",
     "text": [
      "Features - \n",
      " ['abbot impersonate disappointed teach'\n",
      " 'abbreviated storyline never completely' 'abet superior script john' ...\n",
      " 'zoo nothing sit water' 'zoom grainy black white'\n",
      " 'zwick shame however cold']\n"
     ]
    },
    {
     "data": {
      "text/html": [
       "<div>\n",
       "<style scoped>\n",
       "    .dataframe tbody tr th:only-of-type {\n",
       "        vertical-align: middle;\n",
       "    }\n",
       "\n",
       "    .dataframe tbody tr th {\n",
       "        vertical-align: top;\n",
       "    }\n",
       "\n",
       "    .dataframe thead th {\n",
       "        text-align: right;\n",
       "    }\n",
       "</style>\n",
       "<table border=\"1\" class=\"dataframe\">\n",
       "  <thead>\n",
       "    <tr style=\"text-align: right;\">\n",
       "      <th></th>\n",
       "      <th>sentiment</th>\n",
       "      <th>abbot impersonate disappointed teach</th>\n",
       "      <th>abbreviated storyline never completely</th>\n",
       "      <th>abet superior script john</th>\n",
       "      <th>abetted mother brady arrange</th>\n",
       "      <th>abide citizen know director</th>\n",
       "      <th>abide inoffensive insurance adjusterbr</th>\n",
       "      <th>ability shoot gun jimmy</th>\n",
       "      <th>able make fun plain</th>\n",
       "      <th>able stand wrong first</th>\n",
       "      <th>...</th>\n",
       "      <th>zellweger help ada put</th>\n",
       "      <th>zerog monkeymidgetcrocodile bloodshedbr br</th>\n",
       "      <th>zeus follower believe movie</th>\n",
       "      <th>zeus hera war male</th>\n",
       "      <th>zombie closet parent fight</th>\n",
       "      <th>zombiebr br ok first</th>\n",
       "      <th>zone gun rifle hand</th>\n",
       "      <th>zoo nothing sit water</th>\n",
       "      <th>zoom grainy black white</th>\n",
       "      <th>zwick shame however cold</th>\n",
       "    </tr>\n",
       "  </thead>\n",
       "  <tbody>\n",
       "    <tr>\n",
       "      <th>0</th>\n",
       "      <td>positive</td>\n",
       "      <td>0</td>\n",
       "      <td>0</td>\n",
       "      <td>0</td>\n",
       "      <td>0</td>\n",
       "      <td>0</td>\n",
       "      <td>0</td>\n",
       "      <td>0</td>\n",
       "      <td>0</td>\n",
       "      <td>0</td>\n",
       "      <td>...</td>\n",
       "      <td>0</td>\n",
       "      <td>0</td>\n",
       "      <td>0</td>\n",
       "      <td>0</td>\n",
       "      <td>0</td>\n",
       "      <td>0</td>\n",
       "      <td>0</td>\n",
       "      <td>0</td>\n",
       "      <td>0</td>\n",
       "      <td>0</td>\n",
       "    </tr>\n",
       "    <tr>\n",
       "      <th>1</th>\n",
       "      <td>positive</td>\n",
       "      <td>0</td>\n",
       "      <td>0</td>\n",
       "      <td>0</td>\n",
       "      <td>0</td>\n",
       "      <td>0</td>\n",
       "      <td>0</td>\n",
       "      <td>0</td>\n",
       "      <td>0</td>\n",
       "      <td>0</td>\n",
       "      <td>...</td>\n",
       "      <td>0</td>\n",
       "      <td>0</td>\n",
       "      <td>0</td>\n",
       "      <td>0</td>\n",
       "      <td>0</td>\n",
       "      <td>0</td>\n",
       "      <td>0</td>\n",
       "      <td>0</td>\n",
       "      <td>0</td>\n",
       "      <td>0</td>\n",
       "    </tr>\n",
       "  </tbody>\n",
       "</table>\n",
       "<p>2 rows × 11926 columns</p>\n",
       "</div>"
      ],
      "text/plain": [
       "  sentiment  abbot impersonate disappointed teach  \\\n",
       "0  positive                                     0   \n",
       "1  positive                                     0   \n",
       "\n",
       "   abbreviated storyline never completely  abet superior script john  \\\n",
       "0                                       0                          0   \n",
       "1                                       0                          0   \n",
       "\n",
       "   abetted mother brady arrange  abide citizen know director  \\\n",
       "0                             0                            0   \n",
       "1                             0                            0   \n",
       "\n",
       "   abide inoffensive insurance adjusterbr  ability shoot gun jimmy  \\\n",
       "0                                       0                        0   \n",
       "1                                       0                        0   \n",
       "\n",
       "   able make fun plain  able stand wrong first  ...  zellweger help ada put  \\\n",
       "0                    0                       0  ...                       0   \n",
       "1                    0                       0  ...                       0   \n",
       "\n",
       "   zerog monkeymidgetcrocodile bloodshedbr br  zeus follower believe movie  \\\n",
       "0                                           0                            0   \n",
       "1                                           0                            0   \n",
       "\n",
       "   zeus hera war male  zombie closet parent fight  zombiebr br ok first  \\\n",
       "0                   0                           0                     0   \n",
       "1                   0                           0                     0   \n",
       "\n",
       "   zone gun rifle hand  zoo nothing sit water  zoom grainy black white  \\\n",
       "0                    0                      0                        0   \n",
       "1                    0                      0                        0   \n",
       "\n",
       "   zwick shame however cold  \n",
       "0                         0  \n",
       "1                         0  \n",
       "\n",
       "[2 rows x 11926 columns]"
      ]
     },
     "execution_count": 50,
     "metadata": {},
     "output_type": "execute_result"
    }
   ],
   "source": [
    "df_bow_4_gram = perform_bow_encoding(df_review_subset, 'clean_review', 4)\n",
    "df_bow_4_gram.head(2)"
   ]
  },
  {
   "cell_type": "code",
   "execution_count": null,
   "id": "ec2156c1",
   "metadata": {},
   "outputs": [],
   "source": []
  },
  {
   "cell_type": "code",
   "execution_count": null,
   "id": "229a4d62",
   "metadata": {},
   "outputs": [],
   "source": []
  },
  {
   "cell_type": "markdown",
   "id": "74935d25",
   "metadata": {},
   "source": [
    "### TF-IDF"
   ]
  },
  {
   "cell_type": "code",
   "execution_count": 51,
   "id": "75b64165",
   "metadata": {},
   "outputs": [],
   "source": [
    "# function to perform tf-idf\n",
    "\n",
    "def perform_tfidf_encoding(df, column):\n",
    "    tfidf=TfidfVectorizer()\n",
    "\n",
    "    tfidf.fit_transform(df[column]).toarray()\n",
    "    print(tfidf.get_feature_names_out())\n",
    "\n",
    "    print(tfidf.idf_)"
   ]
  },
  {
   "cell_type": "code",
   "execution_count": 52,
   "id": "edd9c1d8",
   "metadata": {},
   "outputs": [
    {
     "name": "stdout",
     "output_type": "stream",
     "text": [
      "['abbot' 'abbreviated' 'abet' ... 'zoo' 'zoom' 'zwick']\n",
      "[4.92197334 4.92197334 4.92197334 ... 4.92197334 4.92197334 4.92197334]\n"
     ]
    }
   ],
   "source": [
    "perform_tfidf_encoding(df_review_subset,  'clean_review')"
   ]
  },
  {
   "cell_type": "code",
   "execution_count": null,
   "id": "31ecedb4",
   "metadata": {},
   "outputs": [],
   "source": []
  },
  {
   "cell_type": "code",
   "execution_count": null,
   "id": "a5d61f1f",
   "metadata": {},
   "outputs": [],
   "source": []
  },
  {
   "cell_type": "code",
   "execution_count": null,
   "id": "0e437592",
   "metadata": {},
   "outputs": [],
   "source": []
  },
  {
   "cell_type": "code",
   "execution_count": null,
   "id": "d1b0efca",
   "metadata": {},
   "outputs": [],
   "source": []
  },
  {
   "cell_type": "markdown",
   "id": "0fa6b118",
   "metadata": {},
   "source": [
    "## OHE"
   ]
  },
  {
   "cell_type": "markdown",
   "id": "56e9935f",
   "metadata": {},
   "source": [
    "### Advantages\n",
    "<b>1. Preservation of Information </b>: One-hot encoding preserves all the information present in the categorical variable. Each category is represented by a binary vector where only one element is '1' (hot) and the rest are '0' (cold), indicating the absence of that category.\n",
    "\n",
    "<b>2. No Assumption of Ordinality</b>: One-hot encoding treats each category as distinct and unrelated to each other. This is particularly useful when there is no inherent order or ranking among the categories. For example, when encoding colors or product categories.\n",
    "\n",
    "<b>3. Compatibility with Machine Learning Algorithms</b>: Many machine learning algorithms, especially those based on numerical computations like linear regression, logistic regression, and neural networks, require numerical input. One-hot encoding transforms categorical variables into a numerical format that these algorithms can handle.\n",
    "\n",
    "<b>4. Handling of Missing Values</b>: One-hot encoding can naturally handle missing values in categorical variables. If a categorical value is missing, all elements of the corresponding one-hot encoded vector will be '0', indicating the absence of that category.\n",
    "\n",
    "<b>5. Interpretability</b>: One-hot encoding makes the data more interpretable, especially when inspecting the feature importance or coefficients of a model. Each binary feature represents the presence or absence of a specific category, making it easier to understand the contribution of each category to the prediction.\n",
    "\n",
    "<b>6. Avoidance of Bias</b>: One-hot encoding avoids introducing bias by not assuming any ordinal relationship between categories. This ensures that the model treats all categories equally and does not inadvertently assign higher weights to certain categories based on their encoded values."
   ]
  },
  {
   "cell_type": "markdown",
   "id": "fde7cf97",
   "metadata": {},
   "source": [
    "### Dis-advantages\n",
    "\n",
    "<b>1. Dimensionality Expansion</b>: One-hot encoding increases the dimensionality of the dataset significantly, especially when dealing with categorical variables with a large number of unique categories. This can lead to the curse of dimensionality, making the dataset more sparse and increasing computational complexity.\n",
    "\n",
    "<b>2. Memory and Storage Requirements</b>: The increase in dimensionality due to one-hot encoding results in larger memory and storage requirements, as each binary feature adds to the overall size of the dataset. This can become impractical for datasets with a large number of categorical variables or categories.\n",
    "\n",
    "<b>3. Collinearity Issues</b>: One-hot encoding can introduce collinearity among the encoded features, where certain combinations of binary features are highly correlated. This can negatively impact the performance of some machine learning algorithms, such as linear models, which assume independence among features.\n",
    "\n",
    "<b>4. Loss of Semantic Information</b>: One-hot encoding treats each category as independent and unrelated, disregarding any inherent semantic relationships or similarities between categories. As a result, it may not capture meaningful associations between related categories, potentially leading to loss of information.\n",
    "\n",
    "<b>5. Sparse Representation</b>: One-hot encoding produces sparse matrices with mostly '0' values, except for the '1' values corresponding to the presence of specific categories. Sparse representations can be less memory-efficient and may require specialized algorithms for processing.\n",
    "\n",
    "<b>6. Curse of Dimensionality</b>: The curse of dimensionality refers to the phenomenon where the volume of the feature space increases exponentially with the number of dimensions. One-hot encoding exacerbates this issue by expanding the feature space, potentially leading to overfitting and increased model complexity.\n",
    "\n",
    "<b>7. Difficulty in Handling New Categories</b>: One-hot encoding requires predefined category mappings, which means that it may encounter difficulties when dealing with new categories not present in the training data. In such cases, additional preprocessing steps are needed to handle unseen categories."
   ]
  },
  {
   "cell_type": "code",
   "execution_count": null,
   "id": "f9b10257",
   "metadata": {},
   "outputs": [],
   "source": []
  },
  {
   "cell_type": "markdown",
   "id": "bcd94511",
   "metadata": {},
   "source": [
    "## Bag Of Words"
   ]
  },
  {
   "cell_type": "markdown",
   "id": "c47efb50",
   "metadata": {},
   "source": [
    "### Advantages:\n",
    "\n",
    "<b>1. Simplicity</b>: The BoW model is straightforward to understand and implement. It represents text data as a matrix where each row corresponds to a document and each column corresponds to a unique word in the corpus.\n",
    "\n",
    "<b>2. Flexibility</b>: The BoW model can be used with various text preprocessing techniques, such as tokenization, stemming, and stop word removal. This flexibility allows researchers to customize the model according to their specific needs.\n",
    "\n",
    "<b>3. Efficiency</b>: BoW representations are efficient to compute and store, especially for sparse matrices where most elements are zeros. This makes BoW suitable for large text datasets and scalable to high-dimensional feature spaces.\n",
    "\n",
    "<b>4. Interpretability</b>: BoW representations are interpretable, as each feature corresponds to a specific word or term in the vocabulary. This makes it easier to understand the importance of individual words in the text data and interpret the model's predictions.\n",
    "\n",
    "<b>5. Versatility</b>: BoW representations can be used with a wide range of machine learning algorithms, including linear models, decision trees, and ensemble methods. This versatility makes BoW applicable to various NLP tasks, such as sentiment analysis, document classification, and information retrieval.\n",
    "\n",
    "### Disadvantages:\n",
    "\n",
    "<b>1. Loss of Sequence Information</b>: The BoW model disregards the order and context of words in the text data, treating each document as an unordered collection of words. This results in a loss of sequential information, which may be important for tasks like text generation and language modeling.\n",
    "\n",
    "<b>2. Sparsity</b>: BoW representations often result in high-dimensional and sparse feature vectors, especially for large vocabularies and datasets. This can lead to increased computational complexity and memory requirements, as well as challenges with overfitting.\n",
    "\n",
    "<b>3. Vocabulary Size</b>: The size of the vocabulary in the BoW model can grow significantly with the size of the corpus, resulting in large feature spaces and potential difficulties with handling out-of-vocabulary words.\n",
    "\n",
    "<b>4. Semantic Ambiguity</b>: BoW representations may struggle to capture the semantic meaning of words and phrases, especially in cases of polysemy (multiple meanings) and synonymy (multiple words with similar meanings). This can lead to ambiguities and inaccuracies in the model's predictions.\n",
    "\n",
    "<b>5. Ignoring Word Frequency</b>: The BoW model treats all words as equally important and disregards differences in word frequency and importance. This can lead to suboptimal representations, especially for tasks where word frequency or importance is relevant, such as keyword extraction and topic modeling."
   ]
  },
  {
   "cell_type": "code",
   "execution_count": null,
   "id": "6bcc3936",
   "metadata": {},
   "outputs": [],
   "source": []
  },
  {
   "cell_type": "markdown",
   "id": "434b96fc",
   "metadata": {},
   "source": [
    "## TF-IDF"
   ]
  },
  {
   "cell_type": "markdown",
   "id": "fa32e929",
   "metadata": {},
   "source": [
    "### Advantages:\n",
    "\n",
    "<b>1. Term Importance</b>: TF-IDF measures the importance of a term in a document relative to its importance in the entire corpus. Terms that appear frequently in a document but infrequently in the corpus are assigned higher weights, indicating their significance in representing the document's content.\n",
    "\n",
    "<b>2. Normalization</b>: TF-IDF normalizes term frequencies by taking into account the inverse document frequency, which helps mitigate the influence of commonly occurring terms across documents. This normalization ensures that the representation is robust to variations in document length and corpus size.\n",
    "\n",
    "<b>3. Discriminative Power</b>: TF-IDF emphasizes terms that are discriminative or characteristic of specific documents, making it well-suited for tasks like document classification, clustering, and information retrieval. It helps distinguish between documents based on their unique content and topics.\n",
    "\n",
    "<b>4. Sparse Representation</b>: TF-IDF produces sparse feature vectors where most elements are zeros, similar to the Bag of Words (BoW) model. This sparsity makes the representation memory-efficient and computationally tractable, especially for large text datasets with extensive vocabularies.\n",
    "\n",
    "<b>5. Interpretability</b>: TF-IDF representations are interpretable, as each feature corresponds to a specific term in the vocabulary. This makes it easier to understand the importance of individual terms in the text data and interpret the model's predictions.\n",
    "\n",
    "<b>6. Versatility</b>: TF-IDF can be combined with various text preprocessing techniques, such as tokenization, stemming, and stop word removal, to customize the representation according to specific requirements. It can also be used with a wide range of machine learning algorithms, making it applicable to diverse NLP tasks.\n",
    "\n",
    "### Disadvantages:\n",
    "\n",
    "<b>1. Lack of Context</b>: Like the Bag of Words (BoW) model, TF-IDF disregards the order and context of terms in the text data, treating each document as an unordered collection of terms. This may result in a loss of sequential information, especially for tasks that require modeling word sequences, such as text generation and language modeling.\n",
    "\n",
    "<b>2. Vocabulary Size</b>: The size of the vocabulary in the TF-IDF model can grow significantly with the size of the corpus, resulting in large feature spaces and potential difficulties with handling out-of-vocabulary terms. This can increase computational complexity and memory requirements, especially for datasets with extensive vocabularies.\n",
    "\n",
    "<b>3. Sensitivity to Stop Words</b>: TF-IDF may be sensitive to the presence of stop words, which are common words that often appear in documents but may not carry significant semantic meaning (e.g., \"the,\" \"and,\" \"of\"). Depending on the task and dataset, it may be necessary to customize the stop word list or apply additional preprocessing steps to address this sensitivity.\n",
    "\n",
    "<b>4. Semantic Ambiguity</b>: TF-IDF may struggle to capture the semantic meaning of terms, especially in cases of polysemy (multiple meanings) and synonymy (multiple terms with similar meanings). This can lead to ambiguities and inaccuracies in the model's predictions, especially for tasks that require understanding semantic relationships between terms.\n",
    "\n",
    "<b>5. Difficulty with Rare Terms</b>: TF-IDF may assign low weights to rare terms that appear in only a few documents, which may be informative or important for specific tasks. This can result in underrepresentation of rare terms in the model's representation, potentially affecting performance on tasks like document similarity and clustering."
   ]
  },
  {
   "cell_type": "code",
   "execution_count": null,
   "id": "5ca482a2",
   "metadata": {},
   "outputs": [],
   "source": []
  },
  {
   "cell_type": "code",
   "execution_count": null,
   "id": "9fbb7f73",
   "metadata": {},
   "outputs": [],
   "source": []
  },
  {
   "cell_type": "code",
   "execution_count": null,
   "id": "94bcc2eb",
   "metadata": {},
   "outputs": [],
   "source": []
  },
  {
   "cell_type": "code",
   "execution_count": null,
   "id": "29addb99",
   "metadata": {},
   "outputs": [],
   "source": []
  },
  {
   "cell_type": "code",
   "execution_count": null,
   "id": "6baaf8ae",
   "metadata": {},
   "outputs": [],
   "source": []
  },
  {
   "cell_type": "code",
   "execution_count": null,
   "id": "7911c057",
   "metadata": {},
   "outputs": [],
   "source": []
  },
  {
   "cell_type": "code",
   "execution_count": null,
   "id": "9c56faaa",
   "metadata": {},
   "outputs": [],
   "source": []
  },
  {
   "cell_type": "code",
   "execution_count": null,
   "id": "8b94b0fc",
   "metadata": {},
   "outputs": [],
   "source": []
  },
  {
   "cell_type": "code",
   "execution_count": null,
   "id": "e93d2ed3",
   "metadata": {},
   "outputs": [],
   "source": []
  },
  {
   "cell_type": "code",
   "execution_count": null,
   "id": "82d87fcf",
   "metadata": {},
   "outputs": [],
   "source": []
  },
  {
   "cell_type": "code",
   "execution_count": null,
   "id": "c529ffc7",
   "metadata": {},
   "outputs": [],
   "source": []
  }
 ],
 "metadata": {
  "kernelspec": {
   "display_name": "Python 3 (ipykernel)",
   "language": "python",
   "name": "python3"
  },
  "language_info": {
   "codemirror_mode": {
    "name": "ipython",
    "version": 3
   },
   "file_extension": ".py",
   "mimetype": "text/x-python",
   "name": "python",
   "nbconvert_exporter": "python",
   "pygments_lexer": "ipython3",
   "version": "3.11.0"
  }
 },
 "nbformat": 4,
 "nbformat_minor": 5
}
